{
 "cells": [
  {
   "cell_type": "code",
   "execution_count": 1,
   "id": "caafb82c",
   "metadata": {
    "_cell_guid": "b1076dfc-b9ad-4769-8c92-a6c4dae69d19",
    "_uuid": "8f2839f25d086af736a60e9eeb907d3b93b6e0e5",
    "execution": {
     "iopub.execute_input": "2023-04-05T08:52:14.983949Z",
     "iopub.status.busy": "2023-04-05T08:52:14.983492Z",
     "iopub.status.idle": "2023-04-05T08:52:15.004921Z",
     "shell.execute_reply": "2023-04-05T08:52:15.003284Z"
    },
    "papermill": {
     "duration": 0.039034,
     "end_time": "2023-04-05T08:52:15.007745",
     "exception": false,
     "start_time": "2023-04-05T08:52:14.968711",
     "status": "completed"
    },
    "tags": []
   },
   "outputs": [
    {
     "name": "stdout",
     "output_type": "stream",
     "text": [
      "/kaggle/input/cereals-dataset/cereal.csv\n"
     ]
    }
   ],
   "source": [
    "# This Python 3 environment comes with many helpful analytics libraries installed\n",
    "# It is defined by the kaggle/python Docker image: https://github.com/kaggle/docker-python\n",
    "# For example, here's several helpful packages to load\n",
    "\n",
    "import numpy as np # linear algebra\n",
    "import pandas as pd # data processing, CSV file I/O (e.g. pd.read_csv)\n",
    "\n",
    "# Input data files are available in the read-only \"../input/\" directory\n",
    "# For example, running this (by clicking run or pressing Shift+Enter) will list all files under the input directory\n",
    "\n",
    "import os\n",
    "for dirname, _, filenames in os.walk('/kaggle/input'):\n",
    "    for filename in filenames:\n",
    "        print(os.path.join(dirname, filename))\n",
    "\n",
    "# You can write up to 20GB to the current directory (/kaggle/working/) that gets preserved as output when you create a version using \"Save & Run All\" \n",
    "# You can also write temporary files to /kaggle/temp/, but they won't be saved outside of the current session"
   ]
  },
  {
   "cell_type": "code",
   "execution_count": 2,
   "id": "3d0432bf",
   "metadata": {
    "execution": {
     "iopub.execute_input": "2023-04-05T08:52:15.032646Z",
     "iopub.status.busy": "2023-04-05T08:52:15.031927Z",
     "iopub.status.idle": "2023-04-05T08:52:15.036229Z",
     "shell.execute_reply": "2023-04-05T08:52:15.035342Z"
    },
    "papermill": {
     "duration": 0.019513,
     "end_time": "2023-04-05T08:52:15.038659",
     "exception": false,
     "start_time": "2023-04-05T08:52:15.019146",
     "status": "completed"
    },
    "tags": []
   },
   "outputs": [],
   "source": [
    "import pandas as pd\n",
    "import numpy as np"
   ]
  },
  {
   "cell_type": "code",
   "execution_count": 3,
   "id": "50f0ef1f",
   "metadata": {
    "execution": {
     "iopub.execute_input": "2023-04-05T08:52:15.064102Z",
     "iopub.status.busy": "2023-04-05T08:52:15.063389Z",
     "iopub.status.idle": "2023-04-05T08:52:15.081351Z",
     "shell.execute_reply": "2023-04-05T08:52:15.079818Z"
    },
    "papermill": {
     "duration": 0.034256,
     "end_time": "2023-04-05T08:52:15.084399",
     "exception": false,
     "start_time": "2023-04-05T08:52:15.050143",
     "status": "completed"
    },
    "tags": []
   },
   "outputs": [],
   "source": [
    "df=pd.read_csv('/kaggle/input/cereals-dataset/cereal.csv')"
   ]
  },
  {
   "cell_type": "code",
   "execution_count": 4,
   "id": "409d5dfc",
   "metadata": {
    "execution": {
     "iopub.execute_input": "2023-04-05T08:52:15.110469Z",
     "iopub.status.busy": "2023-04-05T08:52:15.110019Z",
     "iopub.status.idle": "2023-04-05T08:52:15.147715Z",
     "shell.execute_reply": "2023-04-05T08:52:15.146330Z"
    },
    "papermill": {
     "duration": 0.053072,
     "end_time": "2023-04-05T08:52:15.150619",
     "exception": false,
     "start_time": "2023-04-05T08:52:15.097547",
     "status": "completed"
    },
    "tags": []
   },
   "outputs": [
    {
     "data": {
      "text/html": [
       "<div>\n",
       "<style scoped>\n",
       "    .dataframe tbody tr th:only-of-type {\n",
       "        vertical-align: middle;\n",
       "    }\n",
       "\n",
       "    .dataframe tbody tr th {\n",
       "        vertical-align: top;\n",
       "    }\n",
       "\n",
       "    .dataframe thead th {\n",
       "        text-align: right;\n",
       "    }\n",
       "</style>\n",
       "<table border=\"1\" class=\"dataframe\">\n",
       "  <thead>\n",
       "    <tr style=\"text-align: right;\">\n",
       "      <th></th>\n",
       "      <th>name</th>\n",
       "      <th>mfr</th>\n",
       "      <th>type</th>\n",
       "      <th>calories</th>\n",
       "      <th>protein</th>\n",
       "      <th>fat</th>\n",
       "      <th>sodium</th>\n",
       "      <th>fiber</th>\n",
       "      <th>carbo</th>\n",
       "      <th>sugars</th>\n",
       "      <th>potass</th>\n",
       "      <th>vitamins</th>\n",
       "      <th>shelf</th>\n",
       "      <th>weight</th>\n",
       "      <th>cups</th>\n",
       "      <th>rating</th>\n",
       "    </tr>\n",
       "  </thead>\n",
       "  <tbody>\n",
       "    <tr>\n",
       "      <th>0</th>\n",
       "      <td>100% Bran</td>\n",
       "      <td>N</td>\n",
       "      <td>C</td>\n",
       "      <td>70</td>\n",
       "      <td>4</td>\n",
       "      <td>1</td>\n",
       "      <td>130</td>\n",
       "      <td>10.0</td>\n",
       "      <td>5.0</td>\n",
       "      <td>6</td>\n",
       "      <td>280</td>\n",
       "      <td>25</td>\n",
       "      <td>3</td>\n",
       "      <td>1.0</td>\n",
       "      <td>0.33</td>\n",
       "      <td>68.402973</td>\n",
       "    </tr>\n",
       "    <tr>\n",
       "      <th>1</th>\n",
       "      <td>100% Natural Bran</td>\n",
       "      <td>Q</td>\n",
       "      <td>C</td>\n",
       "      <td>120</td>\n",
       "      <td>3</td>\n",
       "      <td>5</td>\n",
       "      <td>15</td>\n",
       "      <td>2.0</td>\n",
       "      <td>8.0</td>\n",
       "      <td>8</td>\n",
       "      <td>135</td>\n",
       "      <td>0</td>\n",
       "      <td>3</td>\n",
       "      <td>1.0</td>\n",
       "      <td>1.00</td>\n",
       "      <td>33.983679</td>\n",
       "    </tr>\n",
       "    <tr>\n",
       "      <th>2</th>\n",
       "      <td>All-Bran</td>\n",
       "      <td>K</td>\n",
       "      <td>C</td>\n",
       "      <td>70</td>\n",
       "      <td>4</td>\n",
       "      <td>1</td>\n",
       "      <td>260</td>\n",
       "      <td>9.0</td>\n",
       "      <td>7.0</td>\n",
       "      <td>5</td>\n",
       "      <td>320</td>\n",
       "      <td>25</td>\n",
       "      <td>3</td>\n",
       "      <td>1.0</td>\n",
       "      <td>0.33</td>\n",
       "      <td>59.425505</td>\n",
       "    </tr>\n",
       "    <tr>\n",
       "      <th>3</th>\n",
       "      <td>All-Bran with Extra Fiber</td>\n",
       "      <td>K</td>\n",
       "      <td>C</td>\n",
       "      <td>50</td>\n",
       "      <td>4</td>\n",
       "      <td>0</td>\n",
       "      <td>140</td>\n",
       "      <td>14.0</td>\n",
       "      <td>8.0</td>\n",
       "      <td>0</td>\n",
       "      <td>330</td>\n",
       "      <td>25</td>\n",
       "      <td>3</td>\n",
       "      <td>1.0</td>\n",
       "      <td>0.50</td>\n",
       "      <td>93.704912</td>\n",
       "    </tr>\n",
       "    <tr>\n",
       "      <th>4</th>\n",
       "      <td>Almond Delight</td>\n",
       "      <td>R</td>\n",
       "      <td>C</td>\n",
       "      <td>110</td>\n",
       "      <td>2</td>\n",
       "      <td>2</td>\n",
       "      <td>200</td>\n",
       "      <td>1.0</td>\n",
       "      <td>14.0</td>\n",
       "      <td>8</td>\n",
       "      <td>-1</td>\n",
       "      <td>25</td>\n",
       "      <td>3</td>\n",
       "      <td>1.0</td>\n",
       "      <td>0.75</td>\n",
       "      <td>34.384843</td>\n",
       "    </tr>\n",
       "  </tbody>\n",
       "</table>\n",
       "</div>"
      ],
      "text/plain": [
       "                        name mfr type  calories  protein  fat  sodium  fiber  \\\n",
       "0                  100% Bran   N    C        70        4    1     130   10.0   \n",
       "1          100% Natural Bran   Q    C       120        3    5      15    2.0   \n",
       "2                   All-Bran   K    C        70        4    1     260    9.0   \n",
       "3  All-Bran with Extra Fiber   K    C        50        4    0     140   14.0   \n",
       "4             Almond Delight   R    C       110        2    2     200    1.0   \n",
       "\n",
       "   carbo  sugars  potass  vitamins  shelf  weight  cups     rating  \n",
       "0    5.0       6     280        25      3     1.0  0.33  68.402973  \n",
       "1    8.0       8     135         0      3     1.0  1.00  33.983679  \n",
       "2    7.0       5     320        25      3     1.0  0.33  59.425505  \n",
       "3    8.0       0     330        25      3     1.0  0.50  93.704912  \n",
       "4   14.0       8      -1        25      3     1.0  0.75  34.384843  "
      ]
     },
     "execution_count": 4,
     "metadata": {},
     "output_type": "execute_result"
    }
   ],
   "source": [
    "df.head(5)"
   ]
  },
  {
   "cell_type": "code",
   "execution_count": 5,
   "id": "2fa081d0",
   "metadata": {
    "execution": {
     "iopub.execute_input": "2023-04-05T08:52:15.175630Z",
     "iopub.status.busy": "2023-04-05T08:52:15.175221Z",
     "iopub.status.idle": "2023-04-05T08:52:15.203113Z",
     "shell.execute_reply": "2023-04-05T08:52:15.201922Z"
    },
    "papermill": {
     "duration": 0.043544,
     "end_time": "2023-04-05T08:52:15.205698",
     "exception": false,
     "start_time": "2023-04-05T08:52:15.162154",
     "status": "completed"
    },
    "tags": []
   },
   "outputs": [
    {
     "data": {
      "text/html": [
       "<div>\n",
       "<style scoped>\n",
       "    .dataframe tbody tr th:only-of-type {\n",
       "        vertical-align: middle;\n",
       "    }\n",
       "\n",
       "    .dataframe tbody tr th {\n",
       "        vertical-align: top;\n",
       "    }\n",
       "\n",
       "    .dataframe thead th {\n",
       "        text-align: right;\n",
       "    }\n",
       "</style>\n",
       "<table border=\"1\" class=\"dataframe\">\n",
       "  <thead>\n",
       "    <tr style=\"text-align: right;\">\n",
       "      <th></th>\n",
       "      <th>name</th>\n",
       "      <th>calories</th>\n",
       "      <th>protein</th>\n",
       "      <th>fat</th>\n",
       "      <th>sodium</th>\n",
       "      <th>fiber</th>\n",
       "      <th>carbo</th>\n",
       "      <th>sugars</th>\n",
       "      <th>potass</th>\n",
       "      <th>vitamins</th>\n",
       "      <th>weight</th>\n",
       "      <th>rating</th>\n",
       "    </tr>\n",
       "  </thead>\n",
       "  <tbody>\n",
       "    <tr>\n",
       "      <th>9</th>\n",
       "      <td>Bran Flakes</td>\n",
       "      <td>90</td>\n",
       "      <td>3</td>\n",
       "      <td>0</td>\n",
       "      <td>210</td>\n",
       "      <td>5.0</td>\n",
       "      <td>13.0</td>\n",
       "      <td>5</td>\n",
       "      <td>190</td>\n",
       "      <td>25</td>\n",
       "      <td>1.0</td>\n",
       "      <td>53.313813</td>\n",
       "    </tr>\n",
       "    <tr>\n",
       "      <th>41</th>\n",
       "      <td>Life</td>\n",
       "      <td>100</td>\n",
       "      <td>4</td>\n",
       "      <td>2</td>\n",
       "      <td>150</td>\n",
       "      <td>2.0</td>\n",
       "      <td>12.0</td>\n",
       "      <td>6</td>\n",
       "      <td>95</td>\n",
       "      <td>25</td>\n",
       "      <td>1.0</td>\n",
       "      <td>45.328074</td>\n",
       "    </tr>\n",
       "    <tr>\n",
       "      <th>69</th>\n",
       "      <td>Total Corn Flakes</td>\n",
       "      <td>110</td>\n",
       "      <td>2</td>\n",
       "      <td>1</td>\n",
       "      <td>200</td>\n",
       "      <td>0.0</td>\n",
       "      <td>21.0</td>\n",
       "      <td>3</td>\n",
       "      <td>35</td>\n",
       "      <td>100</td>\n",
       "      <td>1.0</td>\n",
       "      <td>38.839746</td>\n",
       "    </tr>\n",
       "    <tr>\n",
       "      <th>42</th>\n",
       "      <td>Lucky Charms</td>\n",
       "      <td>110</td>\n",
       "      <td>2</td>\n",
       "      <td>1</td>\n",
       "      <td>180</td>\n",
       "      <td>0.0</td>\n",
       "      <td>12.0</td>\n",
       "      <td>12</td>\n",
       "      <td>55</td>\n",
       "      <td>25</td>\n",
       "      <td>1.0</td>\n",
       "      <td>26.734515</td>\n",
       "    </tr>\n",
       "    <tr>\n",
       "      <th>33</th>\n",
       "      <td>Grape-Nuts</td>\n",
       "      <td>110</td>\n",
       "      <td>3</td>\n",
       "      <td>0</td>\n",
       "      <td>170</td>\n",
       "      <td>3.0</td>\n",
       "      <td>17.0</td>\n",
       "      <td>3</td>\n",
       "      <td>90</td>\n",
       "      <td>25</td>\n",
       "      <td>1.0</td>\n",
       "      <td>53.371007</td>\n",
       "    </tr>\n",
       "    <tr>\n",
       "      <th>73</th>\n",
       "      <td>Trix</td>\n",
       "      <td>110</td>\n",
       "      <td>1</td>\n",
       "      <td>1</td>\n",
       "      <td>140</td>\n",
       "      <td>0.0</td>\n",
       "      <td>13.0</td>\n",
       "      <td>12</td>\n",
       "      <td>25</td>\n",
       "      <td>25</td>\n",
       "      <td>1.0</td>\n",
       "      <td>27.753301</td>\n",
       "    </tr>\n",
       "    <tr>\n",
       "      <th>66</th>\n",
       "      <td>Smacks</td>\n",
       "      <td>110</td>\n",
       "      <td>2</td>\n",
       "      <td>1</td>\n",
       "      <td>70</td>\n",
       "      <td>1.0</td>\n",
       "      <td>9.0</td>\n",
       "      <td>15</td>\n",
       "      <td>40</td>\n",
       "      <td>25</td>\n",
       "      <td>1.0</td>\n",
       "      <td>31.230054</td>\n",
       "    </tr>\n",
       "    <tr>\n",
       "      <th>53</th>\n",
       "      <td>Product 19</td>\n",
       "      <td>100</td>\n",
       "      <td>3</td>\n",
       "      <td>0</td>\n",
       "      <td>320</td>\n",
       "      <td>1.0</td>\n",
       "      <td>20.0</td>\n",
       "      <td>3</td>\n",
       "      <td>45</td>\n",
       "      <td>100</td>\n",
       "      <td>1.0</td>\n",
       "      <td>41.503540</td>\n",
       "    </tr>\n",
       "    <tr>\n",
       "      <th>75</th>\n",
       "      <td>Wheaties</td>\n",
       "      <td>100</td>\n",
       "      <td>3</td>\n",
       "      <td>1</td>\n",
       "      <td>200</td>\n",
       "      <td>3.0</td>\n",
       "      <td>17.0</td>\n",
       "      <td>3</td>\n",
       "      <td>110</td>\n",
       "      <td>25</td>\n",
       "      <td>1.0</td>\n",
       "      <td>51.592193</td>\n",
       "    </tr>\n",
       "    <tr>\n",
       "      <th>10</th>\n",
       "      <td>Cap'n'Crunch</td>\n",
       "      <td>120</td>\n",
       "      <td>1</td>\n",
       "      <td>2</td>\n",
       "      <td>220</td>\n",
       "      <td>0.0</td>\n",
       "      <td>12.0</td>\n",
       "      <td>12</td>\n",
       "      <td>35</td>\n",
       "      <td>25</td>\n",
       "      <td>1.0</td>\n",
       "      <td>18.042851</td>\n",
       "    </tr>\n",
       "  </tbody>\n",
       "</table>\n",
       "</div>"
      ],
      "text/plain": [
       "                 name  calories  protein  fat  sodium  fiber  carbo  sugars  \\\n",
       "9         Bran Flakes        90        3    0     210    5.0   13.0       5   \n",
       "41               Life       100        4    2     150    2.0   12.0       6   \n",
       "69  Total Corn Flakes       110        2    1     200    0.0   21.0       3   \n",
       "42       Lucky Charms       110        2    1     180    0.0   12.0      12   \n",
       "33         Grape-Nuts       110        3    0     170    3.0   17.0       3   \n",
       "73               Trix       110        1    1     140    0.0   13.0      12   \n",
       "66             Smacks       110        2    1      70    1.0    9.0      15   \n",
       "53         Product 19       100        3    0     320    1.0   20.0       3   \n",
       "75           Wheaties       100        3    1     200    3.0   17.0       3   \n",
       "10       Cap'n'Crunch       120        1    2     220    0.0   12.0      12   \n",
       "\n",
       "    potass  vitamins  weight     rating  \n",
       "9      190        25     1.0  53.313813  \n",
       "41      95        25     1.0  45.328074  \n",
       "69      35       100     1.0  38.839746  \n",
       "42      55        25     1.0  26.734515  \n",
       "33      90        25     1.0  53.371007  \n",
       "73      25        25     1.0  27.753301  \n",
       "66      40        25     1.0  31.230054  \n",
       "53      45       100     1.0  41.503540  \n",
       "75     110        25     1.0  51.592193  \n",
       "10      35        25     1.0  18.042851  "
      ]
     },
     "execution_count": 5,
     "metadata": {},
     "output_type": "execute_result"
    }
   ],
   "source": [
    "# droping few variables ['shelf','cups','rating']\n",
    "df.drop(['shelf','cups','mfr','type'] , axis=1 , inplace=True)\n",
    "df.sample(10)"
   ]
  },
  {
   "cell_type": "code",
   "execution_count": 6,
   "id": "88381ff2",
   "metadata": {
    "execution": {
     "iopub.execute_input": "2023-04-05T08:52:15.231487Z",
     "iopub.status.busy": "2023-04-05T08:52:15.230741Z",
     "iopub.status.idle": "2023-04-05T08:52:15.240002Z",
     "shell.execute_reply": "2023-04-05T08:52:15.239017Z"
    },
    "papermill": {
     "duration": 0.025036,
     "end_time": "2023-04-05T08:52:15.242648",
     "exception": false,
     "start_time": "2023-04-05T08:52:15.217612",
     "status": "completed"
    },
    "tags": []
   },
   "outputs": [],
   "source": [
    "# remove the name from the data but before that let us store into pd series \n",
    "labels = df['name'] # storing name seprately \n",
    "df.drop(['name'], axis = 1, inplace = True) # dropping name from the data frame "
   ]
  },
  {
   "cell_type": "code",
   "execution_count": 7,
   "id": "257ea040",
   "metadata": {
    "execution": {
     "iopub.execute_input": "2023-04-05T08:52:15.268469Z",
     "iopub.status.busy": "2023-04-05T08:52:15.267998Z",
     "iopub.status.idle": "2023-04-05T08:52:15.277846Z",
     "shell.execute_reply": "2023-04-05T08:52:15.276447Z"
    },
    "papermill": {
     "duration": 0.025986,
     "end_time": "2023-04-05T08:52:15.280285",
     "exception": false,
     "start_time": "2023-04-05T08:52:15.254299",
     "status": "completed"
    },
    "tags": []
   },
   "outputs": [
    {
     "data": {
      "text/plain": [
       "calories    0\n",
       "protein     0\n",
       "fat         0\n",
       "sodium      0\n",
       "fiber       0\n",
       "carbo       0\n",
       "sugars      0\n",
       "potass      0\n",
       "vitamins    0\n",
       "weight      0\n",
       "rating      0\n",
       "dtype: int64"
      ]
     },
     "execution_count": 7,
     "metadata": {},
     "output_type": "execute_result"
    }
   ],
   "source": [
    "# checking the missing values \n",
    "df.isnull().sum()"
   ]
  },
  {
   "cell_type": "code",
   "execution_count": 8,
   "id": "f317077f",
   "metadata": {
    "execution": {
     "iopub.execute_input": "2023-04-05T08:52:15.306393Z",
     "iopub.status.busy": "2023-04-05T08:52:15.305806Z",
     "iopub.status.idle": "2023-04-05T08:52:16.896403Z",
     "shell.execute_reply": "2023-04-05T08:52:16.894568Z"
    },
    "papermill": {
     "duration": 1.60752,
     "end_time": "2023-04-05T08:52:16.899684",
     "exception": false,
     "start_time": "2023-04-05T08:52:15.292164",
     "status": "completed"
    },
    "tags": []
   },
   "outputs": [
    {
     "data": {
      "text/plain": [
       "SimpleImputer(strategy='median')"
      ]
     },
     "execution_count": 8,
     "metadata": {},
     "output_type": "execute_result"
    }
   ],
   "source": [
    "# Load the modules required to handle the missing values \n",
    "from sklearn.impute import SimpleImputer\n",
    "mean_imputer = SimpleImputer(strategy='median')\n",
    "mean_imputer.fit(df) # computes the median values and stores it "
   ]
  },
  {
   "cell_type": "code",
   "execution_count": 9,
   "id": "bdac3f8f",
   "metadata": {
    "execution": {
     "iopub.execute_input": "2023-04-05T08:52:16.927184Z",
     "iopub.status.busy": "2023-04-05T08:52:16.926750Z",
     "iopub.status.idle": "2023-04-05T08:52:16.936494Z",
     "shell.execute_reply": "2023-04-05T08:52:16.934984Z"
    },
    "papermill": {
     "duration": 0.026996,
     "end_time": "2023-04-05T08:52:16.939485",
     "exception": false,
     "start_time": "2023-04-05T08:52:16.912489",
     "status": "completed"
    },
    "tags": []
   },
   "outputs": [],
   "source": [
    "# apply the missing value imputation method on cereals data and convert into data frame\n",
    "df = pd.DataFrame(mean_imputer.transform(df), columns=df.columns)"
   ]
  },
  {
   "cell_type": "code",
   "execution_count": 10,
   "id": "2cc3c83a",
   "metadata": {
    "execution": {
     "iopub.execute_input": "2023-04-05T08:52:16.967200Z",
     "iopub.status.busy": "2023-04-05T08:52:16.966608Z",
     "iopub.status.idle": "2023-04-05T08:52:16.978068Z",
     "shell.execute_reply": "2023-04-05T08:52:16.976626Z"
    },
    "papermill": {
     "duration": 0.02832,
     "end_time": "2023-04-05T08:52:16.980716",
     "exception": false,
     "start_time": "2023-04-05T08:52:16.952396",
     "status": "completed"
    },
    "tags": []
   },
   "outputs": [
    {
     "data": {
      "text/plain": [
       "calories    0\n",
       "protein     0\n",
       "fat         0\n",
       "sodium      0\n",
       "fiber       0\n",
       "carbo       0\n",
       "sugars      0\n",
       "potass      0\n",
       "vitamins    0\n",
       "weight      0\n",
       "rating      0\n",
       "dtype: int64"
      ]
     },
     "execution_count": 10,
     "metadata": {},
     "output_type": "execute_result"
    }
   ],
   "source": [
    "# check if we still have missing vaules \n",
    "df.isnull().sum()"
   ]
  },
  {
   "cell_type": "code",
   "execution_count": 11,
   "id": "e810d795",
   "metadata": {
    "execution": {
     "iopub.execute_input": "2023-04-05T08:52:17.008612Z",
     "iopub.status.busy": "2023-04-05T08:52:17.007503Z",
     "iopub.status.idle": "2023-04-05T08:52:17.018811Z",
     "shell.execute_reply": "2023-04-05T08:52:17.017613Z"
    },
    "papermill": {
     "duration": 0.028562,
     "end_time": "2023-04-05T08:52:17.021510",
     "exception": false,
     "start_time": "2023-04-05T08:52:16.992948",
     "status": "completed"
    },
    "tags": []
   },
   "outputs": [
    {
     "data": {
      "text/plain": [
       "StandardScaler()"
      ]
     },
     "execution_count": 11,
     "metadata": {},
     "output_type": "execute_result"
    }
   ],
   "source": [
    "# load the methods to standardize the data \n",
    "from sklearn.preprocessing import StandardScaler\n",
    "scaler = StandardScaler()\n",
    "scaler.fit(df)"
   ]
  },
  {
   "cell_type": "code",
   "execution_count": 12,
   "id": "5b2c34df",
   "metadata": {
    "execution": {
     "iopub.execute_input": "2023-04-05T08:52:17.049528Z",
     "iopub.status.busy": "2023-04-05T08:52:17.048177Z",
     "iopub.status.idle": "2023-04-05T08:52:17.102354Z",
     "shell.execute_reply": "2023-04-05T08:52:17.100899Z"
    },
    "papermill": {
     "duration": 0.071382,
     "end_time": "2023-04-05T08:52:17.105094",
     "exception": false,
     "start_time": "2023-04-05T08:52:17.033712",
     "status": "completed"
    },
    "tags": []
   },
   "outputs": [
    {
     "data": {
      "text/html": [
       "<div>\n",
       "<style scoped>\n",
       "    .dataframe tbody tr th:only-of-type {\n",
       "        vertical-align: middle;\n",
       "    }\n",
       "\n",
       "    .dataframe tbody tr th {\n",
       "        vertical-align: top;\n",
       "    }\n",
       "\n",
       "    .dataframe thead th {\n",
       "        text-align: right;\n",
       "    }\n",
       "</style>\n",
       "<table border=\"1\" class=\"dataframe\">\n",
       "  <thead>\n",
       "    <tr style=\"text-align: right;\">\n",
       "      <th></th>\n",
       "      <th>calories</th>\n",
       "      <th>protein</th>\n",
       "      <th>fat</th>\n",
       "      <th>sodium</th>\n",
       "      <th>fiber</th>\n",
       "      <th>carbo</th>\n",
       "      <th>sugars</th>\n",
       "      <th>potass</th>\n",
       "      <th>vitamins</th>\n",
       "      <th>weight</th>\n",
       "      <th>rating</th>\n",
       "    </tr>\n",
       "  </thead>\n",
       "  <tbody>\n",
       "    <tr>\n",
       "      <th>count</th>\n",
       "      <td>77.000000</td>\n",
       "      <td>77.000000</td>\n",
       "      <td>77.000000</td>\n",
       "      <td>77.000000</td>\n",
       "      <td>77.000000</td>\n",
       "      <td>77.000000</td>\n",
       "      <td>77.000000</td>\n",
       "      <td>77.000000</td>\n",
       "      <td>77.000000</td>\n",
       "      <td>77.000000</td>\n",
       "      <td>77.000000</td>\n",
       "    </tr>\n",
       "    <tr>\n",
       "      <th>mean</th>\n",
       "      <td>106.883117</td>\n",
       "      <td>2.545455</td>\n",
       "      <td>1.012987</td>\n",
       "      <td>159.675325</td>\n",
       "      <td>2.151948</td>\n",
       "      <td>14.597403</td>\n",
       "      <td>6.922078</td>\n",
       "      <td>96.077922</td>\n",
       "      <td>28.246753</td>\n",
       "      <td>1.029610</td>\n",
       "      <td>42.665705</td>\n",
       "    </tr>\n",
       "    <tr>\n",
       "      <th>std</th>\n",
       "      <td>19.484119</td>\n",
       "      <td>1.094790</td>\n",
       "      <td>1.006473</td>\n",
       "      <td>83.832295</td>\n",
       "      <td>2.383364</td>\n",
       "      <td>4.278956</td>\n",
       "      <td>4.444885</td>\n",
       "      <td>71.286813</td>\n",
       "      <td>22.342523</td>\n",
       "      <td>0.150477</td>\n",
       "      <td>14.047289</td>\n",
       "    </tr>\n",
       "    <tr>\n",
       "      <th>min</th>\n",
       "      <td>50.000000</td>\n",
       "      <td>1.000000</td>\n",
       "      <td>0.000000</td>\n",
       "      <td>0.000000</td>\n",
       "      <td>0.000000</td>\n",
       "      <td>-1.000000</td>\n",
       "      <td>-1.000000</td>\n",
       "      <td>-1.000000</td>\n",
       "      <td>0.000000</td>\n",
       "      <td>0.500000</td>\n",
       "      <td>18.042851</td>\n",
       "    </tr>\n",
       "    <tr>\n",
       "      <th>25%</th>\n",
       "      <td>100.000000</td>\n",
       "      <td>2.000000</td>\n",
       "      <td>0.000000</td>\n",
       "      <td>130.000000</td>\n",
       "      <td>1.000000</td>\n",
       "      <td>12.000000</td>\n",
       "      <td>3.000000</td>\n",
       "      <td>40.000000</td>\n",
       "      <td>25.000000</td>\n",
       "      <td>1.000000</td>\n",
       "      <td>33.174094</td>\n",
       "    </tr>\n",
       "    <tr>\n",
       "      <th>50%</th>\n",
       "      <td>110.000000</td>\n",
       "      <td>3.000000</td>\n",
       "      <td>1.000000</td>\n",
       "      <td>180.000000</td>\n",
       "      <td>2.000000</td>\n",
       "      <td>14.000000</td>\n",
       "      <td>7.000000</td>\n",
       "      <td>90.000000</td>\n",
       "      <td>25.000000</td>\n",
       "      <td>1.000000</td>\n",
       "      <td>40.400208</td>\n",
       "    </tr>\n",
       "    <tr>\n",
       "      <th>75%</th>\n",
       "      <td>110.000000</td>\n",
       "      <td>3.000000</td>\n",
       "      <td>2.000000</td>\n",
       "      <td>210.000000</td>\n",
       "      <td>3.000000</td>\n",
       "      <td>17.000000</td>\n",
       "      <td>11.000000</td>\n",
       "      <td>120.000000</td>\n",
       "      <td>25.000000</td>\n",
       "      <td>1.000000</td>\n",
       "      <td>50.828392</td>\n",
       "    </tr>\n",
       "    <tr>\n",
       "      <th>max</th>\n",
       "      <td>160.000000</td>\n",
       "      <td>6.000000</td>\n",
       "      <td>5.000000</td>\n",
       "      <td>320.000000</td>\n",
       "      <td>14.000000</td>\n",
       "      <td>23.000000</td>\n",
       "      <td>15.000000</td>\n",
       "      <td>330.000000</td>\n",
       "      <td>100.000000</td>\n",
       "      <td>1.500000</td>\n",
       "      <td>93.704912</td>\n",
       "    </tr>\n",
       "  </tbody>\n",
       "</table>\n",
       "</div>"
      ],
      "text/plain": [
       "         calories    protein        fat      sodium      fiber      carbo  \\\n",
       "count   77.000000  77.000000  77.000000   77.000000  77.000000  77.000000   \n",
       "mean   106.883117   2.545455   1.012987  159.675325   2.151948  14.597403   \n",
       "std     19.484119   1.094790   1.006473   83.832295   2.383364   4.278956   \n",
       "min     50.000000   1.000000   0.000000    0.000000   0.000000  -1.000000   \n",
       "25%    100.000000   2.000000   0.000000  130.000000   1.000000  12.000000   \n",
       "50%    110.000000   3.000000   1.000000  180.000000   2.000000  14.000000   \n",
       "75%    110.000000   3.000000   2.000000  210.000000   3.000000  17.000000   \n",
       "max    160.000000   6.000000   5.000000  320.000000  14.000000  23.000000   \n",
       "\n",
       "          sugars      potass    vitamins     weight     rating  \n",
       "count  77.000000   77.000000   77.000000  77.000000  77.000000  \n",
       "mean    6.922078   96.077922   28.246753   1.029610  42.665705  \n",
       "std     4.444885   71.286813   22.342523   0.150477  14.047289  \n",
       "min    -1.000000   -1.000000    0.000000   0.500000  18.042851  \n",
       "25%     3.000000   40.000000   25.000000   1.000000  33.174094  \n",
       "50%     7.000000   90.000000   25.000000   1.000000  40.400208  \n",
       "75%    11.000000  120.000000   25.000000   1.000000  50.828392  \n",
       "max    15.000000  330.000000  100.000000   1.500000  93.704912  "
      ]
     },
     "execution_count": 12,
     "metadata": {},
     "output_type": "execute_result"
    }
   ],
   "source": [
    "df.describe()"
   ]
  },
  {
   "cell_type": "code",
   "execution_count": 13,
   "id": "bf844329",
   "metadata": {
    "execution": {
     "iopub.execute_input": "2023-04-05T08:52:17.132142Z",
     "iopub.status.busy": "2023-04-05T08:52:17.131673Z",
     "iopub.status.idle": "2023-04-05T08:52:17.158035Z",
     "shell.execute_reply": "2023-04-05T08:52:17.156575Z"
    },
    "papermill": {
     "duration": 0.043329,
     "end_time": "2023-04-05T08:52:17.160935",
     "exception": false,
     "start_time": "2023-04-05T08:52:17.117606",
     "status": "completed"
    },
    "tags": []
   },
   "outputs": [
    {
     "data": {
      "text/html": [
       "<div>\n",
       "<style scoped>\n",
       "    .dataframe tbody tr th:only-of-type {\n",
       "        vertical-align: middle;\n",
       "    }\n",
       "\n",
       "    .dataframe tbody tr th {\n",
       "        vertical-align: top;\n",
       "    }\n",
       "\n",
       "    .dataframe thead th {\n",
       "        text-align: right;\n",
       "    }\n",
       "</style>\n",
       "<table border=\"1\" class=\"dataframe\">\n",
       "  <thead>\n",
       "    <tr style=\"text-align: right;\">\n",
       "      <th></th>\n",
       "      <th>calories</th>\n",
       "      <th>protein</th>\n",
       "      <th>fat</th>\n",
       "      <th>sodium</th>\n",
       "      <th>fiber</th>\n",
       "      <th>carbo</th>\n",
       "      <th>sugars</th>\n",
       "      <th>potass</th>\n",
       "      <th>vitamins</th>\n",
       "      <th>weight</th>\n",
       "      <th>rating</th>\n",
       "    </tr>\n",
       "  </thead>\n",
       "  <tbody>\n",
       "    <tr>\n",
       "      <th>33</th>\n",
       "      <td>0.161019</td>\n",
       "      <td>0.417912</td>\n",
       "      <td>-1.013072</td>\n",
       "      <td>0.123966</td>\n",
       "      <td>0.358155</td>\n",
       "      <td>0.565173</td>\n",
       "      <td>-0.888166</td>\n",
       "      <td>-0.085819</td>\n",
       "      <td>-0.14627</td>\n",
       "      <td>-0.198067</td>\n",
       "      <td>0.767088</td>\n",
       "    </tr>\n",
       "    <tr>\n",
       "      <th>40</th>\n",
       "      <td>0.161019</td>\n",
       "      <td>-0.501495</td>\n",
       "      <td>-0.012988</td>\n",
       "      <td>1.204578</td>\n",
       "      <td>-0.908824</td>\n",
       "      <td>1.506111</td>\n",
       "      <td>-0.888166</td>\n",
       "      <td>-0.791811</td>\n",
       "      <td>-0.14627</td>\n",
       "      <td>-0.198067</td>\n",
       "      <td>-0.245389</td>\n",
       "    </tr>\n",
       "    <tr>\n",
       "      <th>10</th>\n",
       "      <td>0.677623</td>\n",
       "      <td>-1.420902</td>\n",
       "      <td>0.987096</td>\n",
       "      <td>0.724306</td>\n",
       "      <td>-0.908824</td>\n",
       "      <td>-0.610998</td>\n",
       "      <td>1.149910</td>\n",
       "      <td>-0.862410</td>\n",
       "      <td>-0.14627</td>\n",
       "      <td>-0.198067</td>\n",
       "      <td>-1.764349</td>\n",
       "    </tr>\n",
       "    <tr>\n",
       "      <th>12</th>\n",
       "      <td>0.677623</td>\n",
       "      <td>-1.420902</td>\n",
       "      <td>1.987181</td>\n",
       "      <td>0.604238</td>\n",
       "      <td>-0.908824</td>\n",
       "      <td>-0.375764</td>\n",
       "      <td>0.470552</td>\n",
       "      <td>-0.721211</td>\n",
       "      <td>-0.14627</td>\n",
       "      <td>-0.198067</td>\n",
       "      <td>-1.636751</td>\n",
       "    </tr>\n",
       "    <tr>\n",
       "      <th>44</th>\n",
       "      <td>2.227436</td>\n",
       "      <td>1.337319</td>\n",
       "      <td>1.987181</td>\n",
       "      <td>-0.776544</td>\n",
       "      <td>0.358155</td>\n",
       "      <td>0.329939</td>\n",
       "      <td>0.923458</td>\n",
       "      <td>1.043767</td>\n",
       "      <td>-0.14627</td>\n",
       "      <td>-0.198067</td>\n",
       "      <td>-0.396169</td>\n",
       "    </tr>\n",
       "    <tr>\n",
       "      <th>75</th>\n",
       "      <td>-0.355585</td>\n",
       "      <td>0.417912</td>\n",
       "      <td>-0.012988</td>\n",
       "      <td>0.484170</td>\n",
       "      <td>0.358155</td>\n",
       "      <td>0.565173</td>\n",
       "      <td>-0.888166</td>\n",
       "      <td>0.196577</td>\n",
       "      <td>-0.14627</td>\n",
       "      <td>-0.198067</td>\n",
       "      <td>0.639627</td>\n",
       "    </tr>\n",
       "    <tr>\n",
       "      <th>2</th>\n",
       "      <td>-1.905397</td>\n",
       "      <td>1.337319</td>\n",
       "      <td>-0.012988</td>\n",
       "      <td>1.204578</td>\n",
       "      <td>2.892113</td>\n",
       "      <td>-1.787170</td>\n",
       "      <td>-0.435260</td>\n",
       "      <td>3.161741</td>\n",
       "      <td>-0.14627</td>\n",
       "      <td>-0.198067</td>\n",
       "      <td>1.200922</td>\n",
       "    </tr>\n",
       "    <tr>\n",
       "      <th>22</th>\n",
       "      <td>-0.355585</td>\n",
       "      <td>-0.501495</td>\n",
       "      <td>-0.012988</td>\n",
       "      <td>-0.236238</td>\n",
       "      <td>-0.064172</td>\n",
       "      <td>-0.846233</td>\n",
       "      <td>0.697005</td>\n",
       "      <td>0.337776</td>\n",
       "      <td>-0.14627</td>\n",
       "      <td>-0.198067</td>\n",
       "      <td>-0.465005</td>\n",
       "    </tr>\n",
       "    <tr>\n",
       "      <th>8</th>\n",
       "      <td>-0.872189</td>\n",
       "      <td>-0.501495</td>\n",
       "      <td>-0.012988</td>\n",
       "      <td>0.484170</td>\n",
       "      <td>0.780481</td>\n",
       "      <td>0.094705</td>\n",
       "      <td>-0.208807</td>\n",
       "      <td>0.408375</td>\n",
       "      <td>-0.14627</td>\n",
       "      <td>-0.198067</td>\n",
       "      <td>0.462500</td>\n",
       "    </tr>\n",
       "    <tr>\n",
       "      <th>36</th>\n",
       "      <td>0.161019</td>\n",
       "      <td>0.417912</td>\n",
       "      <td>-0.012988</td>\n",
       "      <td>1.084510</td>\n",
       "      <td>-0.275335</td>\n",
       "      <td>-0.728615</td>\n",
       "      <td>0.697005</td>\n",
       "      <td>-0.085819</td>\n",
       "      <td>-0.14627</td>\n",
       "      <td>-0.198067</td>\n",
       "      <td>-0.830731</td>\n",
       "    </tr>\n",
       "  </tbody>\n",
       "</table>\n",
       "</div>"
      ],
      "text/plain": [
       "    calories   protein       fat    sodium     fiber     carbo    sugars  \\\n",
       "33  0.161019  0.417912 -1.013072  0.123966  0.358155  0.565173 -0.888166   \n",
       "40  0.161019 -0.501495 -0.012988  1.204578 -0.908824  1.506111 -0.888166   \n",
       "10  0.677623 -1.420902  0.987096  0.724306 -0.908824 -0.610998  1.149910   \n",
       "12  0.677623 -1.420902  1.987181  0.604238 -0.908824 -0.375764  0.470552   \n",
       "44  2.227436  1.337319  1.987181 -0.776544  0.358155  0.329939  0.923458   \n",
       "75 -0.355585  0.417912 -0.012988  0.484170  0.358155  0.565173 -0.888166   \n",
       "2  -1.905397  1.337319 -0.012988  1.204578  2.892113 -1.787170 -0.435260   \n",
       "22 -0.355585 -0.501495 -0.012988 -0.236238 -0.064172 -0.846233  0.697005   \n",
       "8  -0.872189 -0.501495 -0.012988  0.484170  0.780481  0.094705 -0.208807   \n",
       "36  0.161019  0.417912 -0.012988  1.084510 -0.275335 -0.728615  0.697005   \n",
       "\n",
       "      potass  vitamins    weight    rating  \n",
       "33 -0.085819  -0.14627 -0.198067  0.767088  \n",
       "40 -0.791811  -0.14627 -0.198067 -0.245389  \n",
       "10 -0.862410  -0.14627 -0.198067 -1.764349  \n",
       "12 -0.721211  -0.14627 -0.198067 -1.636751  \n",
       "44  1.043767  -0.14627 -0.198067 -0.396169  \n",
       "75  0.196577  -0.14627 -0.198067  0.639627  \n",
       "2   3.161741  -0.14627 -0.198067  1.200922  \n",
       "22  0.337776  -0.14627 -0.198067 -0.465005  \n",
       "8   0.408375  -0.14627 -0.198067  0.462500  \n",
       "36 -0.085819  -0.14627 -0.198067 -0.830731  "
      ]
     },
     "execution_count": 13,
     "metadata": {},
     "output_type": "execute_result"
    }
   ],
   "source": [
    "# Convert the standardize the data into data frame \n",
    "cereals_std = pd.DataFrame(scaler.fit_transform(df), columns=df.columns)\n",
    "cereals_std.sample(10)"
   ]
  },
  {
   "cell_type": "markdown",
   "id": "9244eb66",
   "metadata": {
    "papermill": {
     "duration": 0.012419,
     "end_time": "2023-04-05T08:52:17.187577",
     "exception": false,
     "start_time": "2023-04-05T08:52:17.175158",
     "status": "completed"
    },
    "tags": []
   },
   "source": [
    "**Hierarchical Clustering - Dendrogram**"
   ]
  },
  {
   "cell_type": "code",
   "execution_count": 14,
   "id": "7dd33467",
   "metadata": {
    "execution": {
     "iopub.execute_input": "2023-04-05T08:52:17.215725Z",
     "iopub.status.busy": "2023-04-05T08:52:17.214794Z",
     "iopub.status.idle": "2023-04-05T08:52:17.244422Z",
     "shell.execute_reply": "2023-04-05T08:52:17.242792Z"
    },
    "papermill": {
     "duration": 0.047022,
     "end_time": "2023-04-05T08:52:17.247450",
     "exception": false,
     "start_time": "2023-04-05T08:52:17.200428",
     "status": "completed"
    },
    "tags": []
   },
   "outputs": [],
   "source": [
    "# Load the modules required for Hierarchical clustering\n",
    "from scipy.cluster.hierarchy import linkage , dendrogram\n",
    "import matplotlib.pyplot as plt"
   ]
  },
  {
   "cell_type": "code",
   "execution_count": 15,
   "id": "1dd6ac6d",
   "metadata": {
    "execution": {
     "iopub.execute_input": "2023-04-05T08:52:17.275185Z",
     "iopub.status.busy": "2023-04-05T08:52:17.274752Z",
     "iopub.status.idle": "2023-04-05T08:52:17.282302Z",
     "shell.execute_reply": "2023-04-05T08:52:17.280929Z"
    },
    "papermill": {
     "duration": 0.02492,
     "end_time": "2023-04-05T08:52:17.285156",
     "exception": false,
     "start_time": "2023-04-05T08:52:17.260236",
     "status": "completed"
    },
    "tags": []
   },
   "outputs": [],
   "source": [
    "# Constructing the linkage matrix \n",
    "linkage_matrix =linkage(cereals_std, method = 'single' , metric='cityblock')"
   ]
  },
  {
   "cell_type": "code",
   "execution_count": 16,
   "id": "0831e3a3",
   "metadata": {
    "execution": {
     "iopub.execute_input": "2023-04-05T08:52:17.312961Z",
     "iopub.status.busy": "2023-04-05T08:52:17.312541Z",
     "iopub.status.idle": "2023-04-05T08:52:19.011924Z",
     "shell.execute_reply": "2023-04-05T08:52:19.009695Z"
    },
    "papermill": {
     "duration": 1.717063,
     "end_time": "2023-04-05T08:52:19.015477",
     "exception": false,
     "start_time": "2023-04-05T08:52:17.298414",
     "status": "completed"
    },
    "tags": []
   },
   "outputs": [
    {
     "data": {
      "image/png": "[encoded data removed]",
      "text/plain": [
       "<Figure size 1200x800 with 1 Axes>"
      ]
     },
     "metadata": {},
     "output_type": "display_data"
    }
   ],
   "source": [
    "#  Construcitng the dendrogram and visualizing the dendrogram\n",
    "labelList = range(1,cereals_std.shape[0]+1) \n",
    "plt.figure(figsize=(12,8))\n",
    "dendrogram(linkage_matrix, labels=labelList)\n",
    "plt.show()"
   ]
  },
  {
   "cell_type": "markdown",
   "id": "f304f85e",
   "metadata": {
    "papermill": {
     "duration": 0.012735,
     "end_time": "2023-04-05T08:52:19.041508",
     "exception": false,
     "start_time": "2023-04-05T08:52:19.028773",
     "status": "completed"
    },
    "tags": []
   },
   "source": [
    "**## Hierarchical Clustering - Agglomerative Clustering**"
   ]
  },
  {
   "cell_type": "code",
   "execution_count": 17,
   "id": "5ca5f765",
   "metadata": {
    "execution": {
     "iopub.execute_input": "2023-04-05T08:52:19.071820Z",
     "iopub.status.busy": "2023-04-05T08:52:19.070907Z",
     "iopub.status.idle": "2023-04-05T08:52:19.265336Z",
     "shell.execute_reply": "2023-04-05T08:52:19.263910Z"
    },
    "papermill": {
     "duration": 0.2133,
     "end_time": "2023-04-05T08:52:19.268488",
     "exception": false,
     "start_time": "2023-04-05T08:52:19.055188",
     "status": "completed"
    },
    "tags": []
   },
   "outputs": [],
   "source": [
    "# loading the Agglomerative Clustering\n",
    "from sklearn.cluster import AgglomerativeClustering\n"
   ]
  },
  {
   "cell_type": "code",
   "execution_count": 18,
   "id": "c24f2b1f",
   "metadata": {
    "execution": {
     "iopub.execute_input": "2023-04-05T08:52:19.298296Z",
     "iopub.status.busy": "2023-04-05T08:52:19.297822Z",
     "iopub.status.idle": "2023-04-05T08:52:19.303035Z",
     "shell.execute_reply": "2023-04-05T08:52:19.302013Z"
    },
    "papermill": {
     "duration": 0.023501,
     "end_time": "2023-04-05T08:52:19.305721",
     "exception": false,
     "start_time": "2023-04-05T08:52:19.282220",
     "status": "completed"
    },
    "tags": []
   },
   "outputs": [],
   "source": [
    "# Buiding Agglomerative Clustering \n",
    "clust = AgglomerativeClustering(n_clusters = 6,\n",
    "                                affinity = 'euclidean',\n",
    "                                linkage = 'ward')\n"
   ]
  },
  {
   "cell_type": "code",
   "execution_count": 19,
   "id": "fc9cff54",
   "metadata": {
    "execution": {
     "iopub.execute_input": "2023-04-05T08:52:19.335614Z",
     "iopub.status.busy": "2023-04-05T08:52:19.334433Z",
     "iopub.status.idle": "2023-04-05T08:52:19.346006Z",
     "shell.execute_reply": "2023-04-05T08:52:19.344563Z"
    },
    "papermill": {
     "duration": 0.029898,
     "end_time": "2023-04-05T08:52:19.349127",
     "exception": false,
     "start_time": "2023-04-05T08:52:19.319229",
     "status": "completed"
    },
    "tags": []
   },
   "outputs": [
    {
     "data": {
      "text/plain": [
       "array([5, 2, 5, 5, 3, 3, 3, 4, 0, 0, 3, 0, 3, 2, 3, 0, 0, 3, 3, 2, 1, 0,\n",
       "       3, 0, 3, 3, 1, 4, 4, 3, 3, 3, 0, 0, 2, 3, 3, 3, 0, 4, 0, 2, 3, 1,\n",
       "       2, 2, 4, 0, 3, 4, 0, 4, 4, 0, 1, 1, 0, 2, 4, 2, 1, 0, 0, 1, 1, 1,\n",
       "       3, 0, 1, 0, 4, 0, 0, 3, 0, 0, 3])"
      ]
     },
     "execution_count": 19,
     "metadata": {},
     "output_type": "execute_result"
    }
   ],
   "source": [
    "# applying on the cereals data \n",
    "cluster_predictions = clust.fit_predict(cereals_std)\n",
    "cluster_predictions"
   ]
  },
  {
   "cell_type": "code",
   "execution_count": 20,
   "id": "7e24d666",
   "metadata": {
    "execution": {
     "iopub.execute_input": "2023-04-05T08:52:19.378971Z",
     "iopub.status.busy": "2023-04-05T08:52:19.378555Z",
     "iopub.status.idle": "2023-04-05T08:52:19.384686Z",
     "shell.execute_reply": "2023-04-05T08:52:19.383656Z"
    },
    "papermill": {
     "duration": 0.024673,
     "end_time": "2023-04-05T08:52:19.387112",
     "exception": false,
     "start_time": "2023-04-05T08:52:19.362439",
     "status": "completed"
    },
    "tags": []
   },
   "outputs": [],
   "source": [
    "df['H_Cluster'] = cluster_predictions"
   ]
  },
  {
   "cell_type": "code",
   "execution_count": 21,
   "id": "8c6b8632",
   "metadata": {
    "execution": {
     "iopub.execute_input": "2023-04-05T08:52:19.418745Z",
     "iopub.status.busy": "2023-04-05T08:52:19.418257Z",
     "iopub.status.idle": "2023-04-05T08:52:19.433299Z",
     "shell.execute_reply": "2023-04-05T08:52:19.431847Z"
    },
    "papermill": {
     "duration": 0.03387,
     "end_time": "2023-04-05T08:52:19.436276",
     "exception": false,
     "start_time": "2023-04-05T08:52:19.402406",
     "status": "completed"
    },
    "tags": []
   },
   "outputs": [
    {
     "data": {
      "text/html": [
       "<div>\n",
       "<style scoped>\n",
       "    .dataframe tbody tr th:only-of-type {\n",
       "        vertical-align: middle;\n",
       "    }\n",
       "\n",
       "    .dataframe tbody tr th {\n",
       "        vertical-align: top;\n",
       "    }\n",
       "\n",
       "    .dataframe thead th {\n",
       "        text-align: right;\n",
       "    }\n",
       "</style>\n",
       "<table border=\"1\" class=\"dataframe\">\n",
       "  <thead>\n",
       "    <tr style=\"text-align: right;\">\n",
       "      <th></th>\n",
       "      <th>Lables</th>\n",
       "      <th>Cluster</th>\n",
       "    </tr>\n",
       "  </thead>\n",
       "  <tbody>\n",
       "    <tr>\n",
       "      <th>24</th>\n",
       "      <td>Froot Loops</td>\n",
       "      <td>3</td>\n",
       "    </tr>\n",
       "    <tr>\n",
       "      <th>44</th>\n",
       "      <td>Muesli Raisins; Dates; &amp; Almonds</td>\n",
       "      <td>2</td>\n",
       "    </tr>\n",
       "    <tr>\n",
       "      <th>39</th>\n",
       "      <td>Just Right Fruit &amp; Nut</td>\n",
       "      <td>4</td>\n",
       "    </tr>\n",
       "    <tr>\n",
       "      <th>14</th>\n",
       "      <td>Cocoa Puffs</td>\n",
       "      <td>3</td>\n",
       "    </tr>\n",
       "    <tr>\n",
       "      <th>58</th>\n",
       "      <td>Raisin Bran</td>\n",
       "      <td>4</td>\n",
       "    </tr>\n",
       "    <tr>\n",
       "      <th>53</th>\n",
       "      <td>Product 19</td>\n",
       "      <td>0</td>\n",
       "    </tr>\n",
       "    <tr>\n",
       "      <th>57</th>\n",
       "      <td>Quaker Oatmeal</td>\n",
       "      <td>2</td>\n",
       "    </tr>\n",
       "    <tr>\n",
       "      <th>56</th>\n",
       "      <td>Quaker Oat Squares</td>\n",
       "      <td>0</td>\n",
       "    </tr>\n",
       "    <tr>\n",
       "      <th>18</th>\n",
       "      <td>Count Chocula</td>\n",
       "      <td>3</td>\n",
       "    </tr>\n",
       "    <tr>\n",
       "      <th>71</th>\n",
       "      <td>Total Whole Grain</td>\n",
       "      <td>0</td>\n",
       "    </tr>\n",
       "  </tbody>\n",
       "</table>\n",
       "</div>"
      ],
      "text/plain": [
       "                              Lables  Cluster\n",
       "24                       Froot Loops        3\n",
       "44  Muesli Raisins; Dates; & Almonds        2\n",
       "39            Just Right Fruit & Nut        4\n",
       "14                       Cocoa Puffs        3\n",
       "58                       Raisin Bran        4\n",
       "53                        Product 19        0\n",
       "57                    Quaker Oatmeal        2\n",
       "56                Quaker Oat Squares        0\n",
       "18                     Count Chocula        3\n",
       "71                 Total Whole Grain        0"
      ]
     },
     "execution_count": 21,
     "metadata": {},
     "output_type": "execute_result"
    }
   ],
   "source": [
    "# Create data frame combining the labels and Clusters together \n",
    "result = pd.DataFrame({'Lables':labels,'Cluster':cluster_predictions})\n",
    "result.sample(10)"
   ]
  },
  {
   "cell_type": "code",
   "execution_count": 22,
   "id": "5a31ffe2",
   "metadata": {
    "execution": {
     "iopub.execute_input": "2023-04-05T08:52:19.467279Z",
     "iopub.status.busy": "2023-04-05T08:52:19.466812Z",
     "iopub.status.idle": "2023-04-05T08:52:19.494283Z",
     "shell.execute_reply": "2023-04-05T08:52:19.492700Z"
    },
    "papermill": {
     "duration": 0.046878,
     "end_time": "2023-04-05T08:52:19.497306",
     "exception": false,
     "start_time": "2023-04-05T08:52:19.450428",
     "status": "completed"
    },
    "tags": []
   },
   "outputs": [
    {
     "data": {
      "text/html": [
       "<div>\n",
       "<style scoped>\n",
       "    .dataframe tbody tr th:only-of-type {\n",
       "        vertical-align: middle;\n",
       "    }\n",
       "\n",
       "    .dataframe tbody tr th {\n",
       "        vertical-align: top;\n",
       "    }\n",
       "\n",
       "    .dataframe thead th {\n",
       "        text-align: right;\n",
       "    }\n",
       "</style>\n",
       "<table border=\"1\" class=\"dataframe\">\n",
       "  <thead>\n",
       "    <tr style=\"text-align: right;\">\n",
       "      <th></th>\n",
       "      <th>calories</th>\n",
       "      <th>protein</th>\n",
       "      <th>fat</th>\n",
       "      <th>sodium</th>\n",
       "      <th>fiber</th>\n",
       "      <th>carbo</th>\n",
       "      <th>sugars</th>\n",
       "      <th>potass</th>\n",
       "      <th>vitamins</th>\n",
       "      <th>weight</th>\n",
       "      <th>rating</th>\n",
       "      <th>H_Cluster</th>\n",
       "    </tr>\n",
       "  </thead>\n",
       "  <tbody>\n",
       "    <tr>\n",
       "      <th>0</th>\n",
       "      <td>70.0</td>\n",
       "      <td>4.0</td>\n",
       "      <td>1.0</td>\n",
       "      <td>130.0</td>\n",
       "      <td>10.0</td>\n",
       "      <td>5.0</td>\n",
       "      <td>6.0</td>\n",
       "      <td>280.0</td>\n",
       "      <td>25.0</td>\n",
       "      <td>1.00</td>\n",
       "      <td>68.402973</td>\n",
       "      <td>5</td>\n",
       "    </tr>\n",
       "    <tr>\n",
       "      <th>1</th>\n",
       "      <td>120.0</td>\n",
       "      <td>3.0</td>\n",
       "      <td>5.0</td>\n",
       "      <td>15.0</td>\n",
       "      <td>2.0</td>\n",
       "      <td>8.0</td>\n",
       "      <td>8.0</td>\n",
       "      <td>135.0</td>\n",
       "      <td>0.0</td>\n",
       "      <td>1.00</td>\n",
       "      <td>33.983679</td>\n",
       "      <td>2</td>\n",
       "    </tr>\n",
       "    <tr>\n",
       "      <th>2</th>\n",
       "      <td>70.0</td>\n",
       "      <td>4.0</td>\n",
       "      <td>1.0</td>\n",
       "      <td>260.0</td>\n",
       "      <td>9.0</td>\n",
       "      <td>7.0</td>\n",
       "      <td>5.0</td>\n",
       "      <td>320.0</td>\n",
       "      <td>25.0</td>\n",
       "      <td>1.00</td>\n",
       "      <td>59.425505</td>\n",
       "      <td>5</td>\n",
       "    </tr>\n",
       "    <tr>\n",
       "      <th>3</th>\n",
       "      <td>50.0</td>\n",
       "      <td>4.0</td>\n",
       "      <td>0.0</td>\n",
       "      <td>140.0</td>\n",
       "      <td>14.0</td>\n",
       "      <td>8.0</td>\n",
       "      <td>0.0</td>\n",
       "      <td>330.0</td>\n",
       "      <td>25.0</td>\n",
       "      <td>1.00</td>\n",
       "      <td>93.704912</td>\n",
       "      <td>5</td>\n",
       "    </tr>\n",
       "    <tr>\n",
       "      <th>4</th>\n",
       "      <td>110.0</td>\n",
       "      <td>2.0</td>\n",
       "      <td>2.0</td>\n",
       "      <td>200.0</td>\n",
       "      <td>1.0</td>\n",
       "      <td>14.0</td>\n",
       "      <td>8.0</td>\n",
       "      <td>-1.0</td>\n",
       "      <td>25.0</td>\n",
       "      <td>1.00</td>\n",
       "      <td>34.384843</td>\n",
       "      <td>3</td>\n",
       "    </tr>\n",
       "    <tr>\n",
       "      <th>5</th>\n",
       "      <td>110.0</td>\n",
       "      <td>2.0</td>\n",
       "      <td>2.0</td>\n",
       "      <td>180.0</td>\n",
       "      <td>1.5</td>\n",
       "      <td>10.5</td>\n",
       "      <td>10.0</td>\n",
       "      <td>70.0</td>\n",
       "      <td>25.0</td>\n",
       "      <td>1.00</td>\n",
       "      <td>29.509541</td>\n",
       "      <td>3</td>\n",
       "    </tr>\n",
       "    <tr>\n",
       "      <th>6</th>\n",
       "      <td>110.0</td>\n",
       "      <td>2.0</td>\n",
       "      <td>0.0</td>\n",
       "      <td>125.0</td>\n",
       "      <td>1.0</td>\n",
       "      <td>11.0</td>\n",
       "      <td>14.0</td>\n",
       "      <td>30.0</td>\n",
       "      <td>25.0</td>\n",
       "      <td>1.00</td>\n",
       "      <td>33.174094</td>\n",
       "      <td>3</td>\n",
       "    </tr>\n",
       "    <tr>\n",
       "      <th>7</th>\n",
       "      <td>130.0</td>\n",
       "      <td>3.0</td>\n",
       "      <td>2.0</td>\n",
       "      <td>210.0</td>\n",
       "      <td>2.0</td>\n",
       "      <td>18.0</td>\n",
       "      <td>8.0</td>\n",
       "      <td>100.0</td>\n",
       "      <td>25.0</td>\n",
       "      <td>1.33</td>\n",
       "      <td>37.038562</td>\n",
       "      <td>4</td>\n",
       "    </tr>\n",
       "    <tr>\n",
       "      <th>8</th>\n",
       "      <td>90.0</td>\n",
       "      <td>2.0</td>\n",
       "      <td>1.0</td>\n",
       "      <td>200.0</td>\n",
       "      <td>4.0</td>\n",
       "      <td>15.0</td>\n",
       "      <td>6.0</td>\n",
       "      <td>125.0</td>\n",
       "      <td>25.0</td>\n",
       "      <td>1.00</td>\n",
       "      <td>49.120253</td>\n",
       "      <td>0</td>\n",
       "    </tr>\n",
       "    <tr>\n",
       "      <th>9</th>\n",
       "      <td>90.0</td>\n",
       "      <td>3.0</td>\n",
       "      <td>0.0</td>\n",
       "      <td>210.0</td>\n",
       "      <td>5.0</td>\n",
       "      <td>13.0</td>\n",
       "      <td>5.0</td>\n",
       "      <td>190.0</td>\n",
       "      <td>25.0</td>\n",
       "      <td>1.00</td>\n",
       "      <td>53.313813</td>\n",
       "      <td>0</td>\n",
       "    </tr>\n",
       "  </tbody>\n",
       "</table>\n",
       "</div>"
      ],
      "text/plain": [
       "   calories  protein  fat  sodium  fiber  carbo  sugars  potass  vitamins  \\\n",
       "0      70.0      4.0  1.0   130.0   10.0    5.0     6.0   280.0      25.0   \n",
       "1     120.0      3.0  5.0    15.0    2.0    8.0     8.0   135.0       0.0   \n",
       "2      70.0      4.0  1.0   260.0    9.0    7.0     5.0   320.0      25.0   \n",
       "3      50.0      4.0  0.0   140.0   14.0    8.0     0.0   330.0      25.0   \n",
       "4     110.0      2.0  2.0   200.0    1.0   14.0     8.0    -1.0      25.0   \n",
       "5     110.0      2.0  2.0   180.0    1.5   10.5    10.0    70.0      25.0   \n",
       "6     110.0      2.0  0.0   125.0    1.0   11.0    14.0    30.0      25.0   \n",
       "7     130.0      3.0  2.0   210.0    2.0   18.0     8.0   100.0      25.0   \n",
       "8      90.0      2.0  1.0   200.0    4.0   15.0     6.0   125.0      25.0   \n",
       "9      90.0      3.0  0.0   210.0    5.0   13.0     5.0   190.0      25.0   \n",
       "\n",
       "   weight     rating  H_Cluster  \n",
       "0    1.00  68.402973          5  \n",
       "1    1.00  33.983679          2  \n",
       "2    1.00  59.425505          5  \n",
       "3    1.00  93.704912          5  \n",
       "4    1.00  34.384843          3  \n",
       "5    1.00  29.509541          3  \n",
       "6    1.00  33.174094          3  \n",
       "7    1.33  37.038562          4  \n",
       "8    1.00  49.120253          0  \n",
       "9    1.00  53.313813          0  "
      ]
     },
     "execution_count": 22,
     "metadata": {},
     "output_type": "execute_result"
    }
   ],
   "source": [
    "df.head(10)"
   ]
  },
  {
   "cell_type": "code",
   "execution_count": 23,
   "id": "8dce172d",
   "metadata": {
    "execution": {
     "iopub.execute_input": "2023-04-05T08:52:19.526680Z",
     "iopub.status.busy": "2023-04-05T08:52:19.526266Z",
     "iopub.status.idle": "2023-04-05T08:52:19.555799Z",
     "shell.execute_reply": "2023-04-05T08:52:19.554366Z"
    },
    "papermill": {
     "duration": 0.047641,
     "end_time": "2023-04-05T08:52:19.558706",
     "exception": false,
     "start_time": "2023-04-05T08:52:19.511065",
     "status": "completed"
    },
    "tags": []
   },
   "outputs": [
    {
     "data": {
      "text/html": [
       "<div>\n",
       "<style scoped>\n",
       "    .dataframe tbody tr th:only-of-type {\n",
       "        vertical-align: middle;\n",
       "    }\n",
       "\n",
       "    .dataframe tbody tr th {\n",
       "        vertical-align: top;\n",
       "    }\n",
       "\n",
       "    .dataframe thead th {\n",
       "        text-align: right;\n",
       "    }\n",
       "</style>\n",
       "<table border=\"1\" class=\"dataframe\">\n",
       "  <thead>\n",
       "    <tr style=\"text-align: right;\">\n",
       "      <th></th>\n",
       "      <th>calories</th>\n",
       "      <th>protein</th>\n",
       "      <th>fat</th>\n",
       "      <th>sodium</th>\n",
       "      <th>fiber</th>\n",
       "      <th>carbo</th>\n",
       "      <th>sugars</th>\n",
       "      <th>potass</th>\n",
       "      <th>vitamins</th>\n",
       "      <th>weight</th>\n",
       "      <th>rating</th>\n",
       "    </tr>\n",
       "    <tr>\n",
       "      <th>H_Cluster</th>\n",
       "      <th></th>\n",
       "      <th></th>\n",
       "      <th></th>\n",
       "      <th></th>\n",
       "      <th></th>\n",
       "      <th></th>\n",
       "      <th></th>\n",
       "      <th></th>\n",
       "      <th></th>\n",
       "      <th></th>\n",
       "      <th></th>\n",
       "    </tr>\n",
       "  </thead>\n",
       "  <tbody>\n",
       "    <tr>\n",
       "      <th>0</th>\n",
       "      <td>100.0</td>\n",
       "      <td>2.0</td>\n",
       "      <td>1.0</td>\n",
       "      <td>220.0</td>\n",
       "      <td>1.0</td>\n",
       "      <td>17.0</td>\n",
       "      <td>3.0</td>\n",
       "      <td>80.0</td>\n",
       "      <td>25.0</td>\n",
       "      <td>1.00</td>\n",
       "      <td>46.658844</td>\n",
       "    </tr>\n",
       "    <tr>\n",
       "      <th>1</th>\n",
       "      <td>90.0</td>\n",
       "      <td>2.5</td>\n",
       "      <td>0.0</td>\n",
       "      <td>0.0</td>\n",
       "      <td>2.5</td>\n",
       "      <td>15.5</td>\n",
       "      <td>0.0</td>\n",
       "      <td>95.0</td>\n",
       "      <td>0.0</td>\n",
       "      <td>1.00</td>\n",
       "      <td>61.880879</td>\n",
       "    </tr>\n",
       "    <tr>\n",
       "      <th>2</th>\n",
       "      <td>110.0</td>\n",
       "      <td>3.0</td>\n",
       "      <td>3.0</td>\n",
       "      <td>140.0</td>\n",
       "      <td>2.7</td>\n",
       "      <td>12.0</td>\n",
       "      <td>7.0</td>\n",
       "      <td>135.0</td>\n",
       "      <td>25.0</td>\n",
       "      <td>1.00</td>\n",
       "      <td>40.400208</td>\n",
       "    </tr>\n",
       "    <tr>\n",
       "      <th>3</th>\n",
       "      <td>110.0</td>\n",
       "      <td>1.5</td>\n",
       "      <td>1.0</td>\n",
       "      <td>180.0</td>\n",
       "      <td>0.5</td>\n",
       "      <td>12.0</td>\n",
       "      <td>11.5</td>\n",
       "      <td>40.0</td>\n",
       "      <td>25.0</td>\n",
       "      <td>1.00</td>\n",
       "      <td>29.716913</td>\n",
       "    </tr>\n",
       "    <tr>\n",
       "      <th>4</th>\n",
       "      <td>130.0</td>\n",
       "      <td>3.0</td>\n",
       "      <td>1.5</td>\n",
       "      <td>195.0</td>\n",
       "      <td>3.5</td>\n",
       "      <td>14.5</td>\n",
       "      <td>11.0</td>\n",
       "      <td>175.0</td>\n",
       "      <td>25.0</td>\n",
       "      <td>1.33</td>\n",
       "      <td>37.439578</td>\n",
       "    </tr>\n",
       "    <tr>\n",
       "      <th>5</th>\n",
       "      <td>70.0</td>\n",
       "      <td>4.0</td>\n",
       "      <td>1.0</td>\n",
       "      <td>140.0</td>\n",
       "      <td>10.0</td>\n",
       "      <td>7.0</td>\n",
       "      <td>5.0</td>\n",
       "      <td>320.0</td>\n",
       "      <td>25.0</td>\n",
       "      <td>1.00</td>\n",
       "      <td>68.402973</td>\n",
       "    </tr>\n",
       "  </tbody>\n",
       "</table>\n",
       "</div>"
      ],
      "text/plain": [
       "           calories  protein  fat  sodium  fiber  carbo  sugars  potass  \\\n",
       "H_Cluster                                                                 \n",
       "0             100.0      2.0  1.0   220.0    1.0   17.0     3.0    80.0   \n",
       "1              90.0      2.5  0.0     0.0    2.5   15.5     0.0    95.0   \n",
       "2             110.0      3.0  3.0   140.0    2.7   12.0     7.0   135.0   \n",
       "3             110.0      1.5  1.0   180.0    0.5   12.0    11.5    40.0   \n",
       "4             130.0      3.0  1.5   195.0    3.5   14.5    11.0   175.0   \n",
       "5              70.0      4.0  1.0   140.0   10.0    7.0     5.0   320.0   \n",
       "\n",
       "           vitamins  weight     rating  \n",
       "H_Cluster                               \n",
       "0              25.0    1.00  46.658844  \n",
       "1               0.0    1.00  61.880879  \n",
       "2              25.0    1.00  40.400208  \n",
       "3              25.0    1.00  29.716913  \n",
       "4              25.0    1.33  37.439578  \n",
       "5              25.0    1.00  68.402973  "
      ]
     },
     "execution_count": 23,
     "metadata": {},
     "output_type": "execute_result"
    }
   ],
   "source": [
    "\n",
    "df.groupby('H_Cluster').median()"
   ]
  },
  {
   "cell_type": "code",
   "execution_count": 24,
   "id": "7171cae2",
   "metadata": {
    "execution": {
     "iopub.execute_input": "2023-04-05T08:52:19.588948Z",
     "iopub.status.busy": "2023-04-05T08:52:19.588553Z",
     "iopub.status.idle": "2023-04-05T08:52:19.596837Z",
     "shell.execute_reply": "2023-04-05T08:52:19.595446Z"
    },
    "papermill": {
     "duration": 0.027008,
     "end_time": "2023-04-05T08:52:19.599629",
     "exception": false,
     "start_time": "2023-04-05T08:52:19.572621",
     "status": "completed"
    },
    "tags": []
   },
   "outputs": [
    {
     "data": {
      "text/plain": [
       "array([5, 2, 5, 5, 3, 3, 3, 4, 0, 0, 3, 0, 3, 2, 3, 0, 0, 3, 3, 2, 1, 0,\n",
       "       3, 0, 3, 3, 1, 4, 4, 3, 3, 3, 0, 0, 2, 3, 3, 3, 0, 4, 0, 2, 3, 1,\n",
       "       2, 2, 4, 0, 3, 4, 0, 4, 4, 0, 1, 1, 0, 2, 4, 2, 1, 0, 0, 1, 1, 1,\n",
       "       3, 0, 1, 0, 4, 0, 0, 3, 0, 0, 3])"
      ]
     },
     "execution_count": 24,
     "metadata": {},
     "output_type": "execute_result"
    }
   ],
   "source": [
    "# viewing all the cluster membership at one go\n",
    "result.Cluster.values"
   ]
  },
  {
   "cell_type": "markdown",
   "id": "3a1d9acd",
   "metadata": {
    "papermill": {
     "duration": 0.013779,
     "end_time": "2023-04-05T08:52:19.628052",
     "exception": false,
     "start_time": "2023-04-05T08:52:19.614273",
     "status": "completed"
    },
    "tags": []
   },
   "source": [
    "**## K-means Clustering**"
   ]
  },
  {
   "cell_type": "code",
   "execution_count": 25,
   "id": "17d352ac",
   "metadata": {
    "execution": {
     "iopub.execute_input": "2023-04-05T08:52:19.660511Z",
     "iopub.status.busy": "2023-04-05T08:52:19.659959Z",
     "iopub.status.idle": "2023-04-05T08:52:19.665534Z",
     "shell.execute_reply": "2023-04-05T08:52:19.664144Z"
    },
    "papermill": {
     "duration": 0.024844,
     "end_time": "2023-04-05T08:52:19.668190",
     "exception": false,
     "start_time": "2023-04-05T08:52:19.643346",
     "status": "completed"
    },
    "tags": []
   },
   "outputs": [],
   "source": [
    "# Load the module for kmeans from sklearn \n",
    "from sklearn.cluster import KMeans "
   ]
  },
  {
   "cell_type": "code",
   "execution_count": 26,
   "id": "3b6ca634",
   "metadata": {
    "execution": {
     "iopub.execute_input": "2023-04-05T08:52:19.699112Z",
     "iopub.status.busy": "2023-04-05T08:52:19.698378Z",
     "iopub.status.idle": "2023-04-05T08:52:19.733802Z",
     "shell.execute_reply": "2023-04-05T08:52:19.732634Z"
    },
    "papermill": {
     "duration": 0.054405,
     "end_time": "2023-04-05T08:52:19.736797",
     "exception": false,
     "start_time": "2023-04-05T08:52:19.682392",
     "status": "completed"
    },
    "tags": []
   },
   "outputs": [
    {
     "data": {
      "text/plain": [
       "KMeans(n_clusters=2)"
      ]
     },
     "execution_count": 26,
     "metadata": {},
     "output_type": "execute_result"
    }
   ],
   "source": [
    "# apply it on our data \n",
    "km = KMeans(n_clusters=2                                                       )\n",
    "km.fit(cereals_std)\n",
    "\n"
   ]
  },
  {
   "cell_type": "code",
   "execution_count": 27,
   "id": "5ddbd214",
   "metadata": {
    "execution": {
     "iopub.execute_input": "2023-04-05T08:52:19.769627Z",
     "iopub.status.busy": "2023-04-05T08:52:19.768798Z",
     "iopub.status.idle": "2023-04-05T08:52:19.775384Z",
     "shell.execute_reply": "2023-04-05T08:52:19.774350Z"
    },
    "papermill": {
     "duration": 0.024852,
     "end_time": "2023-04-05T08:52:19.777492",
     "exception": false,
     "start_time": "2023-04-05T08:52:19.752640",
     "status": "completed"
    },
    "tags": []
   },
   "outputs": [
    {
     "data": {
      "text/plain": [
       "664.360419281347"
      ]
     },
     "execution_count": 27,
     "metadata": {},
     "output_type": "execute_result"
    }
   ],
   "source": [
    "km.inertia_\n"
   ]
  },
  {
   "cell_type": "code",
   "execution_count": 28,
   "id": "8fef16d1",
   "metadata": {
    "execution": {
     "iopub.execute_input": "2023-04-05T08:52:19.809395Z",
     "iopub.status.busy": "2023-04-05T08:52:19.808608Z",
     "iopub.status.idle": "2023-04-05T08:52:20.860342Z",
     "shell.execute_reply": "2023-04-05T08:52:20.859296Z"
    },
    "papermill": {
     "duration": 1.071805,
     "end_time": "2023-04-05T08:52:20.863506",
     "exception": false,
     "start_time": "2023-04-05T08:52:19.791701",
     "status": "completed"
    },
    "tags": []
   },
   "outputs": [],
   "source": [
    "# For loop to know the suitable k \n",
    "wss = {}\n",
    "for k in range(2,25):\n",
    "    km = KMeans(n_clusters=k)\n",
    "    km.fit(cereals_std)\n",
    "    wss[k] = km.inertia_"
   ]
  },
  {
   "cell_type": "code",
   "execution_count": 29,
   "id": "eec0b426",
   "metadata": {
    "execution": {
     "iopub.execute_input": "2023-04-05T08:52:20.897478Z",
     "iopub.status.busy": "2023-04-05T08:52:20.897028Z",
     "iopub.status.idle": "2023-04-05T08:52:20.905163Z",
     "shell.execute_reply": "2023-04-05T08:52:20.903805Z"
    },
    "papermill": {
     "duration": 0.027259,
     "end_time": "2023-04-05T08:52:20.908017",
     "exception": false,
     "start_time": "2023-04-05T08:52:20.880758",
     "status": "completed"
    },
    "tags": []
   },
   "outputs": [
    {
     "data": {
      "text/plain": [
       "dict_keys([2, 3, 4, 5, 6, 7, 8, 9, 10, 11, 12, 13, 14, 15, 16, 17, 18, 19, 20, 21, 22, 23, 24])"
      ]
     },
     "execution_count": 29,
     "metadata": {},
     "output_type": "execute_result"
    }
   ],
   "source": [
    "# Cluster keys from wss \n",
    "wss.keys()"
   ]
  },
  {
   "cell_type": "code",
   "execution_count": 30,
   "id": "eeb81448",
   "metadata": {
    "execution": {
     "iopub.execute_input": "2023-04-05T08:52:20.942302Z",
     "iopub.status.busy": "2023-04-05T08:52:20.940723Z",
     "iopub.status.idle": "2023-04-05T08:52:20.949837Z",
     "shell.execute_reply": "2023-04-05T08:52:20.948767Z"
    },
    "papermill": {
     "duration": 0.028738,
     "end_time": "2023-04-05T08:52:20.952561",
     "exception": false,
     "start_time": "2023-04-05T08:52:20.923823",
     "status": "completed"
    },
    "tags": []
   },
   "outputs": [
    {
     "data": {
      "text/plain": [
       "dict_values([667.7570799868772, 550.1015518277474, 462.92053492401766, 386.2227035440753, 330.7687896344263, 287.76746471364214, 250.23673030624377, 222.88670299505992, 199.2891860052059, 185.65976131347384, 172.97287229861797, 160.04420030163155, 146.8141371089696, 129.4973625015104, 116.71020647113234, 106.98356131634243, 97.48915510190801, 92.00652285799416, 86.42224807900774, 82.6642885072489, 77.29040451012652, 71.37107891655612, 68.2552526793153])"
      ]
     },
     "execution_count": 30,
     "metadata": {},
     "output_type": "execute_result"
    }
   ],
   "source": [
    "# within ss for each cluster values\n",
    "wss.values()"
   ]
  },
  {
   "cell_type": "code",
   "execution_count": 31,
   "id": "fa8dcf81",
   "metadata": {
    "execution": {
     "iopub.execute_input": "2023-04-05T08:52:20.986051Z",
     "iopub.status.busy": "2023-04-05T08:52:20.984973Z",
     "iopub.status.idle": "2023-04-05T08:52:21.243454Z",
     "shell.execute_reply": "2023-04-05T08:52:21.242387Z"
    },
    "papermill": {
     "duration": 0.277399,
     "end_time": "2023-04-05T08:52:21.245819",
     "exception": false,
     "start_time": "2023-04-05T08:52:20.968420",
     "status": "completed"
    },
    "tags": []
   },
   "outputs": [
    {
     "data": {
      "image/png": "[encoded data removed]",
      "text/plain": [
       "<Figure size 1200x700 with 1 Axes>"
      ]
     },
     "metadata": {},
     "output_type": "display_data"
    }
   ],
   "source": [
    "# plotting the withinss \n",
    "plt.figure(figsize = (12,7))\n",
    "plt.plot(list(wss.keys()), list(wss.values()), 'bx--')\n",
    "plt.xlabel('#Clusters')\n",
    "plt.ylabel('Within SS')\n",
    "plt.show()"
   ]
  },
  {
   "cell_type": "code",
   "execution_count": 32,
   "id": "9620e6bb",
   "metadata": {
    "execution": {
     "iopub.execute_input": "2023-04-05T08:52:21.279737Z",
     "iopub.status.busy": "2023-04-05T08:52:21.279305Z",
     "iopub.status.idle": "2023-04-05T08:52:21.453199Z",
     "shell.execute_reply": "2023-04-05T08:52:21.452065Z"
    },
    "papermill": {
     "duration": 0.194896,
     "end_time": "2023-04-05T08:52:21.456468",
     "exception": false,
     "start_time": "2023-04-05T08:52:21.261572",
     "status": "completed"
    },
    "tags": []
   },
   "outputs": [
    {
     "data": {
      "text/plain": [
       "KMeans(n_clusters=6, n_init=50, random_state=4545)"
      ]
     },
     "execution_count": 32,
     "metadata": {},
     "output_type": "execute_result"
    }
   ],
   "source": [
    "# Building the K-means with x number of Clusters\n",
    "km  = KMeans(n_clusters=6, random_state =4545 , n_init =50 )\n",
    "km.fit(cereals_std)"
   ]
  },
  {
   "cell_type": "code",
   "execution_count": 33,
   "id": "ec4ef7d1",
   "metadata": {
    "execution": {
     "iopub.execute_input": "2023-04-05T08:52:21.490582Z",
     "iopub.status.busy": "2023-04-05T08:52:21.490142Z",
     "iopub.status.idle": "2023-04-05T08:52:21.551813Z",
     "shell.execute_reply": "2023-04-05T08:52:21.550226Z"
    },
    "papermill": {
     "duration": 0.081604,
     "end_time": "2023-04-05T08:52:21.555023",
     "exception": false,
     "start_time": "2023-04-05T08:52:21.473419",
     "status": "completed"
    },
    "tags": []
   },
   "outputs": [],
   "source": [
    "# Applying the Kmeans on the cereals data with the x cluster\n",
    "kmeans_clusters = km.predict(cereals_std)"
   ]
  },
  {
   "cell_type": "code",
   "execution_count": 34,
   "id": "d355c794",
   "metadata": {
    "execution": {
     "iopub.execute_input": "2023-04-05T08:52:21.653319Z",
     "iopub.status.busy": "2023-04-05T08:52:21.651052Z",
     "iopub.status.idle": "2023-04-05T08:52:21.680734Z",
     "shell.execute_reply": "2023-04-05T08:52:21.679545Z"
    },
    "papermill": {
     "duration": 0.075603,
     "end_time": "2023-04-05T08:52:21.683632",
     "exception": false,
     "start_time": "2023-04-05T08:52:21.608029",
     "status": "completed"
    },
    "tags": []
   },
   "outputs": [
    {
     "data": {
      "text/html": [
       "<div>\n",
       "<style scoped>\n",
       "    .dataframe tbody tr th:only-of-type {\n",
       "        vertical-align: middle;\n",
       "    }\n",
       "\n",
       "    .dataframe tbody tr th {\n",
       "        vertical-align: top;\n",
       "    }\n",
       "\n",
       "    .dataframe thead th {\n",
       "        text-align: right;\n",
       "    }\n",
       "</style>\n",
       "<table border=\"1\" class=\"dataframe\">\n",
       "  <thead>\n",
       "    <tr style=\"text-align: right;\">\n",
       "      <th></th>\n",
       "      <th>Labels</th>\n",
       "      <th>KMeans_Cluster</th>\n",
       "    </tr>\n",
       "  </thead>\n",
       "  <tbody>\n",
       "    <tr>\n",
       "      <th>46</th>\n",
       "      <td>Mueslix Crispy Blend</td>\n",
       "      <td>0</td>\n",
       "    </tr>\n",
       "    <tr>\n",
       "      <th>31</th>\n",
       "      <td>Golden Grahams</td>\n",
       "      <td>4</td>\n",
       "    </tr>\n",
       "    <tr>\n",
       "      <th>5</th>\n",
       "      <td>Apple Cinnamon Cheerios</td>\n",
       "      <td>4</td>\n",
       "    </tr>\n",
       "    <tr>\n",
       "      <th>71</th>\n",
       "      <td>Total Whole Grain</td>\n",
       "      <td>2</td>\n",
       "    </tr>\n",
       "    <tr>\n",
       "      <th>69</th>\n",
       "      <td>Total Corn Flakes</td>\n",
       "      <td>2</td>\n",
       "    </tr>\n",
       "    <tr>\n",
       "      <th>1</th>\n",
       "      <td>100% Natural Bran</td>\n",
       "      <td>3</td>\n",
       "    </tr>\n",
       "    <tr>\n",
       "      <th>27</th>\n",
       "      <td>Fruit &amp; Fibre Dates; Walnuts; and Oats</td>\n",
       "      <td>0</td>\n",
       "    </tr>\n",
       "    <tr>\n",
       "      <th>43</th>\n",
       "      <td>Maypo</td>\n",
       "      <td>1</td>\n",
       "    </tr>\n",
       "    <tr>\n",
       "      <th>57</th>\n",
       "      <td>Quaker Oatmeal</td>\n",
       "      <td>3</td>\n",
       "    </tr>\n",
       "    <tr>\n",
       "      <th>13</th>\n",
       "      <td>Clusters</td>\n",
       "      <td>3</td>\n",
       "    </tr>\n",
       "  </tbody>\n",
       "</table>\n",
       "</div>"
      ],
      "text/plain": [
       "                                    Labels  KMeans_Cluster\n",
       "46                    Mueslix Crispy Blend               0\n",
       "31                          Golden Grahams               4\n",
       "5                  Apple Cinnamon Cheerios               4\n",
       "71                       Total Whole Grain               2\n",
       "69                       Total Corn Flakes               2\n",
       "1                        100% Natural Bran               3\n",
       "27  Fruit & Fibre Dates; Walnuts; and Oats               0\n",
       "43                                   Maypo               1\n",
       "57                          Quaker Oatmeal               3\n",
       "13                                Clusters               3"
      ]
     },
     "execution_count": 34,
     "metadata": {},
     "output_type": "execute_result"
    }
   ],
   "source": [
    "result = pd.DataFrame({'Labels':labels,'KMeans_Cluster':kmeans_clusters})\n",
    "result.sample(10)"
   ]
  },
  {
   "cell_type": "code",
   "execution_count": 35,
   "id": "46b604f5",
   "metadata": {
    "execution": {
     "iopub.execute_input": "2023-04-05T08:52:21.717183Z",
     "iopub.status.busy": "2023-04-05T08:52:21.716288Z",
     "iopub.status.idle": "2023-04-05T08:52:21.724316Z",
     "shell.execute_reply": "2023-04-05T08:52:21.722712Z"
    },
    "papermill": {
     "duration": 0.028635,
     "end_time": "2023-04-05T08:52:21.727782",
     "exception": false,
     "start_time": "2023-04-05T08:52:21.699147",
     "status": "completed"
    },
    "tags": []
   },
   "outputs": [],
   "source": [
    "### Add Cluster Labels to Original Data and get cluster chracteristics\n",
    "df['KMeans_Cluster'] = result['KMeans_Cluster']"
   ]
  },
  {
   "cell_type": "code",
   "execution_count": 36,
   "id": "46c7a8da",
   "metadata": {
    "execution": {
     "iopub.execute_input": "2023-04-05T08:52:21.762137Z",
     "iopub.status.busy": "2023-04-05T08:52:21.761271Z",
     "iopub.status.idle": "2023-04-05T08:52:21.788584Z",
     "shell.execute_reply": "2023-04-05T08:52:21.786944Z"
    },
    "papermill": {
     "duration": 0.048093,
     "end_time": "2023-04-05T08:52:21.791574",
     "exception": false,
     "start_time": "2023-04-05T08:52:21.743481",
     "status": "completed"
    },
    "tags": []
   },
   "outputs": [
    {
     "data": {
      "text/html": [
       "<div>\n",
       "<style scoped>\n",
       "    .dataframe tbody tr th:only-of-type {\n",
       "        vertical-align: middle;\n",
       "    }\n",
       "\n",
       "    .dataframe tbody tr th {\n",
       "        vertical-align: top;\n",
       "    }\n",
       "\n",
       "    .dataframe thead th {\n",
       "        text-align: right;\n",
       "    }\n",
       "</style>\n",
       "<table border=\"1\" class=\"dataframe\">\n",
       "  <thead>\n",
       "    <tr style=\"text-align: right;\">\n",
       "      <th></th>\n",
       "      <th>calories</th>\n",
       "      <th>protein</th>\n",
       "      <th>fat</th>\n",
       "      <th>sodium</th>\n",
       "      <th>fiber</th>\n",
       "      <th>carbo</th>\n",
       "      <th>sugars</th>\n",
       "      <th>potass</th>\n",
       "      <th>vitamins</th>\n",
       "      <th>weight</th>\n",
       "    </tr>\n",
       "    <tr>\n",
       "      <th>KMeans_Cluster</th>\n",
       "      <th></th>\n",
       "      <th></th>\n",
       "      <th></th>\n",
       "      <th></th>\n",
       "      <th></th>\n",
       "      <th></th>\n",
       "      <th></th>\n",
       "      <th></th>\n",
       "      <th></th>\n",
       "      <th></th>\n",
       "    </tr>\n",
       "  </thead>\n",
       "  <tbody>\n",
       "    <tr>\n",
       "      <th>0</th>\n",
       "      <td>130.0</td>\n",
       "      <td>3.0</td>\n",
       "      <td>1.5</td>\n",
       "      <td>195.0</td>\n",
       "      <td>3.5</td>\n",
       "      <td>14.5</td>\n",
       "      <td>11.0</td>\n",
       "      <td>175.0</td>\n",
       "      <td>25.0</td>\n",
       "      <td>1.33</td>\n",
       "    </tr>\n",
       "    <tr>\n",
       "      <th>1</th>\n",
       "      <td>90.0</td>\n",
       "      <td>2.5</td>\n",
       "      <td>0.0</td>\n",
       "      <td>0.0</td>\n",
       "      <td>2.5</td>\n",
       "      <td>15.5</td>\n",
       "      <td>0.0</td>\n",
       "      <td>95.0</td>\n",
       "      <td>0.0</td>\n",
       "      <td>1.00</td>\n",
       "    </tr>\n",
       "    <tr>\n",
       "      <th>2</th>\n",
       "      <td>100.0</td>\n",
       "      <td>2.0</td>\n",
       "      <td>0.0</td>\n",
       "      <td>220.0</td>\n",
       "      <td>1.0</td>\n",
       "      <td>18.0</td>\n",
       "      <td>3.0</td>\n",
       "      <td>60.0</td>\n",
       "      <td>25.0</td>\n",
       "      <td>1.00</td>\n",
       "    </tr>\n",
       "    <tr>\n",
       "      <th>3</th>\n",
       "      <td>110.0</td>\n",
       "      <td>4.0</td>\n",
       "      <td>2.0</td>\n",
       "      <td>140.0</td>\n",
       "      <td>2.5</td>\n",
       "      <td>13.0</td>\n",
       "      <td>7.0</td>\n",
       "      <td>110.0</td>\n",
       "      <td>25.0</td>\n",
       "      <td>1.00</td>\n",
       "    </tr>\n",
       "    <tr>\n",
       "      <th>4</th>\n",
       "      <td>110.0</td>\n",
       "      <td>1.5</td>\n",
       "      <td>1.0</td>\n",
       "      <td>180.0</td>\n",
       "      <td>0.5</td>\n",
       "      <td>12.0</td>\n",
       "      <td>11.5</td>\n",
       "      <td>40.0</td>\n",
       "      <td>25.0</td>\n",
       "      <td>1.00</td>\n",
       "    </tr>\n",
       "    <tr>\n",
       "      <th>5</th>\n",
       "      <td>70.0</td>\n",
       "      <td>4.0</td>\n",
       "      <td>1.0</td>\n",
       "      <td>140.0</td>\n",
       "      <td>10.0</td>\n",
       "      <td>7.0</td>\n",
       "      <td>5.0</td>\n",
       "      <td>320.0</td>\n",
       "      <td>25.0</td>\n",
       "      <td>1.00</td>\n",
       "    </tr>\n",
       "  </tbody>\n",
       "</table>\n",
       "</div>"
      ],
      "text/plain": [
       "                calories  protein  fat  sodium  fiber  carbo  sugars  potass  \\\n",
       "KMeans_Cluster                                                                 \n",
       "0                  130.0      3.0  1.5   195.0    3.5   14.5    11.0   175.0   \n",
       "1                   90.0      2.5  0.0     0.0    2.5   15.5     0.0    95.0   \n",
       "2                  100.0      2.0  0.0   220.0    1.0   18.0     3.0    60.0   \n",
       "3                  110.0      4.0  2.0   140.0    2.5   13.0     7.0   110.0   \n",
       "4                  110.0      1.5  1.0   180.0    0.5   12.0    11.5    40.0   \n",
       "5                   70.0      4.0  1.0   140.0   10.0    7.0     5.0   320.0   \n",
       "\n",
       "                vitamins  weight  \n",
       "KMeans_Cluster                    \n",
       "0                   25.0    1.33  \n",
       "1                    0.0    1.00  \n",
       "2                   25.0    1.00  \n",
       "3                   25.0    1.00  \n",
       "4                   25.0    1.00  \n",
       "5                   25.0    1.00  "
      ]
     },
     "execution_count": 36,
     "metadata": {},
     "output_type": "execute_result"
    }
   ],
   "source": [
    "# Check the median for each variable w.r.to each cluster\n",
    "df.drop(['H_Cluster','rating'],axis=1).groupby('KMeans_Cluster').median()"
   ]
  },
  {
   "cell_type": "markdown",
   "id": "b9e0ff28",
   "metadata": {
    "papermill": {
     "duration": 0.01535,
     "end_time": "2023-04-05T08:52:21.822766",
     "exception": false,
     "start_time": "2023-04-05T08:52:21.807416",
     "status": "completed"
    },
    "tags": []
   },
   "source": [
    "** Outliers will influence the results** \n",
    "* Hierarchical clustering the distances are computed only once** \n",
    "* K-Means Clustering the cluster membership changes with initial cluster seeds **"
   ]
  },
  {
   "cell_type": "code",
   "execution_count": null,
   "id": "d70b2e5a",
   "metadata": {
    "papermill": {
     "duration": 0.015559,
     "end_time": "2023-04-05T08:52:21.854093",
     "exception": false,
     "start_time": "2023-04-05T08:52:21.838534",
     "status": "completed"
    },
    "tags": []
   },
   "outputs": [],
   "source": []
  },
  {
   "cell_type": "code",
   "execution_count": 37,
   "id": "1f687f1f",
   "metadata": {
    "execution": {
     "iopub.execute_input": "2023-04-05T08:52:21.887880Z",
     "iopub.status.busy": "2023-04-05T08:52:21.887106Z",
     "iopub.status.idle": "2023-04-05T08:52:21.891925Z",
     "shell.execute_reply": "2023-04-05T08:52:21.890868Z"
    },
    "papermill": {
     "duration": 0.025028,
     "end_time": "2023-04-05T08:52:21.894726",
     "exception": false,
     "start_time": "2023-04-05T08:52:21.869698",
     "status": "completed"
    },
    "tags": []
   },
   "outputs": [],
   "source": [
    "from sklearn.cluster import DBSCAN \n",
    "from sklearn.neighbors import NearestNeighbors"
   ]
  },
  {
   "cell_type": "code",
   "execution_count": 38,
   "id": "a35258c3",
   "metadata": {
    "execution": {
     "iopub.execute_input": "2023-04-05T08:52:21.929537Z",
     "iopub.status.busy": "2023-04-05T08:52:21.928307Z",
     "iopub.status.idle": "2023-04-05T08:52:21.939206Z",
     "shell.execute_reply": "2023-04-05T08:52:21.937978Z"
    },
    "papermill": {
     "duration": 0.031487,
     "end_time": "2023-04-05T08:52:21.942089",
     "exception": false,
     "start_time": "2023-04-05T08:52:21.910602",
     "status": "completed"
    },
    "tags": []
   },
   "outputs": [],
   "source": [
    "model=DBSCAN(eps=2,min_samples=2).fit(cereals_std)\n",
    "clusters=pd.DataFrame(model.labels_,columns=['clusters'])"
   ]
  },
  {
   "cell_type": "code",
   "execution_count": 39,
   "id": "f253dff3",
   "metadata": {
    "execution": {
     "iopub.execute_input": "2023-04-05T08:52:21.976338Z",
     "iopub.status.busy": "2023-04-05T08:52:21.975218Z",
     "iopub.status.idle": "2023-04-05T08:52:21.981929Z",
     "shell.execute_reply": "2023-04-05T08:52:21.980471Z"
    },
    "papermill": {
     "duration": 0.027077,
     "end_time": "2023-04-05T08:52:21.984922",
     "exception": false,
     "start_time": "2023-04-05T08:52:21.957845",
     "status": "completed"
    },
    "tags": []
   },
   "outputs": [],
   "source": [
    "### Add Cluster Labels to Original Data and get cluster chracteristics\n",
    "df['DBSCAN_Cluster'] = clusters['clusters']"
   ]
  },
  {
   "cell_type": "code",
   "execution_count": 40,
   "id": "ad1f25eb",
   "metadata": {
    "execution": {
     "iopub.execute_input": "2023-04-05T08:52:22.019804Z",
     "iopub.status.busy": "2023-04-05T08:52:22.018895Z",
     "iopub.status.idle": "2023-04-05T08:52:22.029121Z",
     "shell.execute_reply": "2023-04-05T08:52:22.028093Z"
    },
    "papermill": {
     "duration": 0.03115,
     "end_time": "2023-04-05T08:52:22.031678",
     "exception": false,
     "start_time": "2023-04-05T08:52:22.000528",
     "status": "completed"
    },
    "tags": []
   },
   "outputs": [
    {
     "data": {
      "text/plain": [
       "<pandas.core.groupby.generic.DataFrameGroupBy object at 0x767395ac0d10>"
      ]
     },
     "execution_count": 40,
     "metadata": {},
     "output_type": "execute_result"
    }
   ],
   "source": [
    "# Check the median for each variable w.r.to each cluster\n",
    "df.drop(['DBSCAN_Cluster','KMeans_Cluster','rating', 'weight'],axis=1).groupby('H_Cluster')"
   ]
  },
  {
   "cell_type": "code",
   "execution_count": 41,
   "id": "42f340ea",
   "metadata": {
    "execution": {
     "iopub.execute_input": "2023-04-05T08:52:22.066850Z",
     "iopub.status.busy": "2023-04-05T08:52:22.065681Z",
     "iopub.status.idle": "2023-04-05T08:52:22.088755Z",
     "shell.execute_reply": "2023-04-05T08:52:22.087381Z"
    },
    "papermill": {
     "duration": 0.043821,
     "end_time": "2023-04-05T08:52:22.091657",
     "exception": false,
     "start_time": "2023-04-05T08:52:22.047836",
     "status": "completed"
    },
    "tags": []
   },
   "outputs": [
    {
     "data": {
      "text/html": [
       "<div>\n",
       "<style scoped>\n",
       "    .dataframe tbody tr th:only-of-type {\n",
       "        vertical-align: middle;\n",
       "    }\n",
       "\n",
       "    .dataframe tbody tr th {\n",
       "        vertical-align: top;\n",
       "    }\n",
       "\n",
       "    .dataframe thead th {\n",
       "        text-align: right;\n",
       "    }\n",
       "</style>\n",
       "<table border=\"1\" class=\"dataframe\">\n",
       "  <thead>\n",
       "    <tr style=\"text-align: right;\">\n",
       "      <th></th>\n",
       "      <th>calories</th>\n",
       "      <th>protein</th>\n",
       "      <th>fat</th>\n",
       "      <th>sodium</th>\n",
       "      <th>fiber</th>\n",
       "      <th>carbo</th>\n",
       "      <th>sugars</th>\n",
       "      <th>potass</th>\n",
       "      <th>vitamins</th>\n",
       "    </tr>\n",
       "    <tr>\n",
       "      <th>KMeans_Cluster</th>\n",
       "      <th></th>\n",
       "      <th></th>\n",
       "      <th></th>\n",
       "      <th></th>\n",
       "      <th></th>\n",
       "      <th></th>\n",
       "      <th></th>\n",
       "      <th></th>\n",
       "      <th></th>\n",
       "    </tr>\n",
       "  </thead>\n",
       "  <tbody>\n",
       "    <tr>\n",
       "      <th>0</th>\n",
       "      <td>130.0</td>\n",
       "      <td>3.0</td>\n",
       "      <td>1.5</td>\n",
       "      <td>195.0</td>\n",
       "      <td>3.5</td>\n",
       "      <td>14.5</td>\n",
       "      <td>11.0</td>\n",
       "      <td>175.0</td>\n",
       "      <td>25.0</td>\n",
       "    </tr>\n",
       "    <tr>\n",
       "      <th>1</th>\n",
       "      <td>90.0</td>\n",
       "      <td>2.5</td>\n",
       "      <td>0.0</td>\n",
       "      <td>0.0</td>\n",
       "      <td>2.5</td>\n",
       "      <td>15.5</td>\n",
       "      <td>0.0</td>\n",
       "      <td>95.0</td>\n",
       "      <td>0.0</td>\n",
       "    </tr>\n",
       "    <tr>\n",
       "      <th>2</th>\n",
       "      <td>100.0</td>\n",
       "      <td>2.0</td>\n",
       "      <td>0.0</td>\n",
       "      <td>220.0</td>\n",
       "      <td>1.0</td>\n",
       "      <td>18.0</td>\n",
       "      <td>3.0</td>\n",
       "      <td>60.0</td>\n",
       "      <td>25.0</td>\n",
       "    </tr>\n",
       "    <tr>\n",
       "      <th>3</th>\n",
       "      <td>110.0</td>\n",
       "      <td>4.0</td>\n",
       "      <td>2.0</td>\n",
       "      <td>140.0</td>\n",
       "      <td>2.5</td>\n",
       "      <td>13.0</td>\n",
       "      <td>7.0</td>\n",
       "      <td>110.0</td>\n",
       "      <td>25.0</td>\n",
       "    </tr>\n",
       "    <tr>\n",
       "      <th>4</th>\n",
       "      <td>110.0</td>\n",
       "      <td>1.5</td>\n",
       "      <td>1.0</td>\n",
       "      <td>180.0</td>\n",
       "      <td>0.5</td>\n",
       "      <td>12.0</td>\n",
       "      <td>11.5</td>\n",
       "      <td>40.0</td>\n",
       "      <td>25.0</td>\n",
       "    </tr>\n",
       "    <tr>\n",
       "      <th>5</th>\n",
       "      <td>70.0</td>\n",
       "      <td>4.0</td>\n",
       "      <td>1.0</td>\n",
       "      <td>140.0</td>\n",
       "      <td>10.0</td>\n",
       "      <td>7.0</td>\n",
       "      <td>5.0</td>\n",
       "      <td>320.0</td>\n",
       "      <td>25.0</td>\n",
       "    </tr>\n",
       "  </tbody>\n",
       "</table>\n",
       "</div>"
      ],
      "text/plain": [
       "                calories  protein  fat  sodium  fiber  carbo  sugars  potass  \\\n",
       "KMeans_Cluster                                                                 \n",
       "0                  130.0      3.0  1.5   195.0    3.5   14.5    11.0   175.0   \n",
       "1                   90.0      2.5  0.0     0.0    2.5   15.5     0.0    95.0   \n",
       "2                  100.0      2.0  0.0   220.0    1.0   18.0     3.0    60.0   \n",
       "3                  110.0      4.0  2.0   140.0    2.5   13.0     7.0   110.0   \n",
       "4                  110.0      1.5  1.0   180.0    0.5   12.0    11.5    40.0   \n",
       "5                   70.0      4.0  1.0   140.0   10.0    7.0     5.0   320.0   \n",
       "\n",
       "                vitamins  \n",
       "KMeans_Cluster            \n",
       "0                   25.0  \n",
       "1                    0.0  \n",
       "2                   25.0  \n",
       "3                   25.0  \n",
       "4                   25.0  \n",
       "5                   25.0  "
      ]
     },
     "execution_count": 41,
     "metadata": {},
     "output_type": "execute_result"
    }
   ],
   "source": [
    "# Check the median for each variable w.r.to each cluster\n",
    "df.drop(['H_Cluster','DBSCAN_Cluster','weight','rating'],axis=1).groupby('KMeans_Cluster').median()"
   ]
  },
  {
   "cell_type": "code",
   "execution_count": 42,
   "id": "048aef66",
   "metadata": {
    "execution": {
     "iopub.execute_input": "2023-04-05T08:52:22.126913Z",
     "iopub.status.busy": "2023-04-05T08:52:22.125725Z",
     "iopub.status.idle": "2023-04-05T08:52:22.152210Z",
     "shell.execute_reply": "2023-04-05T08:52:22.150767Z"
    },
    "papermill": {
     "duration": 0.047307,
     "end_time": "2023-04-05T08:52:22.155000",
     "exception": false,
     "start_time": "2023-04-05T08:52:22.107693",
     "status": "completed"
    },
    "tags": []
   },
   "outputs": [
    {
     "data": {
      "text/html": [
       "<div>\n",
       "<style scoped>\n",
       "    .dataframe tbody tr th:only-of-type {\n",
       "        vertical-align: middle;\n",
       "    }\n",
       "\n",
       "    .dataframe tbody tr th {\n",
       "        vertical-align: top;\n",
       "    }\n",
       "\n",
       "    .dataframe thead th {\n",
       "        text-align: right;\n",
       "    }\n",
       "</style>\n",
       "<table border=\"1\" class=\"dataframe\">\n",
       "  <thead>\n",
       "    <tr style=\"text-align: right;\">\n",
       "      <th></th>\n",
       "      <th>calories</th>\n",
       "      <th>protein</th>\n",
       "      <th>fat</th>\n",
       "      <th>sodium</th>\n",
       "      <th>fiber</th>\n",
       "      <th>carbo</th>\n",
       "      <th>sugars</th>\n",
       "      <th>potass</th>\n",
       "      <th>vitamins</th>\n",
       "    </tr>\n",
       "    <tr>\n",
       "      <th>DBSCAN_Cluster</th>\n",
       "      <th></th>\n",
       "      <th></th>\n",
       "      <th></th>\n",
       "      <th></th>\n",
       "      <th></th>\n",
       "      <th></th>\n",
       "      <th></th>\n",
       "      <th></th>\n",
       "      <th></th>\n",
       "    </tr>\n",
       "  </thead>\n",
       "  <tbody>\n",
       "    <tr>\n",
       "      <th>-1</th>\n",
       "      <td>110.0</td>\n",
       "      <td>3.0</td>\n",
       "      <td>1.0</td>\n",
       "      <td>150.0</td>\n",
       "      <td>2.0</td>\n",
       "      <td>16.0</td>\n",
       "      <td>3.0</td>\n",
       "      <td>105.0</td>\n",
       "      <td>25.0</td>\n",
       "    </tr>\n",
       "    <tr>\n",
       "      <th>0</th>\n",
       "      <td>70.0</td>\n",
       "      <td>4.0</td>\n",
       "      <td>1.0</td>\n",
       "      <td>195.0</td>\n",
       "      <td>9.5</td>\n",
       "      <td>6.0</td>\n",
       "      <td>5.5</td>\n",
       "      <td>300.0</td>\n",
       "      <td>25.0</td>\n",
       "    </tr>\n",
       "    <tr>\n",
       "      <th>1</th>\n",
       "      <td>110.0</td>\n",
       "      <td>2.0</td>\n",
       "      <td>1.0</td>\n",
       "      <td>185.0</td>\n",
       "      <td>1.0</td>\n",
       "      <td>13.5</td>\n",
       "      <td>8.0</td>\n",
       "      <td>55.0</td>\n",
       "      <td>25.0</td>\n",
       "    </tr>\n",
       "    <tr>\n",
       "      <th>2</th>\n",
       "      <td>130.0</td>\n",
       "      <td>3.0</td>\n",
       "      <td>2.0</td>\n",
       "      <td>210.0</td>\n",
       "      <td>2.0</td>\n",
       "      <td>18.0</td>\n",
       "      <td>8.0</td>\n",
       "      <td>120.0</td>\n",
       "      <td>25.0</td>\n",
       "    </tr>\n",
       "    <tr>\n",
       "      <th>3</th>\n",
       "      <td>90.0</td>\n",
       "      <td>2.0</td>\n",
       "      <td>0.0</td>\n",
       "      <td>0.0</td>\n",
       "      <td>3.0</td>\n",
       "      <td>15.0</td>\n",
       "      <td>6.0</td>\n",
       "      <td>100.0</td>\n",
       "      <td>25.0</td>\n",
       "    </tr>\n",
       "    <tr>\n",
       "      <th>4</th>\n",
       "      <td>120.0</td>\n",
       "      <td>3.0</td>\n",
       "      <td>1.0</td>\n",
       "      <td>205.0</td>\n",
       "      <td>5.0</td>\n",
       "      <td>13.0</td>\n",
       "      <td>12.0</td>\n",
       "      <td>220.0</td>\n",
       "      <td>25.0</td>\n",
       "    </tr>\n",
       "    <tr>\n",
       "      <th>5</th>\n",
       "      <td>110.0</td>\n",
       "      <td>2.0</td>\n",
       "      <td>1.0</td>\n",
       "      <td>200.0</td>\n",
       "      <td>1.0</td>\n",
       "      <td>17.0</td>\n",
       "      <td>3.0</td>\n",
       "      <td>60.0</td>\n",
       "      <td>100.0</td>\n",
       "    </tr>\n",
       "    <tr>\n",
       "      <th>6</th>\n",
       "      <td>150.0</td>\n",
       "      <td>4.0</td>\n",
       "      <td>3.0</td>\n",
       "      <td>122.5</td>\n",
       "      <td>3.0</td>\n",
       "      <td>16.0</td>\n",
       "      <td>11.0</td>\n",
       "      <td>170.0</td>\n",
       "      <td>25.0</td>\n",
       "    </tr>\n",
       "    <tr>\n",
       "      <th>7</th>\n",
       "      <td>50.0</td>\n",
       "      <td>1.5</td>\n",
       "      <td>0.0</td>\n",
       "      <td>0.0</td>\n",
       "      <td>0.5</td>\n",
       "      <td>11.5</td>\n",
       "      <td>0.0</td>\n",
       "      <td>32.5</td>\n",
       "      <td>0.0</td>\n",
       "    </tr>\n",
       "    <tr>\n",
       "      <th>8</th>\n",
       "      <td>90.0</td>\n",
       "      <td>3.0</td>\n",
       "      <td>0.0</td>\n",
       "      <td>0.0</td>\n",
       "      <td>3.0</td>\n",
       "      <td>19.0</td>\n",
       "      <td>0.0</td>\n",
       "      <td>120.0</td>\n",
       "      <td>0.0</td>\n",
       "    </tr>\n",
       "  </tbody>\n",
       "</table>\n",
       "</div>"
      ],
      "text/plain": [
       "                calories  protein  fat  sodium  fiber  carbo  sugars  potass  \\\n",
       "DBSCAN_Cluster                                                                 \n",
       "-1                 110.0      3.0  1.0   150.0    2.0   16.0     3.0   105.0   \n",
       " 0                  70.0      4.0  1.0   195.0    9.5    6.0     5.5   300.0   \n",
       " 1                 110.0      2.0  1.0   185.0    1.0   13.5     8.0    55.0   \n",
       " 2                 130.0      3.0  2.0   210.0    2.0   18.0     8.0   120.0   \n",
       " 3                  90.0      2.0  0.0     0.0    3.0   15.0     6.0   100.0   \n",
       " 4                 120.0      3.0  1.0   205.0    5.0   13.0    12.0   220.0   \n",
       " 5                 110.0      2.0  1.0   200.0    1.0   17.0     3.0    60.0   \n",
       " 6                 150.0      4.0  3.0   122.5    3.0   16.0    11.0   170.0   \n",
       " 7                  50.0      1.5  0.0     0.0    0.5   11.5     0.0    32.5   \n",
       " 8                  90.0      3.0  0.0     0.0    3.0   19.0     0.0   120.0   \n",
       "\n",
       "                vitamins  \n",
       "DBSCAN_Cluster            \n",
       "-1                  25.0  \n",
       " 0                  25.0  \n",
       " 1                  25.0  \n",
       " 2                  25.0  \n",
       " 3                  25.0  \n",
       " 4                  25.0  \n",
       " 5                 100.0  \n",
       " 6                  25.0  \n",
       " 7                   0.0  \n",
       " 8                   0.0  "
      ]
     },
     "execution_count": 42,
     "metadata": {},
     "output_type": "execute_result"
    }
   ],
   "source": [
    "# Check the median for each variable w.r.to each cluster\n",
    "# -1 is for \n",
    "df.drop(['H_Cluster','KMeans_Cluster', 'weight','rating'],axis=1).groupby('DBSCAN_Cluster').median()"
   ]
  },
  {
   "cell_type": "code",
   "execution_count": 43,
   "id": "df829ea4",
   "metadata": {
    "execution": {
     "iopub.execute_input": "2023-04-05T08:52:22.191791Z",
     "iopub.status.busy": "2023-04-05T08:52:22.190726Z",
     "iopub.status.idle": "2023-04-05T08:52:22.200890Z",
     "shell.execute_reply": "2023-04-05T08:52:22.199695Z"
    },
    "papermill": {
     "duration": 0.030966,
     "end_time": "2023-04-05T08:52:22.203484",
     "exception": false,
     "start_time": "2023-04-05T08:52:22.172518",
     "status": "completed"
    },
    "tags": []
   },
   "outputs": [
    {
     "data": {
      "text/plain": [
       " 1    44\n",
       "-1    11\n",
       " 4     4\n",
       " 2     3\n",
       " 3     3\n",
       " 5     3\n",
       " 8     3\n",
       " 0     2\n",
       " 6     2\n",
       " 7     2\n",
       "Name: DBSCAN_Cluster, dtype: int64"
      ]
     },
     "execution_count": 43,
     "metadata": {},
     "output_type": "execute_result"
    }
   ],
   "source": [
    "df['DBSCAN_Cluster'].value_counts()"
   ]
  },
  {
   "cell_type": "code",
   "execution_count": null,
   "id": "6d6f47f6",
   "metadata": {
    "papermill": {
     "duration": 0.016108,
     "end_time": "2023-04-05T08:52:22.236807",
     "exception": false,
     "start_time": "2023-04-05T08:52:22.220699",
     "status": "completed"
    },
    "tags": []
   },
   "outputs": [],
   "source": []
  }
 ],
 "metadata": {
  "kernelspec": {
   "display_name": "Python 3",
   "language": "python",
   "name": "python3"
  },
  "language_info": {
   "codemirror_mode": {
    "name": "ipython",
    "version": 3
   },
   "file_extension": ".py",
   "mimetype": "text/x-python",
   "name": "python",
   "nbconvert_exporter": "python",
   "pygments_lexer": "ipython3",
   "version": "3.7.12"
  },
  "papermill": {
   "default_parameters": {},
   "duration": 19.974282,
   "end_time": "2023-04-05T08:52:23.177565",
   "environment_variables": {},
   "exception": null,
   "input_path": "__notebook__.ipynb",
   "output_path": "__notebook__.ipynb",
   "parameters": {},
   "start_time": "2023-04-05T08:52:03.203283",
   "version": "2.4.0"
  }
 },
 "nbformat": 4,
 "nbformat_minor": 5
}
