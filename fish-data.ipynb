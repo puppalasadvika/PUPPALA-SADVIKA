{
 "cells": [
  {
   "cell_type": "code",
   "execution_count": 1,
   "id": "1bedde18",
   "metadata": {
    "_cell_guid": "b1076dfc-b9ad-4769-8c92-a6c4dae69d19",
    "_uuid": "8f2839f25d086af736a60e9eeb907d3b93b6e0e5",
    "execution": {
     "iopub.execute_input": "2023-03-04T17:07:45.221236Z",
     "iopub.status.busy": "2023-03-04T17:07:45.220125Z",
     "iopub.status.idle": "2023-03-04T17:07:45.243173Z",
     "shell.execute_reply": "2023-03-04T17:07:45.242226Z"
    },
    "papermill": {
     "duration": 0.053231,
     "end_time": "2023-03-04T17:07:45.246767",
     "exception": false,
     "start_time": "2023-03-04T17:07:45.193536",
     "status": "completed"
    },
    "tags": []
   },
   "outputs": [
    {
     "name": "stdout",
     "output_type": "stream",
     "text": [
      "/kaggle/input/fish-market/Fish.csv\n"
     ]
    }
   ],
   "source": [
    "\n",
    "# This Python 3 environment comes with many helpful analytics libraries installed\n",
    "# It is defined by the kaggle/python Docker image: https://github.com/kaggle/docker-python\n",
    "# For example, here's several helpful packages to load\n",
    "\n",
    "import numpy as np # linear algebra\n",
    "import pandas as pd # data processing, CSV file I/O (e.g. pd.read_csv)\n",
    "\n",
    "# Input data files are available in the read-only \"../input/\" directory\n",
    "# For example, running this (by clicking run or pressing Shift+Enter) will list all files under the input directory\n",
    "\n",
    "import os\n",
    "for dirname, _, filenames in os.walk('/kaggle/input'):\n",
    "    for filename in filenames:\n",
    "        print(os.path.join(dirname, filename))\n",
    "\n",
    "# You can write up to 20GB to the current directory (/kaggle/working/) that gets preserved as output when you create a version using \"Save & Run All\" \n",
    "# You can also write temporary files to /kaggle/temp/, but they won't be saved outside of the current session"
   ]
  },
  {
   "cell_type": "code",
   "execution_count": 2,
   "id": "94474887",
   "metadata": {
    "execution": {
     "iopub.execute_input": "2023-03-04T17:07:45.299652Z",
     "iopub.status.busy": "2023-03-04T17:07:45.298614Z",
     "iopub.status.idle": "2023-03-04T17:07:46.732532Z",
     "shell.execute_reply": "2023-03-04T17:07:46.731481Z"
    },
    "papermill": {
     "duration": 1.462203,
     "end_time": "2023-03-04T17:07:46.735650",
     "exception": false,
     "start_time": "2023-03-04T17:07:45.273447",
     "status": "completed"
    },
    "tags": []
   },
   "outputs": [],
   "source": [
    "import pandas as pd\n",
    "import numpy as np\n",
    "import matplotlib\n",
    "import matplotlib.pyplot as plt\n",
    "import seaborn as sns\n",
    "from IPython.display import Image\n",
    "from sklearn.model_selection import train_test_split"
   ]
  },
  {
   "cell_type": "code",
   "execution_count": 3,
   "id": "8b60c875",
   "metadata": {
    "execution": {
     "iopub.execute_input": "2023-03-04T17:07:46.786273Z",
     "iopub.status.busy": "2023-03-04T17:07:46.785216Z",
     "iopub.status.idle": "2023-03-04T17:07:46.790779Z",
     "shell.execute_reply": "2023-03-04T17:07:46.789539Z"
    },
    "papermill": {
     "duration": 0.033402,
     "end_time": "2023-03-04T17:07:46.793406",
     "exception": false,
     "start_time": "2023-03-04T17:07:46.760004",
     "status": "completed"
    },
    "tags": []
   },
   "outputs": [],
   "source": [
    "import warnings\n",
    "warnings.filterwarnings(\"ignore\")"
   ]
  },
  {
   "cell_type": "code",
   "execution_count": 4,
   "id": "e5b03ba5",
   "metadata": {
    "execution": {
     "iopub.execute_input": "2023-03-04T17:07:46.842960Z",
     "iopub.status.busy": "2023-03-04T17:07:46.842172Z",
     "iopub.status.idle": "2023-03-04T17:07:46.858965Z",
     "shell.execute_reply": "2023-03-04T17:07:46.858011Z"
    },
    "papermill": {
     "duration": 0.044985,
     "end_time": "2023-03-04T17:07:46.862053",
     "exception": false,
     "start_time": "2023-03-04T17:07:46.817068",
     "status": "completed"
    },
    "tags": []
   },
   "outputs": [],
   "source": [
    "data=pd.read_csv(\"/kaggle/input/fish-market/Fish.csv\")"
   ]
  },
  {
   "cell_type": "code",
   "execution_count": 5,
   "id": "0b6f8238",
   "metadata": {
    "execution": {
     "iopub.execute_input": "2023-03-04T17:07:46.911441Z",
     "iopub.status.busy": "2023-03-04T17:07:46.910755Z",
     "iopub.status.idle": "2023-03-04T17:07:46.944072Z",
     "shell.execute_reply": "2023-03-04T17:07:46.943180Z"
    },
    "papermill": {
     "duration": 0.060976,
     "end_time": "2023-03-04T17:07:46.946729",
     "exception": false,
     "start_time": "2023-03-04T17:07:46.885753",
     "status": "completed"
    },
    "tags": []
   },
   "outputs": [
    {
     "data": {
      "text/html": [
       "<div>\n",
       "<style scoped>\n",
       "    .dataframe tbody tr th:only-of-type {\n",
       "        vertical-align: middle;\n",
       "    }\n",
       "\n",
       "    .dataframe tbody tr th {\n",
       "        vertical-align: top;\n",
       "    }\n",
       "\n",
       "    .dataframe thead th {\n",
       "        text-align: right;\n",
       "    }\n",
       "</style>\n",
       "<table border=\"1\" class=\"dataframe\">\n",
       "  <thead>\n",
       "    <tr style=\"text-align: right;\">\n",
       "      <th></th>\n",
       "      <th>Species</th>\n",
       "      <th>Weight</th>\n",
       "      <th>Length1</th>\n",
       "      <th>Length2</th>\n",
       "      <th>Length3</th>\n",
       "      <th>Height</th>\n",
       "      <th>Width</th>\n",
       "    </tr>\n",
       "  </thead>\n",
       "  <tbody>\n",
       "    <tr>\n",
       "      <th>0</th>\n",
       "      <td>Bream</td>\n",
       "      <td>242.0</td>\n",
       "      <td>23.2</td>\n",
       "      <td>25.4</td>\n",
       "      <td>30.0</td>\n",
       "      <td>11.5200</td>\n",
       "      <td>4.0200</td>\n",
       "    </tr>\n",
       "    <tr>\n",
       "      <th>1</th>\n",
       "      <td>Bream</td>\n",
       "      <td>290.0</td>\n",
       "      <td>24.0</td>\n",
       "      <td>26.3</td>\n",
       "      <td>31.2</td>\n",
       "      <td>12.4800</td>\n",
       "      <td>4.3056</td>\n",
       "    </tr>\n",
       "    <tr>\n",
       "      <th>2</th>\n",
       "      <td>Bream</td>\n",
       "      <td>340.0</td>\n",
       "      <td>23.9</td>\n",
       "      <td>26.5</td>\n",
       "      <td>31.1</td>\n",
       "      <td>12.3778</td>\n",
       "      <td>4.6961</td>\n",
       "    </tr>\n",
       "    <tr>\n",
       "      <th>3</th>\n",
       "      <td>Bream</td>\n",
       "      <td>363.0</td>\n",
       "      <td>26.3</td>\n",
       "      <td>29.0</td>\n",
       "      <td>33.5</td>\n",
       "      <td>12.7300</td>\n",
       "      <td>4.4555</td>\n",
       "    </tr>\n",
       "    <tr>\n",
       "      <th>4</th>\n",
       "      <td>Bream</td>\n",
       "      <td>430.0</td>\n",
       "      <td>26.5</td>\n",
       "      <td>29.0</td>\n",
       "      <td>34.0</td>\n",
       "      <td>12.4440</td>\n",
       "      <td>5.1340</td>\n",
       "    </tr>\n",
       "  </tbody>\n",
       "</table>\n",
       "</div>"
      ],
      "text/plain": [
       "  Species  Weight  Length1  Length2  Length3   Height   Width\n",
       "0   Bream   242.0     23.2     25.4     30.0  11.5200  4.0200\n",
       "1   Bream   290.0     24.0     26.3     31.2  12.4800  4.3056\n",
       "2   Bream   340.0     23.9     26.5     31.1  12.3778  4.6961\n",
       "3   Bream   363.0     26.3     29.0     33.5  12.7300  4.4555\n",
       "4   Bream   430.0     26.5     29.0     34.0  12.4440  5.1340"
      ]
     },
     "execution_count": 5,
     "metadata": {},
     "output_type": "execute_result"
    }
   ],
   "source": [
    "data.head(5)"
   ]
  },
  {
   "cell_type": "code",
   "execution_count": 6,
   "id": "fa310fae",
   "metadata": {
    "execution": {
     "iopub.execute_input": "2023-03-04T17:07:46.997302Z",
     "iopub.status.busy": "2023-03-04T17:07:46.996025Z",
     "iopub.status.idle": "2023-03-04T17:07:47.033326Z",
     "shell.execute_reply": "2023-03-04T17:07:47.032041Z"
    },
    "papermill": {
     "duration": 0.065329,
     "end_time": "2023-03-04T17:07:47.036361",
     "exception": false,
     "start_time": "2023-03-04T17:07:46.971032",
     "status": "completed"
    },
    "tags": []
   },
   "outputs": [
    {
     "data": {
      "text/html": [
       "<div>\n",
       "<style scoped>\n",
       "    .dataframe tbody tr th:only-of-type {\n",
       "        vertical-align: middle;\n",
       "    }\n",
       "\n",
       "    .dataframe tbody tr th {\n",
       "        vertical-align: top;\n",
       "    }\n",
       "\n",
       "    .dataframe thead th {\n",
       "        text-align: right;\n",
       "    }\n",
       "</style>\n",
       "<table border=\"1\" class=\"dataframe\">\n",
       "  <thead>\n",
       "    <tr style=\"text-align: right;\">\n",
       "      <th></th>\n",
       "      <th>Weight</th>\n",
       "      <th>Length1</th>\n",
       "      <th>Length2</th>\n",
       "      <th>Length3</th>\n",
       "      <th>Height</th>\n",
       "      <th>Width</th>\n",
       "    </tr>\n",
       "  </thead>\n",
       "  <tbody>\n",
       "    <tr>\n",
       "      <th>count</th>\n",
       "      <td>159.000000</td>\n",
       "      <td>159.000000</td>\n",
       "      <td>159.000000</td>\n",
       "      <td>159.000000</td>\n",
       "      <td>159.000000</td>\n",
       "      <td>159.000000</td>\n",
       "    </tr>\n",
       "    <tr>\n",
       "      <th>mean</th>\n",
       "      <td>398.326415</td>\n",
       "      <td>26.247170</td>\n",
       "      <td>28.415723</td>\n",
       "      <td>31.227044</td>\n",
       "      <td>8.970994</td>\n",
       "      <td>4.417486</td>\n",
       "    </tr>\n",
       "    <tr>\n",
       "      <th>std</th>\n",
       "      <td>357.978317</td>\n",
       "      <td>9.996441</td>\n",
       "      <td>10.716328</td>\n",
       "      <td>11.610246</td>\n",
       "      <td>4.286208</td>\n",
       "      <td>1.685804</td>\n",
       "    </tr>\n",
       "    <tr>\n",
       "      <th>min</th>\n",
       "      <td>0.000000</td>\n",
       "      <td>7.500000</td>\n",
       "      <td>8.400000</td>\n",
       "      <td>8.800000</td>\n",
       "      <td>1.728400</td>\n",
       "      <td>1.047600</td>\n",
       "    </tr>\n",
       "    <tr>\n",
       "      <th>25%</th>\n",
       "      <td>120.000000</td>\n",
       "      <td>19.050000</td>\n",
       "      <td>21.000000</td>\n",
       "      <td>23.150000</td>\n",
       "      <td>5.944800</td>\n",
       "      <td>3.385650</td>\n",
       "    </tr>\n",
       "    <tr>\n",
       "      <th>50%</th>\n",
       "      <td>273.000000</td>\n",
       "      <td>25.200000</td>\n",
       "      <td>27.300000</td>\n",
       "      <td>29.400000</td>\n",
       "      <td>7.786000</td>\n",
       "      <td>4.248500</td>\n",
       "    </tr>\n",
       "    <tr>\n",
       "      <th>75%</th>\n",
       "      <td>650.000000</td>\n",
       "      <td>32.700000</td>\n",
       "      <td>35.500000</td>\n",
       "      <td>39.650000</td>\n",
       "      <td>12.365900</td>\n",
       "      <td>5.584500</td>\n",
       "    </tr>\n",
       "    <tr>\n",
       "      <th>max</th>\n",
       "      <td>1650.000000</td>\n",
       "      <td>59.000000</td>\n",
       "      <td>63.400000</td>\n",
       "      <td>68.000000</td>\n",
       "      <td>18.957000</td>\n",
       "      <td>8.142000</td>\n",
       "    </tr>\n",
       "  </tbody>\n",
       "</table>\n",
       "</div>"
      ],
      "text/plain": [
       "            Weight     Length1     Length2     Length3      Height       Width\n",
       "count   159.000000  159.000000  159.000000  159.000000  159.000000  159.000000\n",
       "mean    398.326415   26.247170   28.415723   31.227044    8.970994    4.417486\n",
       "std     357.978317    9.996441   10.716328   11.610246    4.286208    1.685804\n",
       "min       0.000000    7.500000    8.400000    8.800000    1.728400    1.047600\n",
       "25%     120.000000   19.050000   21.000000   23.150000    5.944800    3.385650\n",
       "50%     273.000000   25.200000   27.300000   29.400000    7.786000    4.248500\n",
       "75%     650.000000   32.700000   35.500000   39.650000   12.365900    5.584500\n",
       "max    1650.000000   59.000000   63.400000   68.000000   18.957000    8.142000"
      ]
     },
     "execution_count": 6,
     "metadata": {},
     "output_type": "execute_result"
    }
   ],
   "source": [
    "data.describe()"
   ]
  },
  {
   "cell_type": "code",
   "execution_count": 7,
   "id": "4d6ff8a5",
   "metadata": {
    "execution": {
     "iopub.execute_input": "2023-03-04T17:07:47.089348Z",
     "iopub.status.busy": "2023-03-04T17:07:47.088859Z",
     "iopub.status.idle": "2023-03-04T17:07:47.098641Z",
     "shell.execute_reply": "2023-03-04T17:07:47.097443Z"
    },
    "papermill": {
     "duration": 0.039641,
     "end_time": "2023-03-04T17:07:47.101174",
     "exception": false,
     "start_time": "2023-03-04T17:07:47.061533",
     "status": "completed"
    },
    "tags": []
   },
   "outputs": [
    {
     "data": {
      "text/plain": [
       "Perch        56\n",
       "Bream        35\n",
       "Roach        20\n",
       "Pike         17\n",
       "Smelt        14\n",
       "Parkki       11\n",
       "Whitefish     6\n",
       "Name: Species, dtype: int64"
      ]
     },
     "execution_count": 7,
     "metadata": {},
     "output_type": "execute_result"
    }
   ],
   "source": [
    "data['Species'].value_counts()"
   ]
  },
  {
   "cell_type": "code",
   "execution_count": 8,
   "id": "66acd0c1",
   "metadata": {
    "execution": {
     "iopub.execute_input": "2023-03-04T17:07:47.151548Z",
     "iopub.status.busy": "2023-03-04T17:07:47.150556Z",
     "iopub.status.idle": "2023-03-04T17:07:47.155660Z",
     "shell.execute_reply": "2023-03-04T17:07:47.154668Z"
    },
    "papermill": {
     "duration": 0.032876,
     "end_time": "2023-03-04T17:07:47.157979",
     "exception": false,
     "start_time": "2023-03-04T17:07:47.125103",
     "status": "completed"
    },
    "tags": []
   },
   "outputs": [],
   "source": [
    "num_cols=['Length1','Length2','Length3','Height','Width']"
   ]
  },
  {
   "cell_type": "code",
   "execution_count": 9,
   "id": "ed8dd635",
   "metadata": {
    "execution": {
     "iopub.execute_input": "2023-03-04T17:07:47.207749Z",
     "iopub.status.busy": "2023-03-04T17:07:47.207361Z",
     "iopub.status.idle": "2023-03-04T17:07:47.211962Z",
     "shell.execute_reply": "2023-03-04T17:07:47.210689Z"
    },
    "papermill": {
     "duration": 0.032871,
     "end_time": "2023-03-04T17:07:47.214701",
     "exception": false,
     "start_time": "2023-03-04T17:07:47.181830",
     "status": "completed"
    },
    "tags": []
   },
   "outputs": [],
   "source": [
    "cat_cols=['Species']"
   ]
  },
  {
   "cell_type": "code",
   "execution_count": 10,
   "id": "4b65d56b",
   "metadata": {
    "execution": {
     "iopub.execute_input": "2023-03-04T17:07:47.265564Z",
     "iopub.status.busy": "2023-03-04T17:07:47.265098Z",
     "iopub.status.idle": "2023-03-04T17:07:50.876774Z",
     "shell.execute_reply": "2023-03-04T17:07:50.875565Z"
    },
    "papermill": {
     "duration": 3.640386,
     "end_time": "2023-03-04T17:07:50.879500",
     "exception": false,
     "start_time": "2023-03-04T17:07:47.239114",
     "status": "completed"
    },
    "tags": []
   },
   "outputs": [
    {
     "data": {
      "text/html": [
       "        <script type=\"text/javascript\">\n",
       "        window.PlotlyConfig = {MathJaxConfig: 'local'};\n",
       "        if (window.MathJax && window.MathJax.Hub && window.MathJax.Hub.Config) {window.MathJax.Hub.Config({SVG: {font: \"STIX-Web\"}});}\n",
       "        if (typeof require !== 'undefined') {\n",
       "        require.undef(\"plotly\");\n",
       "        requirejs.config({\n",
       "            paths: {\n",
       "                'plotly': ['https://cdn.plot.ly/plotly-2.18.0.min']\n",
       "            }\n",
       "        });\n",
       "        require(['plotly'], function(Plotly) {\n",
       "            window._Plotly = Plotly;\n",
       "        });\n",
       "        }\n",
       "        </script>\n",
       "        "
      ]
     },
     "metadata": {},
     "output_type": "display_data"
    },
    {
     "data": {
      "text/html": [
       "<div>                            <div id=\"803f2f8a-e0a2-459b-b6e2-277f6ec33a16\" class=\"plotly-graph-div\" style=\"height:525px; width:100%;\"></div>            <script type=\"text/javascript\">                require([\"plotly\"], function(Plotly) {                    window.PLOTLYENV=window.PLOTLYENV || {};                                    if (document.getElementById(\"803f2f8a-e0a2-459b-b6e2-277f6ec33a16\")) {                    Plotly.newPlot(                        \"803f2f8a-e0a2-459b-b6e2-277f6ec33a16\",                        [{\"hovertemplate\":\"Weight=%{x}<br>Height=%{y}<extra></extra>\",\"legendgroup\":\"\",\"marker\":{\"color\":\"#636efa\",\"symbol\":\"circle\"},\"mode\":\"markers\",\"name\":\"\",\"orientation\":\"v\",\"showlegend\":false,\"x\":[242.0,290.0,340.0,363.0,430.0,450.0,500.0,390.0,450.0,500.0,475.0,500.0,500.0,340.0,600.0,600.0,700.0,700.0,610.0,650.0,575.0,685.0,620.0,680.0,700.0,725.0,720.0,714.0,850.0,1000.0,920.0,955.0,925.0,975.0,950.0,40.0,69.0,78.0,87.0,120.0,0.0,110.0,120.0,150.0,145.0,160.0,140.0,160.0,169.0,161.0,200.0,180.0,290.0,272.0,390.0,270.0,270.0,306.0,540.0,800.0,1000.0,55.0,60.0,90.0,120.0,150.0,140.0,170.0,145.0,200.0,273.0,300.0,5.9,32.0,40.0,51.5,70.0,100.0,78.0,80.0,85.0,85.0,110.0,115.0,125.0,130.0,120.0,120.0,130.0,135.0,110.0,130.0,150.0,145.0,150.0,170.0,225.0,145.0,188.0,180.0,197.0,218.0,300.0,260.0,265.0,250.0,250.0,300.0,320.0,514.0,556.0,840.0,685.0,700.0,700.0,690.0,900.0,650.0,820.0,850.0,900.0,1015.0,820.0,1100.0,1000.0,1100.0,1000.0,1000.0,200.0,300.0,300.0,300.0,430.0,345.0,456.0,510.0,540.0,500.0,567.0,770.0,950.0,1250.0,1600.0,1550.0,1650.0,6.7,7.5,7.0,9.7,9.8,8.7,10.0,9.9,9.8,12.2,13.4,12.2,19.7,19.9],\"xaxis\":\"x\",\"y\":[11.52,12.48,12.3778,12.73,12.444,13.6024,14.1795,12.67,14.0049,14.2266,14.2628,14.3714,13.7592,13.9129,14.9544,15.438,14.8604,14.938,15.633,14.4738,15.1285,15.9936,15.5227,15.4686,16.2405,16.36,16.3618,16.517,16.8896,18.957,18.0369,18.084,18.7542,18.6354,17.6235,4.1472,5.2983,5.5756,5.6166,6.216,6.4752,6.1677,6.1146,5.8045,6.6339,7.0334,6.55,6.4,7.5344,6.9153,7.3968,7.0866,8.8768,8.568,9.485,8.3804,8.1454,8.778,10.744,11.7612,12.354,6.8475,6.5772,7.4052,8.3922,8.8928,8.5376,9.396,9.7364,10.3458,11.088,11.368,2.112,3.528,3.824,4.5924,4.588,5.2224,5.1992,5.6358,5.1376,5.082,5.6925,5.9175,5.6925,6.384,6.11,5.64,6.11,5.875,5.5225,5.856,6.792,5.9532,5.2185,6.275,7.293,6.375,6.7334,6.4395,6.561,7.168,8.323,7.1672,7.0516,7.2828,7.8204,7.5852,7.6156,10.03,10.2565,11.4884,10.881,10.6091,10.835,10.5717,11.1366,11.1366,12.4313,11.9286,11.73,12.3808,11.135,12.8002,11.9328,12.5125,12.604,12.4888,5.568,5.7078,5.9364,6.2884,7.29,6.396,7.28,6.825,7.786,6.96,7.792,7.68,8.9262,10.6863,9.6,9.6,10.812,1.7388,1.972,1.7284,2.196,2.0832,1.9782,2.2139,2.2139,2.2044,2.0904,2.43,2.277,2.8728,2.9322],\"yaxis\":\"y\",\"type\":\"scatter\"}],                        {\"template\":{\"data\":{\"histogram2dcontour\":[{\"type\":\"histogram2dcontour\",\"colorbar\":{\"outlinewidth\":0,\"ticks\":\"\"},\"colorscale\":[[0.0,\"#0d0887\"],[0.1111111111111111,\"#46039f\"],[0.2222222222222222,\"#7201a8\"],[0.3333333333333333,\"#9c179e\"],[0.4444444444444444,\"#bd3786\"],[0.5555555555555556,\"#d8576b\"],[0.6666666666666666,\"#ed7953\"],[0.7777777777777778,\"#fb9f3a\"],[0.8888888888888888,\"#fdca26\"],[1.0,\"#f0f921\"]]}],\"choropleth\":[{\"type\":\"choropleth\",\"colorbar\":{\"outlinewidth\":0,\"ticks\":\"\"}}],\"histogram2d\":[{\"type\":\"histogram2d\",\"colorbar\":{\"outlinewidth\":0,\"ticks\":\"\"},\"colorscale\":[[0.0,\"#0d0887\"],[0.1111111111111111,\"#46039f\"],[0.2222222222222222,\"#7201a8\"],[0.3333333333333333,\"#9c179e\"],[0.4444444444444444,\"#bd3786\"],[0.5555555555555556,\"#d8576b\"],[0.6666666666666666,\"#ed7953\"],[0.7777777777777778,\"#fb9f3a\"],[0.8888888888888888,\"#fdca26\"],[1.0,\"#f0f921\"]]}],\"heatmap\":[{\"type\":\"heatmap\",\"colorbar\":{\"outlinewidth\":0,\"ticks\":\"\"},\"colorscale\":[[0.0,\"#0d0887\"],[0.1111111111111111,\"#46039f\"],[0.2222222222222222,\"#7201a8\"],[0.3333333333333333,\"#9c179e\"],[0.4444444444444444,\"#bd3786\"],[0.5555555555555556,\"#d8576b\"],[0.6666666666666666,\"#ed7953\"],[0.7777777777777778,\"#fb9f3a\"],[0.8888888888888888,\"#fdca26\"],[1.0,\"#f0f921\"]]}],\"heatmapgl\":[{\"type\":\"heatmapgl\",\"colorbar\":{\"outlinewidth\":0,\"ticks\":\"\"},\"colorscale\":[[0.0,\"#0d0887\"],[0.1111111111111111,\"#46039f\"],[0.2222222222222222,\"#7201a8\"],[0.3333333333333333,\"#9c179e\"],[0.4444444444444444,\"#bd3786\"],[0.5555555555555556,\"#d8576b\"],[0.6666666666666666,\"#ed7953\"],[0.7777777777777778,\"#fb9f3a\"],[0.8888888888888888,\"#fdca26\"],[1.0,\"#f0f921\"]]}],\"contourcarpet\":[{\"type\":\"contourcarpet\",\"colorbar\":{\"outlinewidth\":0,\"ticks\":\"\"}}],\"contour\":[{\"type\":\"contour\",\"colorbar\":{\"outlinewidth\":0,\"ticks\":\"\"},\"colorscale\":[[0.0,\"#0d0887\"],[0.1111111111111111,\"#46039f\"],[0.2222222222222222,\"#7201a8\"],[0.3333333333333333,\"#9c179e\"],[0.4444444444444444,\"#bd3786\"],[0.5555555555555556,\"#d8576b\"],[0.6666666666666666,\"#ed7953\"],[0.7777777777777778,\"#fb9f3a\"],[0.8888888888888888,\"#fdca26\"],[1.0,\"#f0f921\"]]}],\"surface\":[{\"type\":\"surface\",\"colorbar\":{\"outlinewidth\":0,\"ticks\":\"\"},\"colorscale\":[[0.0,\"#0d0887\"],[0.1111111111111111,\"#46039f\"],[0.2222222222222222,\"#7201a8\"],[0.3333333333333333,\"#9c179e\"],[0.4444444444444444,\"#bd3786\"],[0.5555555555555556,\"#d8576b\"],[0.6666666666666666,\"#ed7953\"],[0.7777777777777778,\"#fb9f3a\"],[0.8888888888888888,\"#fdca26\"],[1.0,\"#f0f921\"]]}],\"mesh3d\":[{\"type\":\"mesh3d\",\"colorbar\":{\"outlinewidth\":0,\"ticks\":\"\"}}],\"scatter\":[{\"fillpattern\":{\"fillmode\":\"overlay\",\"size\":10,\"solidity\":0.2},\"type\":\"scatter\"}],\"parcoords\":[{\"type\":\"parcoords\",\"line\":{\"colorbar\":{\"outlinewidth\":0,\"ticks\":\"\"}}}],\"scatterpolargl\":[{\"type\":\"scatterpolargl\",\"marker\":{\"colorbar\":{\"outlinewidth\":0,\"ticks\":\"\"}}}],\"bar\":[{\"error_x\":{\"color\":\"#2a3f5f\"},\"error_y\":{\"color\":\"#2a3f5f\"},\"marker\":{\"line\":{\"color\":\"#E5ECF6\",\"width\":0.5},\"pattern\":{\"fillmode\":\"overlay\",\"size\":10,\"solidity\":0.2}},\"type\":\"bar\"}],\"scattergeo\":[{\"type\":\"scattergeo\",\"marker\":{\"colorbar\":{\"outlinewidth\":0,\"ticks\":\"\"}}}],\"scatterpolar\":[{\"type\":\"scatterpolar\",\"marker\":{\"colorbar\":{\"outlinewidth\":0,\"ticks\":\"\"}}}],\"histogram\":[{\"marker\":{\"pattern\":{\"fillmode\":\"overlay\",\"size\":10,\"solidity\":0.2}},\"type\":\"histogram\"}],\"scattergl\":[{\"type\":\"scattergl\",\"marker\":{\"colorbar\":{\"outlinewidth\":0,\"ticks\":\"\"}}}],\"scatter3d\":[{\"type\":\"scatter3d\",\"line\":{\"colorbar\":{\"outlinewidth\":0,\"ticks\":\"\"}},\"marker\":{\"colorbar\":{\"outlinewidth\":0,\"ticks\":\"\"}}}],\"scattermapbox\":[{\"type\":\"scattermapbox\",\"marker\":{\"colorbar\":{\"outlinewidth\":0,\"ticks\":\"\"}}}],\"scatterternary\":[{\"type\":\"scatterternary\",\"marker\":{\"colorbar\":{\"outlinewidth\":0,\"ticks\":\"\"}}}],\"scattercarpet\":[{\"type\":\"scattercarpet\",\"marker\":{\"colorbar\":{\"outlinewidth\":0,\"ticks\":\"\"}}}],\"carpet\":[{\"aaxis\":{\"endlinecolor\":\"#2a3f5f\",\"gridcolor\":\"white\",\"linecolor\":\"white\",\"minorgridcolor\":\"white\",\"startlinecolor\":\"#2a3f5f\"},\"baxis\":{\"endlinecolor\":\"#2a3f5f\",\"gridcolor\":\"white\",\"linecolor\":\"white\",\"minorgridcolor\":\"white\",\"startlinecolor\":\"#2a3f5f\"},\"type\":\"carpet\"}],\"table\":[{\"cells\":{\"fill\":{\"color\":\"#EBF0F8\"},\"line\":{\"color\":\"white\"}},\"header\":{\"fill\":{\"color\":\"#C8D4E3\"},\"line\":{\"color\":\"white\"}},\"type\":\"table\"}],\"barpolar\":[{\"marker\":{\"line\":{\"color\":\"#E5ECF6\",\"width\":0.5},\"pattern\":{\"fillmode\":\"overlay\",\"size\":10,\"solidity\":0.2}},\"type\":\"barpolar\"}],\"pie\":[{\"automargin\":true,\"type\":\"pie\"}]},\"layout\":{\"autotypenumbers\":\"strict\",\"colorway\":[\"#636efa\",\"#EF553B\",\"#00cc96\",\"#ab63fa\",\"#FFA15A\",\"#19d3f3\",\"#FF6692\",\"#B6E880\",\"#FF97FF\",\"#FECB52\"],\"font\":{\"color\":\"#2a3f5f\"},\"hovermode\":\"closest\",\"hoverlabel\":{\"align\":\"left\"},\"paper_bgcolor\":\"white\",\"plot_bgcolor\":\"#E5ECF6\",\"polar\":{\"bgcolor\":\"#E5ECF6\",\"angularaxis\":{\"gridcolor\":\"white\",\"linecolor\":\"white\",\"ticks\":\"\"},\"radialaxis\":{\"gridcolor\":\"white\",\"linecolor\":\"white\",\"ticks\":\"\"}},\"ternary\":{\"bgcolor\":\"#E5ECF6\",\"aaxis\":{\"gridcolor\":\"white\",\"linecolor\":\"white\",\"ticks\":\"\"},\"baxis\":{\"gridcolor\":\"white\",\"linecolor\":\"white\",\"ticks\":\"\"},\"caxis\":{\"gridcolor\":\"white\",\"linecolor\":\"white\",\"ticks\":\"\"}},\"coloraxis\":{\"colorbar\":{\"outlinewidth\":0,\"ticks\":\"\"}},\"colorscale\":{\"sequential\":[[0.0,\"#0d0887\"],[0.1111111111111111,\"#46039f\"],[0.2222222222222222,\"#7201a8\"],[0.3333333333333333,\"#9c179e\"],[0.4444444444444444,\"#bd3786\"],[0.5555555555555556,\"#d8576b\"],[0.6666666666666666,\"#ed7953\"],[0.7777777777777778,\"#fb9f3a\"],[0.8888888888888888,\"#fdca26\"],[1.0,\"#f0f921\"]],\"sequentialminus\":[[0.0,\"#0d0887\"],[0.1111111111111111,\"#46039f\"],[0.2222222222222222,\"#7201a8\"],[0.3333333333333333,\"#9c179e\"],[0.4444444444444444,\"#bd3786\"],[0.5555555555555556,\"#d8576b\"],[0.6666666666666666,\"#ed7953\"],[0.7777777777777778,\"#fb9f3a\"],[0.8888888888888888,\"#fdca26\"],[1.0,\"#f0f921\"]],\"diverging\":[[0,\"#8e0152\"],[0.1,\"#c51b7d\"],[0.2,\"#de77ae\"],[0.3,\"#f1b6da\"],[0.4,\"#fde0ef\"],[0.5,\"#f7f7f7\"],[0.6,\"#e6f5d0\"],[0.7,\"#b8e186\"],[0.8,\"#7fbc41\"],[0.9,\"#4d9221\"],[1,\"#276419\"]]},\"xaxis\":{\"gridcolor\":\"white\",\"linecolor\":\"white\",\"ticks\":\"\",\"title\":{\"standoff\":15},\"zerolinecolor\":\"white\",\"automargin\":true,\"zerolinewidth\":2},\"yaxis\":{\"gridcolor\":\"white\",\"linecolor\":\"white\",\"ticks\":\"\",\"title\":{\"standoff\":15},\"zerolinecolor\":\"white\",\"automargin\":true,\"zerolinewidth\":2},\"scene\":{\"xaxis\":{\"backgroundcolor\":\"#E5ECF6\",\"gridcolor\":\"white\",\"linecolor\":\"white\",\"showbackground\":true,\"ticks\":\"\",\"zerolinecolor\":\"white\",\"gridwidth\":2},\"yaxis\":{\"backgroundcolor\":\"#E5ECF6\",\"gridcolor\":\"white\",\"linecolor\":\"white\",\"showbackground\":true,\"ticks\":\"\",\"zerolinecolor\":\"white\",\"gridwidth\":2},\"zaxis\":{\"backgroundcolor\":\"#E5ECF6\",\"gridcolor\":\"white\",\"linecolor\":\"white\",\"showbackground\":true,\"ticks\":\"\",\"zerolinecolor\":\"white\",\"gridwidth\":2}},\"shapedefaults\":{\"line\":{\"color\":\"#2a3f5f\"}},\"annotationdefaults\":{\"arrowcolor\":\"#2a3f5f\",\"arrowhead\":0,\"arrowwidth\":1},\"geo\":{\"bgcolor\":\"white\",\"landcolor\":\"#E5ECF6\",\"subunitcolor\":\"white\",\"showland\":true,\"showlakes\":true,\"lakecolor\":\"white\"},\"title\":{\"x\":0.05},\"mapbox\":{\"style\":\"light\"}}},\"xaxis\":{\"anchor\":\"y\",\"domain\":[0.0,1.0],\"title\":{\"text\":\"Weight\"}},\"yaxis\":{\"anchor\":\"x\",\"domain\":[0.0,1.0],\"title\":{\"text\":\"Height\"}},\"legend\":{\"tracegroupgap\":0},\"margin\":{\"t\":60}},                        {\"responsive\": true}                    ).then(function(){\n",
       "                            \n",
       "var gd = document.getElementById('803f2f8a-e0a2-459b-b6e2-277f6ec33a16');\n",
       "var x = new MutationObserver(function (mutations, observer) {{\n",
       "        var display = window.getComputedStyle(gd).display;\n",
       "        if (!display || display === 'none') {{\n",
       "            console.log([gd, 'removed!']);\n",
       "            Plotly.purge(gd);\n",
       "            observer.disconnect();\n",
       "        }}\n",
       "}});\n",
       "\n",
       "// Listen for the removal of the full notebook cells\n",
       "var notebookContainer = gd.closest('#notebook-container');\n",
       "if (notebookContainer) {{\n",
       "    x.observe(notebookContainer, {childList: true});\n",
       "}}\n",
       "\n",
       "// Listen for the clearing of the current output cell\n",
       "var outputEl = gd.closest('.output');\n",
       "if (outputEl) {{\n",
       "    x.observe(outputEl, {childList: true});\n",
       "}}\n",
       "\n",
       "                        })                };                });            </script>        </div>"
      ]
     },
     "metadata": {},
     "output_type": "display_data"
    }
   ],
   "source": [
    "import plotly.express as px \n",
    "fig = px.scatter(data, x=\"Weight\", y=\"Height\")\n",
    "fig.show()"
   ]
  },
  {
   "cell_type": "code",
   "execution_count": 11,
   "id": "bce6ba4b",
   "metadata": {
    "execution": {
     "iopub.execute_input": "2023-03-04T17:07:50.931698Z",
     "iopub.status.busy": "2023-03-04T17:07:50.930867Z",
     "iopub.status.idle": "2023-03-04T17:07:51.173384Z",
     "shell.execute_reply": "2023-03-04T17:07:51.172480Z"
    },
    "papermill": {
     "duration": 0.271171,
     "end_time": "2023-03-04T17:07:51.175737",
     "exception": false,
     "start_time": "2023-03-04T17:07:50.904566",
     "status": "completed"
    },
    "tags": []
   },
   "outputs": [
    {
     "data": {
      "image/png": "[encoded data removed]",
      "text/plain": [
       "<Figure size 640x480 with 1 Axes>"
      ]
     },
     "metadata": {},
     "output_type": "display_data"
    }
   ],
   "source": [
    "sns.countplot(x=data.Species)\n",
    "plt.show()"
   ]
  },
  {
   "cell_type": "code",
   "execution_count": 12,
   "id": "be1d9fc0",
   "metadata": {
    "execution": {
     "iopub.execute_input": "2023-03-04T17:07:51.227716Z",
     "iopub.status.busy": "2023-03-04T17:07:51.226591Z",
     "iopub.status.idle": "2023-03-04T17:07:56.349278Z",
     "shell.execute_reply": "2023-03-04T17:07:56.347848Z"
    },
    "papermill": {
     "duration": 5.154052,
     "end_time": "2023-03-04T17:07:56.354470",
     "exception": false,
     "start_time": "2023-03-04T17:07:51.200418",
     "status": "completed"
    },
    "tags": []
   },
   "outputs": [
    {
     "data": {
      "text/plain": [
       "<seaborn.axisgrid.PairGrid at 0x7f4d44ec8ed0>"
      ]
     },
     "execution_count": 12,
     "metadata": {},
     "output_type": "execute_result"
    },
    {
     "data": {
      "image/png": "[encoded data removed]",
      "text/plain": [
       "<Figure size 1250x1250 with 30 Axes>"
      ]
     },
     "metadata": {},
     "output_type": "display_data"
    }
   ],
   "source": [
    "sns.pairplot(data[num_cols])"
   ]
  },
  {
   "cell_type": "code",
   "execution_count": 13,
   "id": "fa4cede3",
   "metadata": {
    "execution": {
     "iopub.execute_input": "2023-03-04T17:07:56.414639Z",
     "iopub.status.busy": "2023-03-04T17:07:56.413292Z",
     "iopub.status.idle": "2023-03-04T17:07:56.422076Z",
     "shell.execute_reply": "2023-03-04T17:07:56.420939Z"
    },
    "papermill": {
     "duration": 0.041393,
     "end_time": "2023-03-04T17:07:56.424636",
     "exception": false,
     "start_time": "2023-03-04T17:07:56.383243",
     "status": "completed"
    },
    "tags": []
   },
   "outputs": [
    {
     "data": {
      "text/plain": [
       "Index(['Species', 'Weight', 'Length1', 'Length2', 'Length3', 'Height',\n",
       "       'Width'],\n",
       "      dtype='object')"
      ]
     },
     "execution_count": 13,
     "metadata": {},
     "output_type": "execute_result"
    }
   ],
   "source": [
    "data.columns\n"
   ]
  },
  {
   "cell_type": "code",
   "execution_count": 14,
   "id": "bc4d1eb0",
   "metadata": {
    "execution": {
     "iopub.execute_input": "2023-03-04T17:07:56.483561Z",
     "iopub.status.busy": "2023-03-04T17:07:56.483108Z",
     "iopub.status.idle": "2023-03-04T17:07:56.490372Z",
     "shell.execute_reply": "2023-03-04T17:07:56.488725Z"
    },
    "papermill": {
     "duration": 0.039965,
     "end_time": "2023-03-04T17:07:56.492891",
     "exception": false,
     "start_time": "2023-03-04T17:07:56.452926",
     "status": "completed"
    },
    "tags": []
   },
   "outputs": [
    {
     "data": {
      "text/plain": [
       "(159, 7)"
      ]
     },
     "execution_count": 14,
     "metadata": {},
     "output_type": "execute_result"
    }
   ],
   "source": [
    "data.shape\n"
   ]
  },
  {
   "cell_type": "code",
   "execution_count": 15,
   "id": "23cf380c",
   "metadata": {
    "execution": {
     "iopub.execute_input": "2023-03-04T17:07:56.551643Z",
     "iopub.status.busy": "2023-03-04T17:07:56.551214Z",
     "iopub.status.idle": "2023-03-04T17:07:56.559338Z",
     "shell.execute_reply": "2023-03-04T17:07:56.557903Z"
    },
    "papermill": {
     "duration": 0.040641,
     "end_time": "2023-03-04T17:07:56.561832",
     "exception": false,
     "start_time": "2023-03-04T17:07:56.521191",
     "status": "completed"
    },
    "tags": []
   },
   "outputs": [],
   "source": [
    "data[cat_cols]=data[cat_cols].astype('category')"
   ]
  },
  {
   "cell_type": "code",
   "execution_count": 16,
   "id": "44b2c4fe",
   "metadata": {
    "execution": {
     "iopub.execute_input": "2023-03-04T17:07:56.622883Z",
     "iopub.status.busy": "2023-03-04T17:07:56.621797Z",
     "iopub.status.idle": "2023-03-04T17:07:56.640179Z",
     "shell.execute_reply": "2023-03-04T17:07:56.638330Z"
    },
    "papermill": {
     "duration": 0.051875,
     "end_time": "2023-03-04T17:07:56.643186",
     "exception": false,
     "start_time": "2023-03-04T17:07:56.591311",
     "status": "completed"
    },
    "tags": []
   },
   "outputs": [
    {
     "name": "stdout",
     "output_type": "stream",
     "text": [
      "<class 'pandas.core.frame.DataFrame'>\n",
      "RangeIndex: 159 entries, 0 to 158\n",
      "Data columns (total 7 columns):\n",
      " #   Column   Non-Null Count  Dtype   \n",
      "---  ------   --------------  -----   \n",
      " 0   Species  159 non-null    category\n",
      " 1   Weight   159 non-null    float64 \n",
      " 2   Length1  159 non-null    float64 \n",
      " 3   Length2  159 non-null    float64 \n",
      " 4   Length3  159 non-null    float64 \n",
      " 5   Height   159 non-null    float64 \n",
      " 6   Width    159 non-null    float64 \n",
      "dtypes: category(1), float64(6)\n",
      "memory usage: 8.1 KB\n"
     ]
    }
   ],
   "source": [
    "data.info()"
   ]
  },
  {
   "cell_type": "code",
   "execution_count": 17,
   "id": "e2b8a54b",
   "metadata": {
    "execution": {
     "iopub.execute_input": "2023-03-04T17:07:56.703175Z",
     "iopub.status.busy": "2023-03-04T17:07:56.702712Z",
     "iopub.status.idle": "2023-03-04T17:07:56.743305Z",
     "shell.execute_reply": "2023-03-04T17:07:56.741373Z"
    },
    "papermill": {
     "duration": 0.075874,
     "end_time": "2023-03-04T17:07:56.747408",
     "exception": false,
     "start_time": "2023-03-04T17:07:56.671534",
     "status": "completed"
    },
    "tags": []
   },
   "outputs": [
    {
     "data": {
      "text/html": [
       "<div>\n",
       "<style scoped>\n",
       "    .dataframe tbody tr th:only-of-type {\n",
       "        vertical-align: middle;\n",
       "    }\n",
       "\n",
       "    .dataframe tbody tr th {\n",
       "        vertical-align: top;\n",
       "    }\n",
       "\n",
       "    .dataframe thead th {\n",
       "        text-align: right;\n",
       "    }\n",
       "</style>\n",
       "<table border=\"1\" class=\"dataframe\">\n",
       "  <thead>\n",
       "    <tr style=\"text-align: right;\">\n",
       "      <th></th>\n",
       "      <th>Weight</th>\n",
       "      <th>Length1</th>\n",
       "      <th>Length2</th>\n",
       "      <th>Length3</th>\n",
       "      <th>Height</th>\n",
       "      <th>Width</th>\n",
       "    </tr>\n",
       "  </thead>\n",
       "  <tbody>\n",
       "    <tr>\n",
       "      <th>count</th>\n",
       "      <td>159.000000</td>\n",
       "      <td>159.000000</td>\n",
       "      <td>159.000000</td>\n",
       "      <td>159.000000</td>\n",
       "      <td>159.000000</td>\n",
       "      <td>159.000000</td>\n",
       "    </tr>\n",
       "    <tr>\n",
       "      <th>mean</th>\n",
       "      <td>398.326415</td>\n",
       "      <td>26.247170</td>\n",
       "      <td>28.415723</td>\n",
       "      <td>31.227044</td>\n",
       "      <td>8.970994</td>\n",
       "      <td>4.417486</td>\n",
       "    </tr>\n",
       "    <tr>\n",
       "      <th>std</th>\n",
       "      <td>357.978317</td>\n",
       "      <td>9.996441</td>\n",
       "      <td>10.716328</td>\n",
       "      <td>11.610246</td>\n",
       "      <td>4.286208</td>\n",
       "      <td>1.685804</td>\n",
       "    </tr>\n",
       "    <tr>\n",
       "      <th>min</th>\n",
       "      <td>0.000000</td>\n",
       "      <td>7.500000</td>\n",
       "      <td>8.400000</td>\n",
       "      <td>8.800000</td>\n",
       "      <td>1.728400</td>\n",
       "      <td>1.047600</td>\n",
       "    </tr>\n",
       "    <tr>\n",
       "      <th>25%</th>\n",
       "      <td>120.000000</td>\n",
       "      <td>19.050000</td>\n",
       "      <td>21.000000</td>\n",
       "      <td>23.150000</td>\n",
       "      <td>5.944800</td>\n",
       "      <td>3.385650</td>\n",
       "    </tr>\n",
       "    <tr>\n",
       "      <th>50%</th>\n",
       "      <td>273.000000</td>\n",
       "      <td>25.200000</td>\n",
       "      <td>27.300000</td>\n",
       "      <td>29.400000</td>\n",
       "      <td>7.786000</td>\n",
       "      <td>4.248500</td>\n",
       "    </tr>\n",
       "    <tr>\n",
       "      <th>75%</th>\n",
       "      <td>650.000000</td>\n",
       "      <td>32.700000</td>\n",
       "      <td>35.500000</td>\n",
       "      <td>39.650000</td>\n",
       "      <td>12.365900</td>\n",
       "      <td>5.584500</td>\n",
       "    </tr>\n",
       "    <tr>\n",
       "      <th>max</th>\n",
       "      <td>1650.000000</td>\n",
       "      <td>59.000000</td>\n",
       "      <td>63.400000</td>\n",
       "      <td>68.000000</td>\n",
       "      <td>18.957000</td>\n",
       "      <td>8.142000</td>\n",
       "    </tr>\n",
       "  </tbody>\n",
       "</table>\n",
       "</div>"
      ],
      "text/plain": [
       "            Weight     Length1     Length2     Length3      Height       Width\n",
       "count   159.000000  159.000000  159.000000  159.000000  159.000000  159.000000\n",
       "mean    398.326415   26.247170   28.415723   31.227044    8.970994    4.417486\n",
       "std     357.978317    9.996441   10.716328   11.610246    4.286208    1.685804\n",
       "min       0.000000    7.500000    8.400000    8.800000    1.728400    1.047600\n",
       "25%     120.000000   19.050000   21.000000   23.150000    5.944800    3.385650\n",
       "50%     273.000000   25.200000   27.300000   29.400000    7.786000    4.248500\n",
       "75%     650.000000   32.700000   35.500000   39.650000   12.365900    5.584500\n",
       "max    1650.000000   59.000000   63.400000   68.000000   18.957000    8.142000"
      ]
     },
     "execution_count": 17,
     "metadata": {},
     "output_type": "execute_result"
    }
   ],
   "source": [
    "data.describe()"
   ]
  },
  {
   "cell_type": "markdown",
   "id": "19fe2a38",
   "metadata": {
    "papermill": {
     "duration": 0.032612,
     "end_time": "2023-03-04T17:07:56.814059",
     "exception": false,
     "start_time": "2023-03-04T17:07:56.781447",
     "status": "completed"
    },
    "tags": []
   },
   "source": [
    "Finding the missing values"
   ]
  },
  {
   "cell_type": "code",
   "execution_count": 18,
   "id": "7928fa96",
   "metadata": {
    "execution": {
     "iopub.execute_input": "2023-03-04T17:07:56.873504Z",
     "iopub.status.busy": "2023-03-04T17:07:56.872755Z",
     "iopub.status.idle": "2023-03-04T17:07:56.882504Z",
     "shell.execute_reply": "2023-03-04T17:07:56.881218Z"
    },
    "papermill": {
     "duration": 0.042441,
     "end_time": "2023-03-04T17:07:56.884948",
     "exception": false,
     "start_time": "2023-03-04T17:07:56.842507",
     "status": "completed"
    },
    "tags": []
   },
   "outputs": [
    {
     "data": {
      "text/plain": [
       "Species    0\n",
       "Weight     0\n",
       "Length1    0\n",
       "Length2    0\n",
       "Length3    0\n",
       "Height     0\n",
       "Width      0\n",
       "dtype: int64"
      ]
     },
     "execution_count": 18,
     "metadata": {},
     "output_type": "execute_result"
    }
   ],
   "source": [
    "data.isnull().sum()"
   ]
  },
  {
   "cell_type": "markdown",
   "id": "7593cce9",
   "metadata": {
    "papermill": {
     "duration": 0.028156,
     "end_time": "2023-03-04T17:07:56.941473",
     "exception": false,
     "start_time": "2023-03-04T17:07:56.913317",
     "status": "completed"
    },
    "tags": []
   },
   "source": [
    "DROP DUPLICATES"
   ]
  },
  {
   "cell_type": "code",
   "execution_count": 19,
   "id": "671676cc",
   "metadata": {
    "execution": {
     "iopub.execute_input": "2023-03-04T17:07:57.000415Z",
     "iopub.status.busy": "2023-03-04T17:07:56.999976Z",
     "iopub.status.idle": "2023-03-04T17:07:57.010323Z",
     "shell.execute_reply": "2023-03-04T17:07:57.008675Z"
    },
    "papermill": {
     "duration": 0.04313,
     "end_time": "2023-03-04T17:07:57.012969",
     "exception": false,
     "start_time": "2023-03-04T17:07:56.969839",
     "status": "completed"
    },
    "tags": []
   },
   "outputs": [
    {
     "name": "stdout",
     "output_type": "stream",
     "text": [
      "(159, 7)\n"
     ]
    }
   ],
   "source": [
    "data=data.drop_duplicates()\n",
    "print(data.shape)"
   ]
  },
  {
   "cell_type": "markdown",
   "id": "50e211cf",
   "metadata": {
    "papermill": {
     "duration": 0.029412,
     "end_time": "2023-03-04T17:07:57.072929",
     "exception": false,
     "start_time": "2023-03-04T17:07:57.043517",
     "status": "completed"
    },
    "tags": []
   },
   "source": [
    "train_test split"
   ]
  },
  {
   "cell_type": "code",
   "execution_count": 20,
   "id": "1ef0bab7",
   "metadata": {
    "execution": {
     "iopub.execute_input": "2023-03-04T17:07:57.133261Z",
     "iopub.status.busy": "2023-03-04T17:07:57.132761Z",
     "iopub.status.idle": "2023-03-04T17:07:57.139601Z",
     "shell.execute_reply": "2023-03-04T17:07:57.138357Z"
    },
    "papermill": {
     "duration": 0.040125,
     "end_time": "2023-03-04T17:07:57.142259",
     "exception": false,
     "start_time": "2023-03-04T17:07:57.102134",
     "status": "completed"
    },
    "tags": []
   },
   "outputs": [],
   "source": [
    "X=data.drop(['Weight'],axis=1)"
   ]
  },
  {
   "cell_type": "code",
   "execution_count": 21,
   "id": "cff805cd",
   "metadata": {
    "execution": {
     "iopub.execute_input": "2023-03-04T17:07:57.202136Z",
     "iopub.status.busy": "2023-03-04T17:07:57.201708Z",
     "iopub.status.idle": "2023-03-04T17:07:57.206915Z",
     "shell.execute_reply": "2023-03-04T17:07:57.205825Z"
    },
    "papermill": {
     "duration": 0.038135,
     "end_time": "2023-03-04T17:07:57.209306",
     "exception": false,
     "start_time": "2023-03-04T17:07:57.171171",
     "status": "completed"
    },
    "tags": []
   },
   "outputs": [],
   "source": [
    "y=data['Weight']"
   ]
  },
  {
   "cell_type": "raw",
   "id": "4087a4b5",
   "metadata": {
    "execution": {
     "iopub.execute_input": "2023-03-02T04:21:00.254739Z",
     "iopub.status.busy": "2023-03-02T04:21:00.254361Z",
     "iopub.status.idle": "2023-03-02T04:21:00.265990Z",
     "shell.execute_reply": "2023-03-02T04:21:00.264717Z",
     "shell.execute_reply.started": "2023-03-02T04:21:00.254706Z"
    },
    "papermill": {
     "duration": 0.029366,
     "end_time": "2023-03-04T17:07:57.267780",
     "exception": false,
     "start_time": "2023-03-04T17:07:57.238414",
     "status": "completed"
    },
    "tags": []
   },
   "source": [
    "X_train,X_test,y_train,y_test=train_test_split(X, y, test_size=0.30, random_state=123)"
   ]
  },
  {
   "cell_type": "code",
   "execution_count": 22,
   "id": "12c48b65",
   "metadata": {
    "execution": {
     "iopub.execute_input": "2023-03-04T17:07:57.350737Z",
     "iopub.status.busy": "2023-03-04T17:07:57.349894Z",
     "iopub.status.idle": "2023-03-04T17:07:57.357225Z",
     "shell.execute_reply": "2023-03-04T17:07:57.356362Z"
    },
    "papermill": {
     "duration": 0.043183,
     "end_time": "2023-03-04T17:07:57.359568",
     "exception": false,
     "start_time": "2023-03-04T17:07:57.316385",
     "status": "completed"
    },
    "tags": []
   },
   "outputs": [],
   "source": [
    "X_train,X_test,y_train,y_test=train_test_split(X, y, test_size=0.30, random_state=123)"
   ]
  },
  {
   "cell_type": "code",
   "execution_count": 23,
   "id": "eb762682",
   "metadata": {
    "execution": {
     "iopub.execute_input": "2023-03-04T17:07:57.420572Z",
     "iopub.status.busy": "2023-03-04T17:07:57.419770Z",
     "iopub.status.idle": "2023-03-04T17:07:57.425924Z",
     "shell.execute_reply": "2023-03-04T17:07:57.425076Z"
    },
    "papermill": {
     "duration": 0.040013,
     "end_time": "2023-03-04T17:07:57.428279",
     "exception": false,
     "start_time": "2023-03-04T17:07:57.388266",
     "status": "completed"
    },
    "tags": []
   },
   "outputs": [
    {
     "data": {
      "text/plain": [
       "(111, 6)"
      ]
     },
     "execution_count": 23,
     "metadata": {},
     "output_type": "execute_result"
    }
   ],
   "source": [
    "X_train.shape"
   ]
  },
  {
   "cell_type": "code",
   "execution_count": 24,
   "id": "7f91c99a",
   "metadata": {
    "execution": {
     "iopub.execute_input": "2023-03-04T17:07:57.489189Z",
     "iopub.status.busy": "2023-03-04T17:07:57.488371Z",
     "iopub.status.idle": "2023-03-04T17:07:57.494943Z",
     "shell.execute_reply": "2023-03-04T17:07:57.493873Z"
    },
    "papermill": {
     "duration": 0.039373,
     "end_time": "2023-03-04T17:07:57.497333",
     "exception": false,
     "start_time": "2023-03-04T17:07:57.457960",
     "status": "completed"
    },
    "tags": []
   },
   "outputs": [
    {
     "data": {
      "text/plain": [
       "(48, 6)"
      ]
     },
     "execution_count": 24,
     "metadata": {},
     "output_type": "execute_result"
    }
   ],
   "source": [
    "X_test.shape"
   ]
  },
  {
   "cell_type": "code",
   "execution_count": 25,
   "id": "3908da89",
   "metadata": {
    "execution": {
     "iopub.execute_input": "2023-03-04T17:07:57.557314Z",
     "iopub.status.busy": "2023-03-04T17:07:57.556845Z",
     "iopub.status.idle": "2023-03-04T17:07:57.564189Z",
     "shell.execute_reply": "2023-03-04T17:07:57.562965Z"
    },
    "papermill": {
     "duration": 0.040154,
     "end_time": "2023-03-04T17:07:57.566609",
     "exception": false,
     "start_time": "2023-03-04T17:07:57.526455",
     "status": "completed"
    },
    "tags": []
   },
   "outputs": [
    {
     "data": {
      "text/plain": [
       "(111,)"
      ]
     },
     "execution_count": 25,
     "metadata": {},
     "output_type": "execute_result"
    }
   ],
   "source": [
    "y_train.shape"
   ]
  },
  {
   "cell_type": "code",
   "execution_count": 26,
   "id": "d538e5b8",
   "metadata": {
    "execution": {
     "iopub.execute_input": "2023-03-04T17:07:57.627767Z",
     "iopub.status.busy": "2023-03-04T17:07:57.627366Z",
     "iopub.status.idle": "2023-03-04T17:07:57.634271Z",
     "shell.execute_reply": "2023-03-04T17:07:57.633184Z"
    },
    "papermill": {
     "duration": 0.040616,
     "end_time": "2023-03-04T17:07:57.636619",
     "exception": false,
     "start_time": "2023-03-04T17:07:57.596003",
     "status": "completed"
    },
    "tags": []
   },
   "outputs": [
    {
     "data": {
      "text/plain": [
       "(48,)"
      ]
     },
     "execution_count": 26,
     "metadata": {},
     "output_type": "execute_result"
    }
   ],
   "source": [
    "y_test.shape"
   ]
  },
  {
   "cell_type": "code",
   "execution_count": 27,
   "id": "a3d86a56",
   "metadata": {
    "execution": {
     "iopub.execute_input": "2023-03-04T17:07:57.697553Z",
     "iopub.status.busy": "2023-03-04T17:07:57.697094Z",
     "iopub.status.idle": "2023-03-04T17:07:57.715524Z",
     "shell.execute_reply": "2023-03-04T17:07:57.714323Z"
    },
    "papermill": {
     "duration": 0.052308,
     "end_time": "2023-03-04T17:07:57.718111",
     "exception": false,
     "start_time": "2023-03-04T17:07:57.665803",
     "status": "completed"
    },
    "tags": []
   },
   "outputs": [
    {
     "data": {
      "text/html": [
       "<div>\n",
       "<style scoped>\n",
       "    .dataframe tbody tr th:only-of-type {\n",
       "        vertical-align: middle;\n",
       "    }\n",
       "\n",
       "    .dataframe tbody tr th {\n",
       "        vertical-align: top;\n",
       "    }\n",
       "\n",
       "    .dataframe thead th {\n",
       "        text-align: right;\n",
       "    }\n",
       "</style>\n",
       "<table border=\"1\" class=\"dataframe\">\n",
       "  <thead>\n",
       "    <tr style=\"text-align: right;\">\n",
       "      <th></th>\n",
       "      <th>Species</th>\n",
       "      <th>Length1</th>\n",
       "      <th>Length2</th>\n",
       "      <th>Length3</th>\n",
       "      <th>Height</th>\n",
       "      <th>Width</th>\n",
       "    </tr>\n",
       "  </thead>\n",
       "  <tbody>\n",
       "    <tr>\n",
       "      <th>117</th>\n",
       "      <td>Perch</td>\n",
       "      <td>36.5</td>\n",
       "      <td>39.0</td>\n",
       "      <td>41.4</td>\n",
       "      <td>11.1366</td>\n",
       "      <td>6.0030</td>\n",
       "    </tr>\n",
       "    <tr>\n",
       "      <th>116</th>\n",
       "      <td>Perch</td>\n",
       "      <td>36.5</td>\n",
       "      <td>39.0</td>\n",
       "      <td>41.4</td>\n",
       "      <td>11.1366</td>\n",
       "      <td>7.4934</td>\n",
       "    </tr>\n",
       "    <tr>\n",
       "      <th>5</th>\n",
       "      <td>Bream</td>\n",
       "      <td>26.8</td>\n",
       "      <td>29.7</td>\n",
       "      <td>34.7</td>\n",
       "      <td>13.6024</td>\n",
       "      <td>4.9274</td>\n",
       "    </tr>\n",
       "    <tr>\n",
       "      <th>16</th>\n",
       "      <td>Bream</td>\n",
       "      <td>30.4</td>\n",
       "      <td>33.0</td>\n",
       "      <td>38.3</td>\n",
       "      <td>14.8604</td>\n",
       "      <td>5.2854</td>\n",
       "    </tr>\n",
       "    <tr>\n",
       "      <th>45</th>\n",
       "      <td>Roach</td>\n",
       "      <td>20.5</td>\n",
       "      <td>22.5</td>\n",
       "      <td>25.3</td>\n",
       "      <td>7.0334</td>\n",
       "      <td>3.8203</td>\n",
       "    </tr>\n",
       "  </tbody>\n",
       "</table>\n",
       "</div>"
      ],
      "text/plain": [
       "    Species  Length1  Length2  Length3   Height   Width\n",
       "117   Perch     36.5     39.0     41.4  11.1366  6.0030\n",
       "116   Perch     36.5     39.0     41.4  11.1366  7.4934\n",
       "5     Bream     26.8     29.7     34.7  13.6024  4.9274\n",
       "16    Bream     30.4     33.0     38.3  14.8604  5.2854\n",
       "45    Roach     20.5     22.5     25.3   7.0334  3.8203"
      ]
     },
     "execution_count": 27,
     "metadata": {},
     "output_type": "execute_result"
    }
   ],
   "source": [
    "X_train.head()"
   ]
  },
  {
   "cell_type": "code",
   "execution_count": 28,
   "id": "ff1800cb",
   "metadata": {
    "execution": {
     "iopub.execute_input": "2023-03-04T17:07:57.779633Z",
     "iopub.status.busy": "2023-03-04T17:07:57.779237Z",
     "iopub.status.idle": "2023-03-04T17:07:57.787951Z",
     "shell.execute_reply": "2023-03-04T17:07:57.786766Z"
    },
    "papermill": {
     "duration": 0.043006,
     "end_time": "2023-03-04T17:07:57.790932",
     "exception": false,
     "start_time": "2023-03-04T17:07:57.747926",
     "status": "completed"
    },
    "tags": []
   },
   "outputs": [
    {
     "data": {
      "text/plain": [
       "117    650.0\n",
       "116    900.0\n",
       "5      450.0\n",
       "16     700.0\n",
       "45     160.0\n",
       "Name: Weight, dtype: float64"
      ]
     },
     "execution_count": 28,
     "metadata": {},
     "output_type": "execute_result"
    }
   ],
   "source": [
    "y_train.head()"
   ]
  },
  {
   "cell_type": "markdown",
   "id": "9c066951",
   "metadata": {
    "papermill": {
     "duration": 0.029277,
     "end_time": "2023-03-04T17:07:57.849684",
     "exception": false,
     "start_time": "2023-03-04T17:07:57.820407",
     "status": "completed"
    },
    "tags": []
   },
   "source": [
    "Standard Scaler"
   ]
  },
  {
   "cell_type": "code",
   "execution_count": 29,
   "id": "024ceda0",
   "metadata": {
    "execution": {
     "iopub.execute_input": "2023-03-04T17:07:57.910998Z",
     "iopub.status.busy": "2023-03-04T17:07:57.910617Z",
     "iopub.status.idle": "2023-03-04T17:07:57.915198Z",
     "shell.execute_reply": "2023-03-04T17:07:57.914051Z"
    },
    "papermill": {
     "duration": 0.038405,
     "end_time": "2023-03-04T17:07:57.917337",
     "exception": false,
     "start_time": "2023-03-04T17:07:57.878932",
     "status": "completed"
    },
    "tags": []
   },
   "outputs": [],
   "source": [
    "from sklearn.preprocessing import StandardScaler"
   ]
  },
  {
   "cell_type": "code",
   "execution_count": 30,
   "id": "6bee25b2",
   "metadata": {
    "execution": {
     "iopub.execute_input": "2023-03-04T17:07:57.978431Z",
     "iopub.status.busy": "2023-03-04T17:07:57.977958Z",
     "iopub.status.idle": "2023-03-04T17:07:57.993388Z",
     "shell.execute_reply": "2023-03-04T17:07:57.992185Z"
    },
    "papermill": {
     "duration": 0.049465,
     "end_time": "2023-03-04T17:07:57.996075",
     "exception": false,
     "start_time": "2023-03-04T17:07:57.946610",
     "status": "completed"
    },
    "tags": []
   },
   "outputs": [
    {
     "data": {
      "text/plain": [
       "StandardScaler()"
      ]
     },
     "execution_count": 30,
     "metadata": {},
     "output_type": "execute_result"
    }
   ],
   "source": [
    "scaler=StandardScaler()\n",
    "scaler.fit(X_train[num_cols])"
   ]
  },
  {
   "cell_type": "code",
   "execution_count": 31,
   "id": "87c8a07e",
   "metadata": {
    "execution": {
     "iopub.execute_input": "2023-03-04T17:07:58.058070Z",
     "iopub.status.busy": "2023-03-04T17:07:58.057654Z",
     "iopub.status.idle": "2023-03-04T17:07:58.066067Z",
     "shell.execute_reply": "2023-03-04T17:07:58.064804Z"
    },
    "papermill": {
     "duration": 0.042546,
     "end_time": "2023-03-04T17:07:58.068819",
     "exception": false,
     "start_time": "2023-03-04T17:07:58.026273",
     "status": "completed"
    },
    "tags": []
   },
   "outputs": [],
   "source": [
    "X_train_num = pd.DataFrame(scaler.transform(X_train[num_cols]), columns=num_cols)"
   ]
  },
  {
   "cell_type": "code",
   "execution_count": 32,
   "id": "3859eda1",
   "metadata": {
    "execution": {
     "iopub.execute_input": "2023-03-04T17:07:58.130669Z",
     "iopub.status.busy": "2023-03-04T17:07:58.130212Z",
     "iopub.status.idle": "2023-03-04T17:07:58.138778Z",
     "shell.execute_reply": "2023-03-04T17:07:58.137609Z"
    },
    "papermill": {
     "duration": 0.041556,
     "end_time": "2023-03-04T17:07:58.141064",
     "exception": false,
     "start_time": "2023-03-04T17:07:58.099508",
     "status": "completed"
    },
    "tags": []
   },
   "outputs": [],
   "source": [
    "X_test_num=pd.DataFrame(scaler.transform(X_test[num_cols]),columns=num_cols)"
   ]
  },
  {
   "cell_type": "code",
   "execution_count": 33,
   "id": "f8bc6d46",
   "metadata": {
    "execution": {
     "iopub.execute_input": "2023-03-04T17:07:58.202318Z",
     "iopub.status.busy": "2023-03-04T17:07:58.201836Z",
     "iopub.status.idle": "2023-03-04T17:07:58.219744Z",
     "shell.execute_reply": "2023-03-04T17:07:58.218455Z"
    },
    "papermill": {
     "duration": 0.051947,
     "end_time": "2023-03-04T17:07:58.222535",
     "exception": false,
     "start_time": "2023-03-04T17:07:58.170588",
     "status": "completed"
    },
    "tags": []
   },
   "outputs": [
    {
     "data": {
      "text/html": [
       "<div>\n",
       "<style scoped>\n",
       "    .dataframe tbody tr th:only-of-type {\n",
       "        vertical-align: middle;\n",
       "    }\n",
       "\n",
       "    .dataframe tbody tr th {\n",
       "        vertical-align: top;\n",
       "    }\n",
       "\n",
       "    .dataframe thead th {\n",
       "        text-align: right;\n",
       "    }\n",
       "</style>\n",
       "<table border=\"1\" class=\"dataframe\">\n",
       "  <thead>\n",
       "    <tr style=\"text-align: right;\">\n",
       "      <th></th>\n",
       "      <th>Length1</th>\n",
       "      <th>Length2</th>\n",
       "      <th>Length3</th>\n",
       "      <th>Height</th>\n",
       "      <th>Width</th>\n",
       "    </tr>\n",
       "  </thead>\n",
       "  <tbody>\n",
       "    <tr>\n",
       "      <th>0</th>\n",
       "      <td>1.127343</td>\n",
       "      <td>1.089549</td>\n",
       "      <td>0.976588</td>\n",
       "      <td>0.577583</td>\n",
       "      <td>1.012053</td>\n",
       "    </tr>\n",
       "    <tr>\n",
       "      <th>1</th>\n",
       "      <td>1.127343</td>\n",
       "      <td>1.089549</td>\n",
       "      <td>0.976588</td>\n",
       "      <td>0.577583</td>\n",
       "      <td>1.912590</td>\n",
       "    </tr>\n",
       "    <tr>\n",
       "      <th>2</th>\n",
       "      <td>0.118273</td>\n",
       "      <td>0.186650</td>\n",
       "      <td>0.376498</td>\n",
       "      <td>1.164155</td>\n",
       "      <td>0.362149</td>\n",
       "    </tr>\n",
       "    <tr>\n",
       "      <th>3</th>\n",
       "      <td>0.492773</td>\n",
       "      <td>0.507034</td>\n",
       "      <td>0.698934</td>\n",
       "      <td>1.463413</td>\n",
       "      <td>0.578461</td>\n",
       "    </tr>\n",
       "    <tr>\n",
       "      <th>4</th>\n",
       "      <td>-0.537102</td>\n",
       "      <td>-0.512369</td>\n",
       "      <td>-0.465418</td>\n",
       "      <td>-0.398501</td>\n",
       "      <td>-0.306789</td>\n",
       "    </tr>\n",
       "    <tr>\n",
       "      <th>...</th>\n",
       "      <td>...</td>\n",
       "      <td>...</td>\n",
       "      <td>...</td>\n",
       "      <td>...</td>\n",
       "      <td>...</td>\n",
       "    </tr>\n",
       "    <tr>\n",
       "      <th>106</th>\n",
       "      <td>0.492773</td>\n",
       "      <td>0.507034</td>\n",
       "      <td>0.716847</td>\n",
       "      <td>1.481872</td>\n",
       "      <td>0.525350</td>\n",
       "    </tr>\n",
       "    <tr>\n",
       "      <th>107</th>\n",
       "      <td>-0.318644</td>\n",
       "      <td>-0.308488</td>\n",
       "      <td>-0.384809</td>\n",
       "      <td>-0.469866</td>\n",
       "      <td>-0.098029</td>\n",
       "    </tr>\n",
       "    <tr>\n",
       "      <th>108</th>\n",
       "      <td>-0.693144</td>\n",
       "      <td>-0.687124</td>\n",
       "      <td>-0.653506</td>\n",
       "      <td>-0.040676</td>\n",
       "      <td>-0.624551</td>\n",
       "    </tr>\n",
       "    <tr>\n",
       "      <th>109</th>\n",
       "      <td>1.512246</td>\n",
       "      <td>1.526436</td>\n",
       "      <td>1.388589</td>\n",
       "      <td>0.926653</td>\n",
       "      <td>2.304490</td>\n",
       "    </tr>\n",
       "    <tr>\n",
       "      <th>110</th>\n",
       "      <td>0.503176</td>\n",
       "      <td>0.487616</td>\n",
       "      <td>0.313802</td>\n",
       "      <td>0.314341</td>\n",
       "      <td>1.021116</td>\n",
       "    </tr>\n",
       "  </tbody>\n",
       "</table>\n",
       "<p>111 rows × 5 columns</p>\n",
       "</div>"
      ],
      "text/plain": [
       "      Length1   Length2   Length3    Height     Width\n",
       "0    1.127343  1.089549  0.976588  0.577583  1.012053\n",
       "1    1.127343  1.089549  0.976588  0.577583  1.912590\n",
       "2    0.118273  0.186650  0.376498  1.164155  0.362149\n",
       "3    0.492773  0.507034  0.698934  1.463413  0.578461\n",
       "4   -0.537102 -0.512369 -0.465418 -0.398501 -0.306789\n",
       "..        ...       ...       ...       ...       ...\n",
       "106  0.492773  0.507034  0.716847  1.481872  0.525350\n",
       "107 -0.318644 -0.308488 -0.384809 -0.469866 -0.098029\n",
       "108 -0.693144 -0.687124 -0.653506 -0.040676 -0.624551\n",
       "109  1.512246  1.526436  1.388589  0.926653  2.304490\n",
       "110  0.503176  0.487616  0.313802  0.314341  1.021116\n",
       "\n",
       "[111 rows x 5 columns]"
      ]
     },
     "execution_count": 33,
     "metadata": {},
     "output_type": "execute_result"
    }
   ],
   "source": [
    "X_train_num"
   ]
  },
  {
   "cell_type": "code",
   "execution_count": 34,
   "id": "c87a318c",
   "metadata": {
    "execution": {
     "iopub.execute_input": "2023-03-04T17:07:58.284853Z",
     "iopub.status.busy": "2023-03-04T17:07:58.284417Z",
     "iopub.status.idle": "2023-03-04T17:07:58.290587Z",
     "shell.execute_reply": "2023-03-04T17:07:58.289721Z"
    },
    "papermill": {
     "duration": 0.040411,
     "end_time": "2023-03-04T17:07:58.293122",
     "exception": false,
     "start_time": "2023-03-04T17:07:58.252711",
     "status": "completed"
    },
    "tags": []
   },
   "outputs": [
    {
     "data": {
      "text/plain": [
       "(111, 5)"
      ]
     },
     "execution_count": 34,
     "metadata": {},
     "output_type": "execute_result"
    }
   ],
   "source": [
    "X_train_num.shape"
   ]
  },
  {
   "cell_type": "markdown",
   "id": "d5751bca",
   "metadata": {
    "papermill": {
     "duration": 0.029883,
     "end_time": "2023-03-04T17:07:58.354159",
     "exception": false,
     "start_time": "2023-03-04T17:07:58.324276",
     "status": "completed"
    },
    "tags": []
   },
   "source": [
    "ONE HOT ENCONDING"
   ]
  },
  {
   "cell_type": "code",
   "execution_count": 35,
   "id": "c3ba05d8",
   "metadata": {
    "execution": {
     "iopub.execute_input": "2023-03-04T17:07:58.416213Z",
     "iopub.status.busy": "2023-03-04T17:07:58.415804Z",
     "iopub.status.idle": "2023-03-04T17:07:58.419920Z",
     "shell.execute_reply": "2023-03-04T17:07:58.418987Z"
    },
    "papermill": {
     "duration": 0.038157,
     "end_time": "2023-03-04T17:07:58.422260",
     "exception": false,
     "start_time": "2023-03-04T17:07:58.384103",
     "status": "completed"
    },
    "tags": []
   },
   "outputs": [],
   "source": [
    "from sklearn.preprocessing import OneHotEncoder"
   ]
  },
  {
   "cell_type": "code",
   "execution_count": 36,
   "id": "2733bf9f",
   "metadata": {
    "execution": {
     "iopub.execute_input": "2023-03-04T17:07:58.484804Z",
     "iopub.status.busy": "2023-03-04T17:07:58.484354Z",
     "iopub.status.idle": "2023-03-04T17:07:58.488994Z",
     "shell.execute_reply": "2023-03-04T17:07:58.488114Z"
    },
    "papermill": {
     "duration": 0.038481,
     "end_time": "2023-03-04T17:07:58.491503",
     "exception": false,
     "start_time": "2023-03-04T17:07:58.453022",
     "status": "completed"
    },
    "tags": []
   },
   "outputs": [],
   "source": [
    "ohe=OneHotEncoder()\n"
   ]
  },
  {
   "cell_type": "code",
   "execution_count": 37,
   "id": "6665729e",
   "metadata": {
    "execution": {
     "iopub.execute_input": "2023-03-04T17:07:58.553979Z",
     "iopub.status.busy": "2023-03-04T17:07:58.553520Z",
     "iopub.status.idle": "2023-03-04T17:07:58.561432Z",
     "shell.execute_reply": "2023-03-04T17:07:58.560222Z"
    },
    "papermill": {
     "duration": 0.042115,
     "end_time": "2023-03-04T17:07:58.564059",
     "exception": false,
     "start_time": "2023-03-04T17:07:58.521944",
     "status": "completed"
    },
    "tags": []
   },
   "outputs": [],
   "source": [
    "X_train_cat=ohe.fit_transform(X_train[cat_cols])"
   ]
  },
  {
   "cell_type": "code",
   "execution_count": 38,
   "id": "53e8bf5b",
   "metadata": {
    "execution": {
     "iopub.execute_input": "2023-03-04T17:07:58.627991Z",
     "iopub.status.busy": "2023-03-04T17:07:58.627563Z",
     "iopub.status.idle": "2023-03-04T17:07:58.634856Z",
     "shell.execute_reply": "2023-03-04T17:07:58.633287Z"
    },
    "papermill": {
     "duration": 0.043407,
     "end_time": "2023-03-04T17:07:58.637990",
     "exception": false,
     "start_time": "2023-03-04T17:07:58.594583",
     "status": "completed"
    },
    "tags": []
   },
   "outputs": [
    {
     "name": "stdout",
     "output_type": "stream",
     "text": [
      "['Species_Bream', 'Species_Parkki', 'Species_Perch', 'Species_Pike', 'Species_Roach', 'Species_Smelt', 'Species_Whitefish']\n"
     ]
    }
   ],
   "source": [
    "columns_ohe = list(ohe.get_feature_names(cat_cols))\n",
    "print(columns_ohe)"
   ]
  },
  {
   "cell_type": "code",
   "execution_count": 39,
   "id": "7246c04e",
   "metadata": {
    "execution": {
     "iopub.execute_input": "2023-03-04T17:07:58.701674Z",
     "iopub.status.busy": "2023-03-04T17:07:58.701291Z",
     "iopub.status.idle": "2023-03-04T17:07:58.708787Z",
     "shell.execute_reply": "2023-03-04T17:07:58.707834Z"
    },
    "papermill": {
     "duration": 0.042275,
     "end_time": "2023-03-04T17:07:58.711259",
     "exception": false,
     "start_time": "2023-03-04T17:07:58.668984",
     "status": "completed"
    },
    "tags": []
   },
   "outputs": [],
   "source": [
    "X_test_cat=ohe.transform(X_test[cat_cols])"
   ]
  },
  {
   "cell_type": "code",
   "execution_count": 40,
   "id": "c3790334",
   "metadata": {
    "execution": {
     "iopub.execute_input": "2023-03-04T17:07:58.775127Z",
     "iopub.status.busy": "2023-03-04T17:07:58.773876Z",
     "iopub.status.idle": "2023-03-04T17:07:58.781594Z",
     "shell.execute_reply": "2023-03-04T17:07:58.780522Z"
    },
    "papermill": {
     "duration": 0.04187,
     "end_time": "2023-03-04T17:07:58.783879",
     "exception": false,
     "start_time": "2023-03-04T17:07:58.742009",
     "status": "completed"
    },
    "tags": []
   },
   "outputs": [
    {
     "data": {
      "text/plain": [
       "<111x7 sparse matrix of type '<class 'numpy.float64'>'\n",
       "\twith 111 stored elements in Compressed Sparse Row format>"
      ]
     },
     "execution_count": 40,
     "metadata": {},
     "output_type": "execute_result"
    }
   ],
   "source": [
    "X_train_cat"
   ]
  },
  {
   "cell_type": "code",
   "execution_count": 41,
   "id": "29c65cd1",
   "metadata": {
    "execution": {
     "iopub.execute_input": "2023-03-04T17:07:58.848107Z",
     "iopub.status.busy": "2023-03-04T17:07:58.847064Z",
     "iopub.status.idle": "2023-03-04T17:07:58.854218Z",
     "shell.execute_reply": "2023-03-04T17:07:58.852913Z"
    },
    "papermill": {
     "duration": 0.042118,
     "end_time": "2023-03-04T17:07:58.857092",
     "exception": false,
     "start_time": "2023-03-04T17:07:58.814974",
     "status": "completed"
    },
    "tags": []
   },
   "outputs": [],
   "source": [
    "X_train_cat = pd.DataFrame(X_train_cat.todense(), columns=columns_ohe)\n",
    "X_test_cat=pd.DataFrame(X_test_cat.todense(),columns=columns_ohe)"
   ]
  },
  {
   "cell_type": "code",
   "execution_count": 42,
   "id": "e367f160",
   "metadata": {
    "execution": {
     "iopub.execute_input": "2023-03-04T17:07:58.920245Z",
     "iopub.status.busy": "2023-03-04T17:07:58.919776Z",
     "iopub.status.idle": "2023-03-04T17:07:58.943050Z",
     "shell.execute_reply": "2023-03-04T17:07:58.941406Z"
    },
    "papermill": {
     "duration": 0.057921,
     "end_time": "2023-03-04T17:07:58.945467",
     "exception": false,
     "start_time": "2023-03-04T17:07:58.887546",
     "status": "completed"
    },
    "tags": []
   },
   "outputs": [
    {
     "data": {
      "text/html": [
       "<div>\n",
       "<style scoped>\n",
       "    .dataframe tbody tr th:only-of-type {\n",
       "        vertical-align: middle;\n",
       "    }\n",
       "\n",
       "    .dataframe tbody tr th {\n",
       "        vertical-align: top;\n",
       "    }\n",
       "\n",
       "    .dataframe thead th {\n",
       "        text-align: right;\n",
       "    }\n",
       "</style>\n",
       "<table border=\"1\" class=\"dataframe\">\n",
       "  <thead>\n",
       "    <tr style=\"text-align: right;\">\n",
       "      <th></th>\n",
       "      <th>Species_Bream</th>\n",
       "      <th>Species_Parkki</th>\n",
       "      <th>Species_Perch</th>\n",
       "      <th>Species_Pike</th>\n",
       "      <th>Species_Roach</th>\n",
       "      <th>Species_Smelt</th>\n",
       "      <th>Species_Whitefish</th>\n",
       "    </tr>\n",
       "  </thead>\n",
       "  <tbody>\n",
       "    <tr>\n",
       "      <th>0</th>\n",
       "      <td>0.0</td>\n",
       "      <td>0.0</td>\n",
       "      <td>1.0</td>\n",
       "      <td>0.0</td>\n",
       "      <td>0.0</td>\n",
       "      <td>0.0</td>\n",
       "      <td>0.0</td>\n",
       "    </tr>\n",
       "    <tr>\n",
       "      <th>1</th>\n",
       "      <td>0.0</td>\n",
       "      <td>0.0</td>\n",
       "      <td>1.0</td>\n",
       "      <td>0.0</td>\n",
       "      <td>0.0</td>\n",
       "      <td>0.0</td>\n",
       "      <td>0.0</td>\n",
       "    </tr>\n",
       "    <tr>\n",
       "      <th>2</th>\n",
       "      <td>1.0</td>\n",
       "      <td>0.0</td>\n",
       "      <td>0.0</td>\n",
       "      <td>0.0</td>\n",
       "      <td>0.0</td>\n",
       "      <td>0.0</td>\n",
       "      <td>0.0</td>\n",
       "    </tr>\n",
       "    <tr>\n",
       "      <th>3</th>\n",
       "      <td>1.0</td>\n",
       "      <td>0.0</td>\n",
       "      <td>0.0</td>\n",
       "      <td>0.0</td>\n",
       "      <td>0.0</td>\n",
       "      <td>0.0</td>\n",
       "      <td>0.0</td>\n",
       "    </tr>\n",
       "    <tr>\n",
       "      <th>4</th>\n",
       "      <td>0.0</td>\n",
       "      <td>0.0</td>\n",
       "      <td>0.0</td>\n",
       "      <td>0.0</td>\n",
       "      <td>1.0</td>\n",
       "      <td>0.0</td>\n",
       "      <td>0.0</td>\n",
       "    </tr>\n",
       "    <tr>\n",
       "      <th>...</th>\n",
       "      <td>...</td>\n",
       "      <td>...</td>\n",
       "      <td>...</td>\n",
       "      <td>...</td>\n",
       "      <td>...</td>\n",
       "      <td>...</td>\n",
       "      <td>...</td>\n",
       "    </tr>\n",
       "    <tr>\n",
       "      <th>106</th>\n",
       "      <td>1.0</td>\n",
       "      <td>0.0</td>\n",
       "      <td>0.0</td>\n",
       "      <td>0.0</td>\n",
       "      <td>0.0</td>\n",
       "      <td>0.0</td>\n",
       "      <td>0.0</td>\n",
       "    </tr>\n",
       "    <tr>\n",
       "      <th>107</th>\n",
       "      <td>0.0</td>\n",
       "      <td>0.0</td>\n",
       "      <td>1.0</td>\n",
       "      <td>0.0</td>\n",
       "      <td>0.0</td>\n",
       "      <td>0.0</td>\n",
       "      <td>0.0</td>\n",
       "    </tr>\n",
       "    <tr>\n",
       "      <th>108</th>\n",
       "      <td>0.0</td>\n",
       "      <td>1.0</td>\n",
       "      <td>0.0</td>\n",
       "      <td>0.0</td>\n",
       "      <td>0.0</td>\n",
       "      <td>0.0</td>\n",
       "      <td>0.0</td>\n",
       "    </tr>\n",
       "    <tr>\n",
       "      <th>109</th>\n",
       "      <td>0.0</td>\n",
       "      <td>0.0</td>\n",
       "      <td>1.0</td>\n",
       "      <td>0.0</td>\n",
       "      <td>0.0</td>\n",
       "      <td>0.0</td>\n",
       "      <td>0.0</td>\n",
       "    </tr>\n",
       "    <tr>\n",
       "      <th>110</th>\n",
       "      <td>0.0</td>\n",
       "      <td>0.0</td>\n",
       "      <td>1.0</td>\n",
       "      <td>0.0</td>\n",
       "      <td>0.0</td>\n",
       "      <td>0.0</td>\n",
       "      <td>0.0</td>\n",
       "    </tr>\n",
       "  </tbody>\n",
       "</table>\n",
       "<p>111 rows × 7 columns</p>\n",
       "</div>"
      ],
      "text/plain": [
       "     Species_Bream  Species_Parkki  Species_Perch  Species_Pike  \\\n",
       "0              0.0             0.0            1.0           0.0   \n",
       "1              0.0             0.0            1.0           0.0   \n",
       "2              1.0             0.0            0.0           0.0   \n",
       "3              1.0             0.0            0.0           0.0   \n",
       "4              0.0             0.0            0.0           0.0   \n",
       "..             ...             ...            ...           ...   \n",
       "106            1.0             0.0            0.0           0.0   \n",
       "107            0.0             0.0            1.0           0.0   \n",
       "108            0.0             1.0            0.0           0.0   \n",
       "109            0.0             0.0            1.0           0.0   \n",
       "110            0.0             0.0            1.0           0.0   \n",
       "\n",
       "     Species_Roach  Species_Smelt  Species_Whitefish  \n",
       "0              0.0            0.0                0.0  \n",
       "1              0.0            0.0                0.0  \n",
       "2              0.0            0.0                0.0  \n",
       "3              0.0            0.0                0.0  \n",
       "4              1.0            0.0                0.0  \n",
       "..             ...            ...                ...  \n",
       "106            0.0            0.0                0.0  \n",
       "107            0.0            0.0                0.0  \n",
       "108            0.0            0.0                0.0  \n",
       "109            0.0            0.0                0.0  \n",
       "110            0.0            0.0                0.0  \n",
       "\n",
       "[111 rows x 7 columns]"
      ]
     },
     "execution_count": 42,
     "metadata": {},
     "output_type": "execute_result"
    }
   ],
   "source": [
    "X_train_cat"
   ]
  },
  {
   "cell_type": "markdown",
   "id": "f831774f",
   "metadata": {
    "papermill": {
     "duration": 0.030282,
     "end_time": "2023-03-04T17:07:59.006406",
     "exception": false,
     "start_time": "2023-03-04T17:07:58.976124",
     "status": "completed"
    },
    "tags": []
   },
   "source": [
    "Concat both train and test"
   ]
  },
  {
   "cell_type": "code",
   "execution_count": 43,
   "id": "32c4f233",
   "metadata": {
    "execution": {
     "iopub.execute_input": "2023-03-04T17:07:59.079291Z",
     "iopub.status.busy": "2023-03-04T17:07:59.078851Z",
     "iopub.status.idle": "2023-03-04T17:07:59.084714Z",
     "shell.execute_reply": "2023-03-04T17:07:59.083551Z"
    },
    "papermill": {
     "duration": 0.041671,
     "end_time": "2023-03-04T17:07:59.087586",
     "exception": false,
     "start_time": "2023-03-04T17:07:59.045915",
     "status": "completed"
    },
    "tags": []
   },
   "outputs": [],
   "source": [
    "X_train_concat =pd.concat([X_train_num,X_train_cat],axis=1)"
   ]
  },
  {
   "cell_type": "code",
   "execution_count": 44,
   "id": "1558a36e",
   "metadata": {
    "execution": {
     "iopub.execute_input": "2023-03-04T17:07:59.151641Z",
     "iopub.status.busy": "2023-03-04T17:07:59.151258Z",
     "iopub.status.idle": "2023-03-04T17:07:59.157021Z",
     "shell.execute_reply": "2023-03-04T17:07:59.155757Z"
    },
    "papermill": {
     "duration": 0.040426,
     "end_time": "2023-03-04T17:07:59.159492",
     "exception": false,
     "start_time": "2023-03-04T17:07:59.119066",
     "status": "completed"
    },
    "tags": []
   },
   "outputs": [],
   "source": [
    "X_test_cancat=pd.concat([X_test_num,X_test_cat],axis=1)"
   ]
  },
  {
   "cell_type": "code",
   "execution_count": 45,
   "id": "97fe69f3",
   "metadata": {
    "execution": {
     "iopub.execute_input": "2023-03-04T17:07:59.222574Z",
     "iopub.status.busy": "2023-03-04T17:07:59.222133Z",
     "iopub.status.idle": "2023-03-04T17:07:59.250859Z",
     "shell.execute_reply": "2023-03-04T17:07:59.249530Z"
    },
    "papermill": {
     "duration": 0.063929,
     "end_time": "2023-03-04T17:07:59.253734",
     "exception": false,
     "start_time": "2023-03-04T17:07:59.189805",
     "status": "completed"
    },
    "tags": []
   },
   "outputs": [
    {
     "data": {
      "text/html": [
       "<div>\n",
       "<style scoped>\n",
       "    .dataframe tbody tr th:only-of-type {\n",
       "        vertical-align: middle;\n",
       "    }\n",
       "\n",
       "    .dataframe tbody tr th {\n",
       "        vertical-align: top;\n",
       "    }\n",
       "\n",
       "    .dataframe thead th {\n",
       "        text-align: right;\n",
       "    }\n",
       "</style>\n",
       "<table border=\"1\" class=\"dataframe\">\n",
       "  <thead>\n",
       "    <tr style=\"text-align: right;\">\n",
       "      <th></th>\n",
       "      <th>Length1</th>\n",
       "      <th>Length2</th>\n",
       "      <th>Length3</th>\n",
       "      <th>Height</th>\n",
       "      <th>Width</th>\n",
       "      <th>Species_Bream</th>\n",
       "      <th>Species_Parkki</th>\n",
       "      <th>Species_Perch</th>\n",
       "      <th>Species_Pike</th>\n",
       "      <th>Species_Roach</th>\n",
       "      <th>Species_Smelt</th>\n",
       "      <th>Species_Whitefish</th>\n",
       "    </tr>\n",
       "  </thead>\n",
       "  <tbody>\n",
       "    <tr>\n",
       "      <th>0</th>\n",
       "      <td>1.127343</td>\n",
       "      <td>1.089549</td>\n",
       "      <td>0.976588</td>\n",
       "      <td>0.577583</td>\n",
       "      <td>1.012053</td>\n",
       "      <td>0.0</td>\n",
       "      <td>0.0</td>\n",
       "      <td>1.0</td>\n",
       "      <td>0.0</td>\n",
       "      <td>0.0</td>\n",
       "      <td>0.0</td>\n",
       "      <td>0.0</td>\n",
       "    </tr>\n",
       "    <tr>\n",
       "      <th>1</th>\n",
       "      <td>1.127343</td>\n",
       "      <td>1.089549</td>\n",
       "      <td>0.976588</td>\n",
       "      <td>0.577583</td>\n",
       "      <td>1.912590</td>\n",
       "      <td>0.0</td>\n",
       "      <td>0.0</td>\n",
       "      <td>1.0</td>\n",
       "      <td>0.0</td>\n",
       "      <td>0.0</td>\n",
       "      <td>0.0</td>\n",
       "      <td>0.0</td>\n",
       "    </tr>\n",
       "    <tr>\n",
       "      <th>2</th>\n",
       "      <td>0.118273</td>\n",
       "      <td>0.186650</td>\n",
       "      <td>0.376498</td>\n",
       "      <td>1.164155</td>\n",
       "      <td>0.362149</td>\n",
       "      <td>1.0</td>\n",
       "      <td>0.0</td>\n",
       "      <td>0.0</td>\n",
       "      <td>0.0</td>\n",
       "      <td>0.0</td>\n",
       "      <td>0.0</td>\n",
       "      <td>0.0</td>\n",
       "    </tr>\n",
       "    <tr>\n",
       "      <th>3</th>\n",
       "      <td>0.492773</td>\n",
       "      <td>0.507034</td>\n",
       "      <td>0.698934</td>\n",
       "      <td>1.463413</td>\n",
       "      <td>0.578461</td>\n",
       "      <td>1.0</td>\n",
       "      <td>0.0</td>\n",
       "      <td>0.0</td>\n",
       "      <td>0.0</td>\n",
       "      <td>0.0</td>\n",
       "      <td>0.0</td>\n",
       "      <td>0.0</td>\n",
       "    </tr>\n",
       "    <tr>\n",
       "      <th>4</th>\n",
       "      <td>-0.537102</td>\n",
       "      <td>-0.512369</td>\n",
       "      <td>-0.465418</td>\n",
       "      <td>-0.398501</td>\n",
       "      <td>-0.306789</td>\n",
       "      <td>0.0</td>\n",
       "      <td>0.0</td>\n",
       "      <td>0.0</td>\n",
       "      <td>0.0</td>\n",
       "      <td>1.0</td>\n",
       "      <td>0.0</td>\n",
       "      <td>0.0</td>\n",
       "    </tr>\n",
       "    <tr>\n",
       "      <th>...</th>\n",
       "      <td>...</td>\n",
       "      <td>...</td>\n",
       "      <td>...</td>\n",
       "      <td>...</td>\n",
       "      <td>...</td>\n",
       "      <td>...</td>\n",
       "      <td>...</td>\n",
       "      <td>...</td>\n",
       "      <td>...</td>\n",
       "      <td>...</td>\n",
       "      <td>...</td>\n",
       "      <td>...</td>\n",
       "    </tr>\n",
       "    <tr>\n",
       "      <th>106</th>\n",
       "      <td>0.492773</td>\n",
       "      <td>0.507034</td>\n",
       "      <td>0.716847</td>\n",
       "      <td>1.481872</td>\n",
       "      <td>0.525350</td>\n",
       "      <td>1.0</td>\n",
       "      <td>0.0</td>\n",
       "      <td>0.0</td>\n",
       "      <td>0.0</td>\n",
       "      <td>0.0</td>\n",
       "      <td>0.0</td>\n",
       "      <td>0.0</td>\n",
       "    </tr>\n",
       "    <tr>\n",
       "      <th>107</th>\n",
       "      <td>-0.318644</td>\n",
       "      <td>-0.308488</td>\n",
       "      <td>-0.384809</td>\n",
       "      <td>-0.469866</td>\n",
       "      <td>-0.098029</td>\n",
       "      <td>0.0</td>\n",
       "      <td>0.0</td>\n",
       "      <td>1.0</td>\n",
       "      <td>0.0</td>\n",
       "      <td>0.0</td>\n",
       "      <td>0.0</td>\n",
       "      <td>0.0</td>\n",
       "    </tr>\n",
       "    <tr>\n",
       "      <th>108</th>\n",
       "      <td>-0.693144</td>\n",
       "      <td>-0.687124</td>\n",
       "      <td>-0.653506</td>\n",
       "      <td>-0.040676</td>\n",
       "      <td>-0.624551</td>\n",
       "      <td>0.0</td>\n",
       "      <td>1.0</td>\n",
       "      <td>0.0</td>\n",
       "      <td>0.0</td>\n",
       "      <td>0.0</td>\n",
       "      <td>0.0</td>\n",
       "      <td>0.0</td>\n",
       "    </tr>\n",
       "    <tr>\n",
       "      <th>109</th>\n",
       "      <td>1.512246</td>\n",
       "      <td>1.526436</td>\n",
       "      <td>1.388589</td>\n",
       "      <td>0.926653</td>\n",
       "      <td>2.304490</td>\n",
       "      <td>0.0</td>\n",
       "      <td>0.0</td>\n",
       "      <td>1.0</td>\n",
       "      <td>0.0</td>\n",
       "      <td>0.0</td>\n",
       "      <td>0.0</td>\n",
       "      <td>0.0</td>\n",
       "    </tr>\n",
       "    <tr>\n",
       "      <th>110</th>\n",
       "      <td>0.503176</td>\n",
       "      <td>0.487616</td>\n",
       "      <td>0.313802</td>\n",
       "      <td>0.314341</td>\n",
       "      <td>1.021116</td>\n",
       "      <td>0.0</td>\n",
       "      <td>0.0</td>\n",
       "      <td>1.0</td>\n",
       "      <td>0.0</td>\n",
       "      <td>0.0</td>\n",
       "      <td>0.0</td>\n",
       "      <td>0.0</td>\n",
       "    </tr>\n",
       "  </tbody>\n",
       "</table>\n",
       "<p>111 rows × 12 columns</p>\n",
       "</div>"
      ],
      "text/plain": [
       "      Length1   Length2   Length3    Height     Width  Species_Bream  \\\n",
       "0    1.127343  1.089549  0.976588  0.577583  1.012053            0.0   \n",
       "1    1.127343  1.089549  0.976588  0.577583  1.912590            0.0   \n",
       "2    0.118273  0.186650  0.376498  1.164155  0.362149            1.0   \n",
       "3    0.492773  0.507034  0.698934  1.463413  0.578461            1.0   \n",
       "4   -0.537102 -0.512369 -0.465418 -0.398501 -0.306789            0.0   \n",
       "..        ...       ...       ...       ...       ...            ...   \n",
       "106  0.492773  0.507034  0.716847  1.481872  0.525350            1.0   \n",
       "107 -0.318644 -0.308488 -0.384809 -0.469866 -0.098029            0.0   \n",
       "108 -0.693144 -0.687124 -0.653506 -0.040676 -0.624551            0.0   \n",
       "109  1.512246  1.526436  1.388589  0.926653  2.304490            0.0   \n",
       "110  0.503176  0.487616  0.313802  0.314341  1.021116            0.0   \n",
       "\n",
       "     Species_Parkki  Species_Perch  Species_Pike  Species_Roach  \\\n",
       "0               0.0            1.0           0.0            0.0   \n",
       "1               0.0            1.0           0.0            0.0   \n",
       "2               0.0            0.0           0.0            0.0   \n",
       "3               0.0            0.0           0.0            0.0   \n",
       "4               0.0            0.0           0.0            1.0   \n",
       "..              ...            ...           ...            ...   \n",
       "106             0.0            0.0           0.0            0.0   \n",
       "107             0.0            1.0           0.0            0.0   \n",
       "108             1.0            0.0           0.0            0.0   \n",
       "109             0.0            1.0           0.0            0.0   \n",
       "110             0.0            1.0           0.0            0.0   \n",
       "\n",
       "     Species_Smelt  Species_Whitefish  \n",
       "0              0.0                0.0  \n",
       "1              0.0                0.0  \n",
       "2              0.0                0.0  \n",
       "3              0.0                0.0  \n",
       "4              0.0                0.0  \n",
       "..             ...                ...  \n",
       "106            0.0                0.0  \n",
       "107            0.0                0.0  \n",
       "108            0.0                0.0  \n",
       "109            0.0                0.0  \n",
       "110            0.0                0.0  \n",
       "\n",
       "[111 rows x 12 columns]"
      ]
     },
     "execution_count": 45,
     "metadata": {},
     "output_type": "execute_result"
    }
   ],
   "source": [
    "X_train_concat"
   ]
  },
  {
   "cell_type": "code",
   "execution_count": 46,
   "id": "cc61cb02",
   "metadata": {
    "execution": {
     "iopub.execute_input": "2023-03-04T17:07:59.317823Z",
     "iopub.status.busy": "2023-03-04T17:07:59.316886Z",
     "iopub.status.idle": "2023-03-04T17:07:59.324538Z",
     "shell.execute_reply": "2023-03-04T17:07:59.323244Z"
    },
    "papermill": {
     "duration": 0.042287,
     "end_time": "2023-03-04T17:07:59.327004",
     "exception": false,
     "start_time": "2023-03-04T17:07:59.284717",
     "status": "completed"
    },
    "tags": []
   },
   "outputs": [
    {
     "data": {
      "text/plain": [
       "(111, 12)"
      ]
     },
     "execution_count": 46,
     "metadata": {},
     "output_type": "execute_result"
    }
   ],
   "source": [
    "X_train_concat.shape"
   ]
  },
  {
   "cell_type": "code",
   "execution_count": 47,
   "id": "9983c231",
   "metadata": {
    "execution": {
     "iopub.execute_input": "2023-03-04T17:07:59.390683Z",
     "iopub.status.busy": "2023-03-04T17:07:59.390282Z",
     "iopub.status.idle": "2023-03-04T17:07:59.397729Z",
     "shell.execute_reply": "2023-03-04T17:07:59.396416Z"
    },
    "papermill": {
     "duration": 0.042758,
     "end_time": "2023-03-04T17:07:59.400501",
     "exception": false,
     "start_time": "2023-03-04T17:07:59.357743",
     "status": "completed"
    },
    "tags": []
   },
   "outputs": [
    {
     "data": {
      "text/plain": [
       "Index(['Length1', 'Length2', 'Length3', 'Height', 'Width', 'Species_Bream',\n",
       "       'Species_Parkki', 'Species_Perch', 'Species_Pike', 'Species_Roach',\n",
       "       'Species_Smelt', 'Species_Whitefish'],\n",
       "      dtype='object')"
      ]
     },
     "execution_count": 47,
     "metadata": {},
     "output_type": "execute_result"
    }
   ],
   "source": [
    "X_train_concat.columns"
   ]
  },
  {
   "cell_type": "markdown",
   "id": "3d334d7f",
   "metadata": {
    "papermill": {
     "duration": 0.030804,
     "end_time": "2023-03-04T17:07:59.463230",
     "exception": false,
     "start_time": "2023-03-04T17:07:59.432426",
     "status": "completed"
    },
    "tags": []
   },
   "source": [
    "MODEL BUILDING"
   ]
  },
  {
   "cell_type": "code",
   "execution_count": null,
   "id": "2d083baa",
   "metadata": {
    "papermill": {
     "duration": 0.03081,
     "end_time": "2023-03-04T17:07:59.525135",
     "exception": false,
     "start_time": "2023-03-04T17:07:59.494325",
     "status": "completed"
    },
    "tags": []
   },
   "outputs": [],
   "source": []
  },
  {
   "cell_type": "code",
   "execution_count": 48,
   "id": "fc972544",
   "metadata": {
    "execution": {
     "iopub.execute_input": "2023-03-04T17:07:59.589518Z",
     "iopub.status.busy": "2023-03-04T17:07:59.588415Z",
     "iopub.status.idle": "2023-03-04T17:07:59.600860Z",
     "shell.execute_reply": "2023-03-04T17:07:59.599638Z"
    },
    "papermill": {
     "duration": 0.047449,
     "end_time": "2023-03-04T17:07:59.603789",
     "exception": false,
     "start_time": "2023-03-04T17:07:59.556340",
     "status": "completed"
    },
    "tags": []
   },
   "outputs": [],
   "source": [
    "from sklearn import metrics\n",
    "import numpy as np\n",
    "scores = pd.DataFrame(columns=['Model','MAE_Train','MSE_Train','RMSE_Train','MAPE_Train','MAE_Test','MSE_Test','RMSE_Test','MAPE_Test','R^2'])\n",
    "\n",
    "\n",
    "#definition of error metrics function\n",
    "def get_metrics(train_act,train_pred,test_act,test_pred,model_description,dataframe):\n",
    "    MAE_Train = metrics.mean_absolute_error(train_act,train_pred)\n",
    "    MSE_Train =metrics.mean_squared_error(train_act,train_pred)\n",
    "    RMSE_Train =np.sqrt(metrics.mean_squared_error(train_act,train_pred))\n",
    "    MAPE_Train = metrics.mean_absolute_percentage_error(train_act,train_pred)\n",
    "    MAE_Test = metrics.mean_absolute_error(test_act,test_pred)\n",
    "    MSE_Test = metrics.mean_squared_error(test_act,test_pred)\n",
    "    RMSE_Test = np.sqrt(metrics.mean_squared_error(test_act,test_pred))\n",
    "    MAPE_Test = metrics.mean_absolute_percentage_error(test_act,test_pred)\n",
    "    R2=metrics.r2_score(train_act,train_pred)\n",
    "    s1=pd.Series([model_description,MAE_Train,MSE_Train,RMSE_Train,MAPE_Train,MAE_Test,MSE_Test,RMSE_Test,MAPE_Test,R2],\n",
    "                                           index=scores.columns)\n",
    "    dataframe = dataframe.append(s1, ignore_index=True)\n",
    "    return(dataframe)"
   ]
  },
  {
   "cell_type": "markdown",
   "id": "5ceab446",
   "metadata": {
    "papermill": {
     "duration": 0.030687,
     "end_time": "2023-03-04T17:07:59.667099",
     "exception": false,
     "start_time": "2023-03-04T17:07:59.636412",
     "status": "completed"
    },
    "tags": []
   },
   "source": [
    "LINEAR REGRESSION"
   ]
  },
  {
   "cell_type": "code",
   "execution_count": 49,
   "id": "117b49f0",
   "metadata": {
    "execution": {
     "iopub.execute_input": "2023-03-04T17:07:59.732461Z",
     "iopub.status.busy": "2023-03-04T17:07:59.731378Z",
     "iopub.status.idle": "2023-03-04T17:07:59.827581Z",
     "shell.execute_reply": "2023-03-04T17:07:59.826380Z"
    },
    "papermill": {
     "duration": 0.132508,
     "end_time": "2023-03-04T17:07:59.830595",
     "exception": false,
     "start_time": "2023-03-04T17:07:59.698087",
     "status": "completed"
    },
    "tags": []
   },
   "outputs": [],
   "source": [
    "from sklearn.linear_model import LinearRegression"
   ]
  },
  {
   "cell_type": "code",
   "execution_count": 50,
   "id": "4b6fdf5b",
   "metadata": {
    "execution": {
     "iopub.execute_input": "2023-03-04T17:07:59.895678Z",
     "iopub.status.busy": "2023-03-04T17:07:59.894797Z",
     "iopub.status.idle": "2023-03-04T17:07:59.911683Z",
     "shell.execute_reply": "2023-03-04T17:07:59.910484Z"
    },
    "papermill": {
     "duration": 0.052558,
     "end_time": "2023-03-04T17:07:59.914259",
     "exception": false,
     "start_time": "2023-03-04T17:07:59.861701",
     "status": "completed"
    },
    "tags": []
   },
   "outputs": [
    {
     "data": {
      "text/plain": [
       "Lasso(alpha=0.1)"
      ]
     },
     "execution_count": 50,
     "metadata": {},
     "output_type": "execute_result"
    }
   ],
   "source": [
    "from sklearn import linear_model\n",
    "clf = linear_model.Lasso(alpha=0.1)\n",
    "clf.fit(X_train_concat,y_train)"
   ]
  },
  {
   "cell_type": "code",
   "execution_count": 51,
   "id": "9f224b31",
   "metadata": {
    "execution": {
     "iopub.execute_input": "2023-03-04T17:07:59.979123Z",
     "iopub.status.busy": "2023-03-04T17:07:59.978673Z",
     "iopub.status.idle": "2023-03-04T17:07:59.987859Z",
     "shell.execute_reply": "2023-03-04T17:07:59.986879Z"
    },
    "papermill": {
     "duration": 0.04446,
     "end_time": "2023-03-04T17:07:59.990031",
     "exception": false,
     "start_time": "2023-03-04T17:07:59.945571",
     "status": "completed"
    },
    "tags": []
   },
   "outputs": [],
   "source": [
    "X_train1=clf.predict(X_train_concat)\n",
    "X_test1=clf.predict(X_test_cancat)"
   ]
  },
  {
   "cell_type": "code",
   "execution_count": 52,
   "id": "7bcce589",
   "metadata": {
    "execution": {
     "iopub.execute_input": "2023-03-04T17:08:00.054026Z",
     "iopub.status.busy": "2023-03-04T17:08:00.053590Z",
     "iopub.status.idle": "2023-03-04T17:08:00.077977Z",
     "shell.execute_reply": "2023-03-04T17:08:00.076710Z"
    },
    "papermill": {
     "duration": 0.059764,
     "end_time": "2023-03-04T17:08:00.080873",
     "exception": false,
     "start_time": "2023-03-04T17:08:00.021109",
     "status": "completed"
    },
    "tags": []
   },
   "outputs": [
    {
     "data": {
      "text/html": [
       "<div>\n",
       "<style scoped>\n",
       "    .dataframe tbody tr th:only-of-type {\n",
       "        vertical-align: middle;\n",
       "    }\n",
       "\n",
       "    .dataframe tbody tr th {\n",
       "        vertical-align: top;\n",
       "    }\n",
       "\n",
       "    .dataframe thead th {\n",
       "        text-align: right;\n",
       "    }\n",
       "</style>\n",
       "<table border=\"1\" class=\"dataframe\">\n",
       "  <thead>\n",
       "    <tr style=\"text-align: right;\">\n",
       "      <th></th>\n",
       "      <th>Model</th>\n",
       "      <th>MAE_Train</th>\n",
       "      <th>MSE_Train</th>\n",
       "      <th>RMSE_Train</th>\n",
       "      <th>MAPE_Train</th>\n",
       "      <th>MAE_Test</th>\n",
       "      <th>MSE_Test</th>\n",
       "      <th>RMSE_Test</th>\n",
       "      <th>MAPE_Test</th>\n",
       "      <th>R^2</th>\n",
       "    </tr>\n",
       "  </thead>\n",
       "  <tbody>\n",
       "    <tr>\n",
       "      <th>0</th>\n",
       "      <td>linear_model</td>\n",
       "      <td>62.536974</td>\n",
       "      <td>8089.990313</td>\n",
       "      <td>89.944373</td>\n",
       "      <td>2.837417e+15</td>\n",
       "      <td>84.650812</td>\n",
       "      <td>10746.384661</td>\n",
       "      <td>103.664771</td>\n",
       "      <td>0.728929</td>\n",
       "      <td>0.930376</td>\n",
       "    </tr>\n",
       "  </tbody>\n",
       "</table>\n",
       "</div>"
      ],
      "text/plain": [
       "          Model  MAE_Train    MSE_Train  RMSE_Train    MAPE_Train   MAE_Test  \\\n",
       "0  linear_model  62.536974  8089.990313   89.944373  2.837417e+15  84.650812   \n",
       "\n",
       "       MSE_Test   RMSE_Test  MAPE_Test       R^2  \n",
       "0  10746.384661  103.664771   0.728929  0.930376  "
      ]
     },
     "execution_count": 52,
     "metadata": {},
     "output_type": "execute_result"
    }
   ],
   "source": [
    "scores = get_metrics(y_train,X_train1,y_test,X_test1,\"linear_model\", scores)\n",
    "scores"
   ]
  },
  {
   "cell_type": "markdown",
   "id": "a6323223",
   "metadata": {
    "papermill": {
     "duration": 0.030604,
     "end_time": "2023-03-04T17:08:00.142929",
     "exception": false,
     "start_time": "2023-03-04T17:08:00.112325",
     "status": "completed"
    },
    "tags": []
   },
   "source": [
    "DECISION TREE REGRESSOR"
   ]
  },
  {
   "cell_type": "code",
   "execution_count": 53,
   "id": "01a9d989",
   "metadata": {
    "execution": {
     "iopub.execute_input": "2023-03-04T17:08:00.207912Z",
     "iopub.status.busy": "2023-03-04T17:08:00.207494Z",
     "iopub.status.idle": "2023-03-04T17:08:00.360765Z",
     "shell.execute_reply": "2023-03-04T17:08:00.359680Z"
    },
    "papermill": {
     "duration": 0.189287,
     "end_time": "2023-03-04T17:08:00.363578",
     "exception": false,
     "start_time": "2023-03-04T17:08:00.174291",
     "status": "completed"
    },
    "tags": []
   },
   "outputs": [],
   "source": [
    "from sklearn.tree import DecisionTreeRegressor,export_graphviz\n",
    "from sklearn.model_selection import GridSearchCV"
   ]
  },
  {
   "cell_type": "code",
   "execution_count": 54,
   "id": "ad404b0f",
   "metadata": {
    "execution": {
     "iopub.execute_input": "2023-03-04T17:08:00.429720Z",
     "iopub.status.busy": "2023-03-04T17:08:00.429309Z",
     "iopub.status.idle": "2023-03-04T17:08:00.440070Z",
     "shell.execute_reply": "2023-03-04T17:08:00.438908Z"
    },
    "papermill": {
     "duration": 0.047221,
     "end_time": "2023-03-04T17:08:00.443010",
     "exception": false,
     "start_time": "2023-03-04T17:08:00.395789",
     "status": "completed"
    },
    "tags": []
   },
   "outputs": [
    {
     "data": {
      "text/plain": [
       "DecisionTreeRegressor()"
      ]
     },
     "execution_count": 54,
     "metadata": {},
     "output_type": "execute_result"
    }
   ],
   "source": [
    "Tree=DecisionTreeRegressor()\n",
    "Tree.fit(X_train_concat, y_train)"
   ]
  },
  {
   "cell_type": "code",
   "execution_count": 55,
   "id": "27743190",
   "metadata": {
    "execution": {
     "iopub.execute_input": "2023-03-04T17:08:00.510553Z",
     "iopub.status.busy": "2023-03-04T17:08:00.509320Z",
     "iopub.status.idle": "2023-03-04T17:08:00.519487Z",
     "shell.execute_reply": "2023-03-04T17:08:00.518253Z"
    },
    "papermill": {
     "duration": 0.046186,
     "end_time": "2023-03-04T17:08:00.522128",
     "exception": false,
     "start_time": "2023-03-04T17:08:00.475942",
     "status": "completed"
    },
    "tags": []
   },
   "outputs": [],
   "source": [
    "X_train2=Tree.predict(X_train_concat)\n",
    "X_test2=Tree.predict(X_test_cancat)"
   ]
  },
  {
   "cell_type": "code",
   "execution_count": 56,
   "id": "ce8f2a6d",
   "metadata": {
    "execution": {
     "iopub.execute_input": "2023-03-04T17:08:00.588669Z",
     "iopub.status.busy": "2023-03-04T17:08:00.588223Z",
     "iopub.status.idle": "2023-03-04T17:08:00.611792Z",
     "shell.execute_reply": "2023-03-04T17:08:00.610538Z"
    },
    "papermill": {
     "duration": 0.060348,
     "end_time": "2023-03-04T17:08:00.614434",
     "exception": false,
     "start_time": "2023-03-04T17:08:00.554086",
     "status": "completed"
    },
    "tags": []
   },
   "outputs": [
    {
     "data": {
      "text/html": [
       "<div>\n",
       "<style scoped>\n",
       "    .dataframe tbody tr th:only-of-type {\n",
       "        vertical-align: middle;\n",
       "    }\n",
       "\n",
       "    .dataframe tbody tr th {\n",
       "        vertical-align: top;\n",
       "    }\n",
       "\n",
       "    .dataframe thead th {\n",
       "        text-align: right;\n",
       "    }\n",
       "</style>\n",
       "<table border=\"1\" class=\"dataframe\">\n",
       "  <thead>\n",
       "    <tr style=\"text-align: right;\">\n",
       "      <th></th>\n",
       "      <th>Model</th>\n",
       "      <th>MAE_Train</th>\n",
       "      <th>MSE_Train</th>\n",
       "      <th>RMSE_Train</th>\n",
       "      <th>MAPE_Train</th>\n",
       "      <th>MAE_Test</th>\n",
       "      <th>MSE_Test</th>\n",
       "      <th>RMSE_Test</th>\n",
       "      <th>MAPE_Test</th>\n",
       "      <th>R^2</th>\n",
       "    </tr>\n",
       "  </thead>\n",
       "  <tbody>\n",
       "    <tr>\n",
       "      <th>0</th>\n",
       "      <td>linear_model</td>\n",
       "      <td>62.536974</td>\n",
       "      <td>8089.990313</td>\n",
       "      <td>89.944373</td>\n",
       "      <td>2.837417e+15</td>\n",
       "      <td>84.650812</td>\n",
       "      <td>10746.384661</td>\n",
       "      <td>103.664771</td>\n",
       "      <td>0.728929</td>\n",
       "      <td>0.930376</td>\n",
       "    </tr>\n",
       "    <tr>\n",
       "      <th>1</th>\n",
       "      <td>DecisionTree</td>\n",
       "      <td>0.450450</td>\n",
       "      <td>11.261261</td>\n",
       "      <td>3.355780</td>\n",
       "      <td>2.860724e-04</td>\n",
       "      <td>54.489583</td>\n",
       "      <td>7323.365208</td>\n",
       "      <td>85.576663</td>\n",
       "      <td>0.163583</td>\n",
       "      <td>0.999903</td>\n",
       "    </tr>\n",
       "  </tbody>\n",
       "</table>\n",
       "</div>"
      ],
      "text/plain": [
       "          Model  MAE_Train    MSE_Train  RMSE_Train    MAPE_Train   MAE_Test  \\\n",
       "0  linear_model  62.536974  8089.990313   89.944373  2.837417e+15  84.650812   \n",
       "1  DecisionTree   0.450450    11.261261    3.355780  2.860724e-04  54.489583   \n",
       "\n",
       "       MSE_Test   RMSE_Test  MAPE_Test       R^2  \n",
       "0  10746.384661  103.664771   0.728929  0.930376  \n",
       "1   7323.365208   85.576663   0.163583  0.999903  "
      ]
     },
     "execution_count": 56,
     "metadata": {},
     "output_type": "execute_result"
    }
   ],
   "source": [
    "scores = get_metrics(y_train,X_train2, y_test,X_test2,\"DecisionTree\", scores)\n",
    "scores"
   ]
  },
  {
   "cell_type": "markdown",
   "id": "6ff01731",
   "metadata": {
    "papermill": {
     "duration": 0.031795,
     "end_time": "2023-03-04T17:08:00.680281",
     "exception": false,
     "start_time": "2023-03-04T17:08:00.648486",
     "status": "completed"
    },
    "tags": []
   },
   "source": [
    "Grid Search for Hyper-parameter tuning\n",
    "\n",
    "**Hyper-parameter**"
   ]
  },
  {
   "cell_type": "code",
   "execution_count": 57,
   "id": "82384e01",
   "metadata": {
    "execution": {
     "iopub.execute_input": "2023-03-04T17:08:00.747227Z",
     "iopub.status.busy": "2023-03-04T17:08:00.746768Z",
     "iopub.status.idle": "2023-03-04T17:08:00.752630Z",
     "shell.execute_reply": "2023-03-04T17:08:00.751308Z"
    },
    "papermill": {
     "duration": 0.043074,
     "end_time": "2023-03-04T17:08:00.755041",
     "exception": false,
     "start_time": "2023-03-04T17:08:00.711967",
     "status": "completed"
    },
    "tags": []
   },
   "outputs": [],
   "source": [
    "Regressor=DecisionTreeRegressor()\n",
    "param_grid={\n",
    "           'max_depth':range(1,11),\n",
    "           'min_samples_split':[2,8],\n",
    "           'min_samples_leaf':[1,5]\n",
    "           }\n"
   ]
  },
  {
   "cell_type": "markdown",
   "id": "8f0ef12a",
   "metadata": {
    "papermill": {
     "duration": 0.032242,
     "end_time": "2023-03-04T17:08:00.819049",
     "exception": false,
     "start_time": "2023-03-04T17:08:00.786807",
     "status": "completed"
    },
    "tags": []
   },
   "source": [
    "Grid SEARCH CV"
   ]
  },
  {
   "cell_type": "code",
   "execution_count": 58,
   "id": "3f65d391",
   "metadata": {
    "execution": {
     "iopub.execute_input": "2023-03-04T17:08:00.885444Z",
     "iopub.status.busy": "2023-03-04T17:08:00.884983Z",
     "iopub.status.idle": "2023-03-04T17:08:00.889683Z",
     "shell.execute_reply": "2023-03-04T17:08:00.888726Z"
    },
    "papermill": {
     "duration": 0.040805,
     "end_time": "2023-03-04T17:08:00.891865",
     "exception": false,
     "start_time": "2023-03-04T17:08:00.851060",
     "status": "completed"
    },
    "tags": []
   },
   "outputs": [],
   "source": [
    "Grid=GridSearchCV(Regressor,param_grid,cv=10)"
   ]
  },
  {
   "cell_type": "code",
   "execution_count": 59,
   "id": "7d595db9",
   "metadata": {
    "execution": {
     "iopub.execute_input": "2023-03-04T17:08:00.958528Z",
     "iopub.status.busy": "2023-03-04T17:08:00.957316Z",
     "iopub.status.idle": "2023-03-04T17:08:02.717609Z",
     "shell.execute_reply": "2023-03-04T17:08:02.716373Z"
    },
    "papermill": {
     "duration": 1.796827,
     "end_time": "2023-03-04T17:08:02.720475",
     "exception": false,
     "start_time": "2023-03-04T17:08:00.923648",
     "status": "completed"
    },
    "tags": []
   },
   "outputs": [
    {
     "data": {
      "text/plain": [
       "GridSearchCV(cv=10, estimator=DecisionTreeRegressor(),\n",
       "             param_grid={'max_depth': range(1, 11), 'min_samples_leaf': [1, 5],\n",
       "                         'min_samples_split': [2, 8]})"
      ]
     },
     "execution_count": 59,
     "metadata": {},
     "output_type": "execute_result"
    }
   ],
   "source": [
    "Grid.fit(X_train_concat,y_train)"
   ]
  },
  {
   "cell_type": "code",
   "execution_count": 60,
   "id": "9a5f6f6c",
   "metadata": {
    "execution": {
     "iopub.execute_input": "2023-03-04T17:08:02.785877Z",
     "iopub.status.busy": "2023-03-04T17:08:02.785485Z",
     "iopub.status.idle": "2023-03-04T17:08:02.792036Z",
     "shell.execute_reply": "2023-03-04T17:08:02.790760Z"
    },
    "papermill": {
     "duration": 0.042271,
     "end_time": "2023-03-04T17:08:02.794705",
     "exception": false,
     "start_time": "2023-03-04T17:08:02.752434",
     "status": "completed"
    },
    "tags": []
   },
   "outputs": [
    {
     "name": "stdout",
     "output_type": "stream",
     "text": [
      "{'max_depth': 5, 'min_samples_leaf': 1, 'min_samples_split': 2}\n",
      "DecisionTreeRegressor(max_depth=5)\n"
     ]
    }
   ],
   "source": [
    "print(Grid.best_params_)\n",
    "print(Grid.best_estimator_)"
   ]
  },
  {
   "cell_type": "code",
   "execution_count": 61,
   "id": "78b7438a",
   "metadata": {
    "execution": {
     "iopub.execute_input": "2023-03-04T17:08:02.860847Z",
     "iopub.status.busy": "2023-03-04T17:08:02.860428Z",
     "iopub.status.idle": "2023-03-04T17:08:02.869374Z",
     "shell.execute_reply": "2023-03-04T17:08:02.867938Z"
    },
    "papermill": {
     "duration": 0.045132,
     "end_time": "2023-03-04T17:08:02.872052",
     "exception": false,
     "start_time": "2023-03-04T17:08:02.826920",
     "status": "completed"
    },
    "tags": []
   },
   "outputs": [],
   "source": [
    "X_train3=Grid.predict(X_train_concat)\n",
    "X_test3=Grid.predict(X_test_cancat)"
   ]
  },
  {
   "cell_type": "code",
   "execution_count": 62,
   "id": "e6439777",
   "metadata": {
    "execution": {
     "iopub.execute_input": "2023-03-04T17:08:02.939772Z",
     "iopub.status.busy": "2023-03-04T17:08:02.938956Z",
     "iopub.status.idle": "2023-03-04T17:08:02.961991Z",
     "shell.execute_reply": "2023-03-04T17:08:02.960822Z"
    },
    "papermill": {
     "duration": 0.059442,
     "end_time": "2023-03-04T17:08:02.964339",
     "exception": false,
     "start_time": "2023-03-04T17:08:02.904897",
     "status": "completed"
    },
    "tags": []
   },
   "outputs": [
    {
     "data": {
      "text/html": [
       "<div>\n",
       "<style scoped>\n",
       "    .dataframe tbody tr th:only-of-type {\n",
       "        vertical-align: middle;\n",
       "    }\n",
       "\n",
       "    .dataframe tbody tr th {\n",
       "        vertical-align: top;\n",
       "    }\n",
       "\n",
       "    .dataframe thead th {\n",
       "        text-align: right;\n",
       "    }\n",
       "</style>\n",
       "<table border=\"1\" class=\"dataframe\">\n",
       "  <thead>\n",
       "    <tr style=\"text-align: right;\">\n",
       "      <th></th>\n",
       "      <th>Model</th>\n",
       "      <th>MAE_Train</th>\n",
       "      <th>MSE_Train</th>\n",
       "      <th>RMSE_Train</th>\n",
       "      <th>MAPE_Train</th>\n",
       "      <th>MAE_Test</th>\n",
       "      <th>MSE_Test</th>\n",
       "      <th>RMSE_Test</th>\n",
       "      <th>MAPE_Test</th>\n",
       "      <th>R^2</th>\n",
       "    </tr>\n",
       "  </thead>\n",
       "  <tbody>\n",
       "    <tr>\n",
       "      <th>0</th>\n",
       "      <td>linear_model</td>\n",
       "      <td>62.536974</td>\n",
       "      <td>8089.990313</td>\n",
       "      <td>89.944373</td>\n",
       "      <td>2.837417e+15</td>\n",
       "      <td>84.650812</td>\n",
       "      <td>10746.384661</td>\n",
       "      <td>103.664771</td>\n",
       "      <td>0.728929</td>\n",
       "      <td>0.930376</td>\n",
       "    </tr>\n",
       "    <tr>\n",
       "      <th>1</th>\n",
       "      <td>DecisionTree</td>\n",
       "      <td>0.450450</td>\n",
       "      <td>11.261261</td>\n",
       "      <td>3.355780</td>\n",
       "      <td>2.860724e-04</td>\n",
       "      <td>54.489583</td>\n",
       "      <td>7323.365208</td>\n",
       "      <td>85.576663</td>\n",
       "      <td>0.163583</td>\n",
       "      <td>0.999903</td>\n",
       "    </tr>\n",
       "    <tr>\n",
       "      <th>2</th>\n",
       "      <td>DecisionTree 2</td>\n",
       "      <td>17.953729</td>\n",
       "      <td>743.120287</td>\n",
       "      <td>27.260233</td>\n",
       "      <td>9.381883e-02</td>\n",
       "      <td>53.976736</td>\n",
       "      <td>5652.632562</td>\n",
       "      <td>75.183991</td>\n",
       "      <td>0.174818</td>\n",
       "      <td>0.993605</td>\n",
       "    </tr>\n",
       "  </tbody>\n",
       "</table>\n",
       "</div>"
      ],
      "text/plain": [
       "            Model  MAE_Train    MSE_Train  RMSE_Train    MAPE_Train  \\\n",
       "0    linear_model  62.536974  8089.990313   89.944373  2.837417e+15   \n",
       "1    DecisionTree   0.450450    11.261261    3.355780  2.860724e-04   \n",
       "2  DecisionTree 2  17.953729   743.120287   27.260233  9.381883e-02   \n",
       "\n",
       "    MAE_Test      MSE_Test   RMSE_Test  MAPE_Test       R^2  \n",
       "0  84.650812  10746.384661  103.664771   0.728929  0.930376  \n",
       "1  54.489583   7323.365208   85.576663   0.163583  0.999903  \n",
       "2  53.976736   5652.632562   75.183991   0.174818  0.993605  "
      ]
     },
     "execution_count": 62,
     "metadata": {},
     "output_type": "execute_result"
    }
   ],
   "source": [
    "scores = get_metrics(y_train,X_train3, y_test,X_test3,\"DecisionTree 2\", scores)\n",
    "scores"
   ]
  },
  {
   "cell_type": "markdown",
   "id": "58b207be",
   "metadata": {
    "papermill": {
     "duration": 0.031845,
     "end_time": "2023-03-04T17:08:03.028279",
     "exception": false,
     "start_time": "2023-03-04T17:08:02.996434",
     "status": "completed"
    },
    "tags": []
   },
   "source": [
    "Random Forest"
   ]
  },
  {
   "cell_type": "code",
   "execution_count": 63,
   "id": "6f520b23",
   "metadata": {
    "execution": {
     "iopub.execute_input": "2023-03-04T17:08:03.094862Z",
     "iopub.status.busy": "2023-03-04T17:08:03.094347Z",
     "iopub.status.idle": "2023-03-04T17:08:03.229928Z",
     "shell.execute_reply": "2023-03-04T17:08:03.228602Z"
    },
    "papermill": {
     "duration": 0.172251,
     "end_time": "2023-03-04T17:08:03.232996",
     "exception": false,
     "start_time": "2023-03-04T17:08:03.060745",
     "status": "completed"
    },
    "tags": []
   },
   "outputs": [],
   "source": [
    "from sklearn.ensemble import RandomForestRegressor"
   ]
  },
  {
   "cell_type": "code",
   "execution_count": 64,
   "id": "b5bde137",
   "metadata": {
    "execution": {
     "iopub.execute_input": "2023-03-04T17:08:03.299696Z",
     "iopub.status.busy": "2023-03-04T17:08:03.299301Z",
     "iopub.status.idle": "2023-03-04T17:08:03.453969Z",
     "shell.execute_reply": "2023-03-04T17:08:03.452764Z"
    },
    "papermill": {
     "duration": 0.191372,
     "end_time": "2023-03-04T17:08:03.456754",
     "exception": false,
     "start_time": "2023-03-04T17:08:03.265382",
     "status": "completed"
    },
    "tags": []
   },
   "outputs": [
    {
     "data": {
      "text/plain": [
       "RandomForestRegressor()"
      ]
     },
     "execution_count": 64,
     "metadata": {},
     "output_type": "execute_result"
    }
   ],
   "source": [
    "rfr=RandomForestRegressor()\n",
    "rfr.fit(X_train_concat,y_train)"
   ]
  },
  {
   "cell_type": "code",
   "execution_count": 65,
   "id": "d8ad7883",
   "metadata": {
    "execution": {
     "iopub.execute_input": "2023-03-04T17:08:03.526306Z",
     "iopub.status.busy": "2023-03-04T17:08:03.525841Z",
     "iopub.status.idle": "2023-03-04T17:08:03.559638Z",
     "shell.execute_reply": "2023-03-04T17:08:03.558464Z"
    },
    "papermill": {
     "duration": 0.072567,
     "end_time": "2023-03-04T17:08:03.562510",
     "exception": false,
     "start_time": "2023-03-04T17:08:03.489943",
     "status": "completed"
    },
    "tags": []
   },
   "outputs": [],
   "source": [
    "X_train4=rfr.predict(X_train_concat)\n",
    "X_test4=rfr.predict(X_test_cancat)"
   ]
  },
  {
   "cell_type": "code",
   "execution_count": 66,
   "id": "f9e2ce2b",
   "metadata": {
    "execution": {
     "iopub.execute_input": "2023-03-04T17:08:03.630347Z",
     "iopub.status.busy": "2023-03-04T17:08:03.629247Z",
     "iopub.status.idle": "2023-03-04T17:08:03.652626Z",
     "shell.execute_reply": "2023-03-04T17:08:03.651729Z"
    },
    "papermill": {
     "duration": 0.059632,
     "end_time": "2023-03-04T17:08:03.654899",
     "exception": false,
     "start_time": "2023-03-04T17:08:03.595267",
     "status": "completed"
    },
    "tags": []
   },
   "outputs": [
    {
     "data": {
      "text/html": [
       "<div>\n",
       "<style scoped>\n",
       "    .dataframe tbody tr th:only-of-type {\n",
       "        vertical-align: middle;\n",
       "    }\n",
       "\n",
       "    .dataframe tbody tr th {\n",
       "        vertical-align: top;\n",
       "    }\n",
       "\n",
       "    .dataframe thead th {\n",
       "        text-align: right;\n",
       "    }\n",
       "</style>\n",
       "<table border=\"1\" class=\"dataframe\">\n",
       "  <thead>\n",
       "    <tr style=\"text-align: right;\">\n",
       "      <th></th>\n",
       "      <th>Model</th>\n",
       "      <th>MAE_Train</th>\n",
       "      <th>MSE_Train</th>\n",
       "      <th>RMSE_Train</th>\n",
       "      <th>MAPE_Train</th>\n",
       "      <th>MAE_Test</th>\n",
       "      <th>MSE_Test</th>\n",
       "      <th>RMSE_Test</th>\n",
       "      <th>MAPE_Test</th>\n",
       "      <th>R^2</th>\n",
       "    </tr>\n",
       "  </thead>\n",
       "  <tbody>\n",
       "    <tr>\n",
       "      <th>0</th>\n",
       "      <td>linear_model</td>\n",
       "      <td>62.536974</td>\n",
       "      <td>8089.990313</td>\n",
       "      <td>89.944373</td>\n",
       "      <td>2.837417e+15</td>\n",
       "      <td>84.650812</td>\n",
       "      <td>10746.384661</td>\n",
       "      <td>103.664771</td>\n",
       "      <td>0.728929</td>\n",
       "      <td>0.930376</td>\n",
       "    </tr>\n",
       "    <tr>\n",
       "      <th>1</th>\n",
       "      <td>DecisionTree</td>\n",
       "      <td>0.450450</td>\n",
       "      <td>11.261261</td>\n",
       "      <td>3.355780</td>\n",
       "      <td>2.860724e-04</td>\n",
       "      <td>54.489583</td>\n",
       "      <td>7323.365208</td>\n",
       "      <td>85.576663</td>\n",
       "      <td>0.163583</td>\n",
       "      <td>0.999903</td>\n",
       "    </tr>\n",
       "    <tr>\n",
       "      <th>2</th>\n",
       "      <td>DecisionTree 2</td>\n",
       "      <td>17.953729</td>\n",
       "      <td>743.120287</td>\n",
       "      <td>27.260233</td>\n",
       "      <td>9.381883e-02</td>\n",
       "      <td>53.976736</td>\n",
       "      <td>5652.632562</td>\n",
       "      <td>75.183991</td>\n",
       "      <td>0.174818</td>\n",
       "      <td>0.993605</td>\n",
       "    </tr>\n",
       "    <tr>\n",
       "      <th>3</th>\n",
       "      <td>RandomForest</td>\n",
       "      <td>15.079592</td>\n",
       "      <td>618.812389</td>\n",
       "      <td>24.875940</td>\n",
       "      <td>2.008362e+15</td>\n",
       "      <td>40.350444</td>\n",
       "      <td>4691.986945</td>\n",
       "      <td>68.498080</td>\n",
       "      <td>0.103189</td>\n",
       "      <td>0.994674</td>\n",
       "    </tr>\n",
       "  </tbody>\n",
       "</table>\n",
       "</div>"
      ],
      "text/plain": [
       "            Model  MAE_Train    MSE_Train  RMSE_Train    MAPE_Train  \\\n",
       "0    linear_model  62.536974  8089.990313   89.944373  2.837417e+15   \n",
       "1    DecisionTree   0.450450    11.261261    3.355780  2.860724e-04   \n",
       "2  DecisionTree 2  17.953729   743.120287   27.260233  9.381883e-02   \n",
       "3    RandomForest  15.079592   618.812389   24.875940  2.008362e+15   \n",
       "\n",
       "    MAE_Test      MSE_Test   RMSE_Test  MAPE_Test       R^2  \n",
       "0  84.650812  10746.384661  103.664771   0.728929  0.930376  \n",
       "1  54.489583   7323.365208   85.576663   0.163583  0.999903  \n",
       "2  53.976736   5652.632562   75.183991   0.174818  0.993605  \n",
       "3  40.350444   4691.986945   68.498080   0.103189  0.994674  "
      ]
     },
     "execution_count": 66,
     "metadata": {},
     "output_type": "execute_result"
    }
   ],
   "source": [
    "scores = get_metrics(y_train,X_train4, y_test,X_test4,\"RandomForest\", scores)\n",
    "scores"
   ]
  },
  {
   "cell_type": "markdown",
   "id": "83fbb9b0",
   "metadata": {
    "papermill": {
     "duration": 0.036022,
     "end_time": "2023-03-04T17:08:03.723488",
     "exception": false,
     "start_time": "2023-03-04T17:08:03.687466",
     "status": "completed"
    },
    "tags": []
   },
   "source": [
    "Hyper-parameter tuning using Grid Search and Cross Validation"
   ]
  },
  {
   "cell_type": "code",
   "execution_count": 67,
   "id": "3ad53a56",
   "metadata": {
    "execution": {
     "iopub.execute_input": "2023-03-04T17:08:03.790875Z",
     "iopub.status.busy": "2023-03-04T17:08:03.790473Z",
     "iopub.status.idle": "2023-03-04T17:08:03.796399Z",
     "shell.execute_reply": "2023-03-04T17:08:03.794947Z"
    },
    "papermill": {
     "duration": 0.042776,
     "end_time": "2023-03-04T17:08:03.799093",
     "exception": false,
     "start_time": "2023-03-04T17:08:03.756317",
     "status": "completed"
    },
    "tags": []
   },
   "outputs": [],
   "source": [
    "rfr1=RandomForestRegressor()\n",
    "param_grid = {\"n_estimators\" : [50, 100],\n",
    "              \"max_depth\" : [1,5],\n",
    "              \"max_features\" : [3, 5],\n",
    "              \"min_samples_leaf\" : [1, 2, 4]}"
   ]
  },
  {
   "cell_type": "code",
   "execution_count": 68,
   "id": "9baa6fda",
   "metadata": {
    "execution": {
     "iopub.execute_input": "2023-03-04T17:08:03.865823Z",
     "iopub.status.busy": "2023-03-04T17:08:03.865419Z",
     "iopub.status.idle": "2023-03-04T17:08:03.871149Z",
     "shell.execute_reply": "2023-03-04T17:08:03.869882Z"
    },
    "papermill": {
     "duration": 0.041898,
     "end_time": "2023-03-04T17:08:03.873538",
     "exception": false,
     "start_time": "2023-03-04T17:08:03.831640",
     "status": "completed"
    },
    "tags": []
   },
   "outputs": [],
   "source": [
    "clf_grid =GridSearchCV(rfr1,param_grid, cv = 2)"
   ]
  },
  {
   "cell_type": "code",
   "execution_count": 69,
   "id": "5b7ca985",
   "metadata": {
    "execution": {
     "iopub.execute_input": "2023-03-04T17:08:03.940387Z",
     "iopub.status.busy": "2023-03-04T17:08:03.939990Z",
     "iopub.status.idle": "2023-03-04T17:08:08.585821Z",
     "shell.execute_reply": "2023-03-04T17:08:08.584251Z"
    },
    "papermill": {
     "duration": 4.683224,
     "end_time": "2023-03-04T17:08:08.589022",
     "exception": false,
     "start_time": "2023-03-04T17:08:03.905798",
     "status": "completed"
    },
    "tags": []
   },
   "outputs": [
    {
     "data": {
      "text/plain": [
       "GridSearchCV(cv=2, estimator=RandomForestRegressor(),\n",
       "             param_grid={'max_depth': [1, 5], 'max_features': [3, 5],\n",
       "                         'min_samples_leaf': [1, 2, 4],\n",
       "                         'n_estimators': [50, 100]})"
      ]
     },
     "execution_count": 69,
     "metadata": {},
     "output_type": "execute_result"
    }
   ],
   "source": [
    "clf_grid.fit(X_train_concat,y_train)"
   ]
  },
  {
   "cell_type": "code",
   "execution_count": 70,
   "id": "dc4087b8",
   "metadata": {
    "execution": {
     "iopub.execute_input": "2023-03-04T17:08:08.662308Z",
     "iopub.status.busy": "2023-03-04T17:08:08.661061Z",
     "iopub.status.idle": "2023-03-04T17:08:08.668775Z",
     "shell.execute_reply": "2023-03-04T17:08:08.667220Z"
    },
    "papermill": {
     "duration": 0.04858,
     "end_time": "2023-03-04T17:08:08.671392",
     "exception": false,
     "start_time": "2023-03-04T17:08:08.622812",
     "status": "completed"
    },
    "tags": []
   },
   "outputs": [
    {
     "name": "stdout",
     "output_type": "stream",
     "text": [
      "{'max_depth': 5, 'max_features': 5, 'min_samples_leaf': 2, 'n_estimators': 50}\n",
      "RandomForestRegressor(max_depth=5, max_features=5, min_samples_leaf=2,\n",
      "                      n_estimators=50)\n"
     ]
    }
   ],
   "source": [
    "print(clf_grid.best_params_)\n",
    "print(clf_grid.best_estimator_)"
   ]
  },
  {
   "cell_type": "code",
   "execution_count": 71,
   "id": "255b4c36",
   "metadata": {
    "execution": {
     "iopub.execute_input": "2023-03-04T17:08:08.741099Z",
     "iopub.status.busy": "2023-03-04T17:08:08.740384Z",
     "iopub.status.idle": "2023-03-04T17:08:08.766545Z",
     "shell.execute_reply": "2023-03-04T17:08:08.765122Z"
    },
    "papermill": {
     "duration": 0.065241,
     "end_time": "2023-03-04T17:08:08.769365",
     "exception": false,
     "start_time": "2023-03-04T17:08:08.704124",
     "status": "completed"
    },
    "tags": []
   },
   "outputs": [],
   "source": [
    "X_train5=clf_grid.predict(X_train_concat)\n",
    "X_test5=clf_grid.predict(X_test_cancat)"
   ]
  },
  {
   "cell_type": "code",
   "execution_count": 72,
   "id": "db02a162",
   "metadata": {
    "execution": {
     "iopub.execute_input": "2023-03-04T17:08:08.839089Z",
     "iopub.status.busy": "2023-03-04T17:08:08.838653Z",
     "iopub.status.idle": "2023-03-04T17:08:08.864078Z",
     "shell.execute_reply": "2023-03-04T17:08:08.862768Z"
    },
    "papermill": {
     "duration": 0.062418,
     "end_time": "2023-03-04T17:08:08.866754",
     "exception": false,
     "start_time": "2023-03-04T17:08:08.804336",
     "status": "completed"
    },
    "tags": []
   },
   "outputs": [
    {
     "data": {
      "text/html": [
       "<div>\n",
       "<style scoped>\n",
       "    .dataframe tbody tr th:only-of-type {\n",
       "        vertical-align: middle;\n",
       "    }\n",
       "\n",
       "    .dataframe tbody tr th {\n",
       "        vertical-align: top;\n",
       "    }\n",
       "\n",
       "    .dataframe thead th {\n",
       "        text-align: right;\n",
       "    }\n",
       "</style>\n",
       "<table border=\"1\" class=\"dataframe\">\n",
       "  <thead>\n",
       "    <tr style=\"text-align: right;\">\n",
       "      <th></th>\n",
       "      <th>Model</th>\n",
       "      <th>MAE_Train</th>\n",
       "      <th>MSE_Train</th>\n",
       "      <th>RMSE_Train</th>\n",
       "      <th>MAPE_Train</th>\n",
       "      <th>MAE_Test</th>\n",
       "      <th>MSE_Test</th>\n",
       "      <th>RMSE_Test</th>\n",
       "      <th>MAPE_Test</th>\n",
       "      <th>R^2</th>\n",
       "    </tr>\n",
       "  </thead>\n",
       "  <tbody>\n",
       "    <tr>\n",
       "      <th>0</th>\n",
       "      <td>linear_model</td>\n",
       "      <td>62.536974</td>\n",
       "      <td>8089.990313</td>\n",
       "      <td>89.944373</td>\n",
       "      <td>2.837417e+15</td>\n",
       "      <td>84.650812</td>\n",
       "      <td>10746.384661</td>\n",
       "      <td>103.664771</td>\n",
       "      <td>0.728929</td>\n",
       "      <td>0.930376</td>\n",
       "    </tr>\n",
       "    <tr>\n",
       "      <th>1</th>\n",
       "      <td>DecisionTree</td>\n",
       "      <td>0.450450</td>\n",
       "      <td>11.261261</td>\n",
       "      <td>3.355780</td>\n",
       "      <td>2.860724e-04</td>\n",
       "      <td>54.489583</td>\n",
       "      <td>7323.365208</td>\n",
       "      <td>85.576663</td>\n",
       "      <td>0.163583</td>\n",
       "      <td>0.999903</td>\n",
       "    </tr>\n",
       "    <tr>\n",
       "      <th>2</th>\n",
       "      <td>DecisionTree 2</td>\n",
       "      <td>17.953729</td>\n",
       "      <td>743.120287</td>\n",
       "      <td>27.260233</td>\n",
       "      <td>9.381883e-02</td>\n",
       "      <td>53.976736</td>\n",
       "      <td>5652.632562</td>\n",
       "      <td>75.183991</td>\n",
       "      <td>0.174818</td>\n",
       "      <td>0.993605</td>\n",
       "    </tr>\n",
       "    <tr>\n",
       "      <th>3</th>\n",
       "      <td>RandomForest</td>\n",
       "      <td>15.079592</td>\n",
       "      <td>618.812389</td>\n",
       "      <td>24.875940</td>\n",
       "      <td>2.008362e+15</td>\n",
       "      <td>40.350444</td>\n",
       "      <td>4691.986945</td>\n",
       "      <td>68.498080</td>\n",
       "      <td>0.103189</td>\n",
       "      <td>0.994674</td>\n",
       "    </tr>\n",
       "    <tr>\n",
       "      <th>4</th>\n",
       "      <td>RandomForestRegressor</td>\n",
       "      <td>23.217252</td>\n",
       "      <td>1821.192372</td>\n",
       "      <td>42.675431</td>\n",
       "      <td>3.546465e+15</td>\n",
       "      <td>43.191926</td>\n",
       "      <td>5856.285490</td>\n",
       "      <td>76.526371</td>\n",
       "      <td>0.114139</td>\n",
       "      <td>0.984326</td>\n",
       "    </tr>\n",
       "  </tbody>\n",
       "</table>\n",
       "</div>"
      ],
      "text/plain": [
       "                   Model  MAE_Train    MSE_Train  RMSE_Train    MAPE_Train  \\\n",
       "0           linear_model  62.536974  8089.990313   89.944373  2.837417e+15   \n",
       "1           DecisionTree   0.450450    11.261261    3.355780  2.860724e-04   \n",
       "2         DecisionTree 2  17.953729   743.120287   27.260233  9.381883e-02   \n",
       "3           RandomForest  15.079592   618.812389   24.875940  2.008362e+15   \n",
       "4  RandomForestRegressor  23.217252  1821.192372   42.675431  3.546465e+15   \n",
       "\n",
       "    MAE_Test      MSE_Test   RMSE_Test  MAPE_Test       R^2  \n",
       "0  84.650812  10746.384661  103.664771   0.728929  0.930376  \n",
       "1  54.489583   7323.365208   85.576663   0.163583  0.999903  \n",
       "2  53.976736   5652.632562   75.183991   0.174818  0.993605  \n",
       "3  40.350444   4691.986945   68.498080   0.103189  0.994674  \n",
       "4  43.191926   5856.285490   76.526371   0.114139  0.984326  "
      ]
     },
     "execution_count": 72,
     "metadata": {},
     "output_type": "execute_result"
    }
   ],
   "source": [
    "scores = get_metrics(y_train,X_train5, y_test,X_test5,\"RandomForestRegressor\", scores)\n",
    "scores"
   ]
  },
  {
   "cell_type": "markdown",
   "id": "1cf82078",
   "metadata": {
    "papermill": {
     "duration": 0.032699,
     "end_time": "2023-03-04T17:08:08.932472",
     "exception": false,
     "start_time": "2023-03-04T17:08:08.899773",
     "status": "completed"
    },
    "tags": []
   },
   "source": [
    "Ensemble Learning"
   ]
  },
  {
   "cell_type": "markdown",
   "id": "e13f4d45",
   "metadata": {
    "papermill": {
     "duration": 0.032529,
     "end_time": "2023-03-04T17:08:08.998064",
     "exception": false,
     "start_time": "2023-03-04T17:08:08.965535",
     "status": "completed"
    },
    "tags": []
   },
   "source": [
    "Bagging"
   ]
  },
  {
   "cell_type": "code",
   "execution_count": 73,
   "id": "ba78b798",
   "metadata": {
    "execution": {
     "iopub.execute_input": "2023-03-04T17:08:09.066615Z",
     "iopub.status.busy": "2023-03-04T17:08:09.066227Z",
     "iopub.status.idle": "2023-03-04T17:08:09.071177Z",
     "shell.execute_reply": "2023-03-04T17:08:09.069948Z"
    },
    "papermill": {
     "duration": 0.042256,
     "end_time": "2023-03-04T17:08:09.073588",
     "exception": false,
     "start_time": "2023-03-04T17:08:09.031332",
     "status": "completed"
    },
    "tags": []
   },
   "outputs": [],
   "source": [
    "from sklearn.ensemble import BaggingRegressor"
   ]
  },
  {
   "cell_type": "code",
   "execution_count": 74,
   "id": "ca5adbce",
   "metadata": {
    "execution": {
     "iopub.execute_input": "2023-03-04T17:08:09.141559Z",
     "iopub.status.busy": "2023-03-04T17:08:09.140651Z",
     "iopub.status.idle": "2023-03-04T17:08:09.168737Z",
     "shell.execute_reply": "2023-03-04T17:08:09.167438Z"
    },
    "papermill": {
     "duration": 0.065266,
     "end_time": "2023-03-04T17:08:09.171283",
     "exception": false,
     "start_time": "2023-03-04T17:08:09.106017",
     "status": "completed"
    },
    "tags": []
   },
   "outputs": [
    {
     "data": {
      "text/plain": [
       "BaggingRegressor()"
      ]
     },
     "execution_count": 74,
     "metadata": {},
     "output_type": "execute_result"
    }
   ],
   "source": [
    "BR=BaggingRegressor()\n",
    "BR.fit(X_train_concat,y_train)"
   ]
  },
  {
   "cell_type": "code",
   "execution_count": 75,
   "id": "f6f68c7a",
   "metadata": {
    "execution": {
     "iopub.execute_input": "2023-03-04T17:08:09.239340Z",
     "iopub.status.busy": "2023-03-04T17:08:09.238653Z",
     "iopub.status.idle": "2023-03-04T17:08:09.251179Z",
     "shell.execute_reply": "2023-03-04T17:08:09.249769Z"
    },
    "papermill": {
     "duration": 0.05011,
     "end_time": "2023-03-04T17:08:09.254108",
     "exception": false,
     "start_time": "2023-03-04T17:08:09.203998",
     "status": "completed"
    },
    "tags": []
   },
   "outputs": [],
   "source": [
    "X_train6=BR.predict(X_train_concat)\n",
    "X_test6=BR.predict(X_test_cancat)"
   ]
  },
  {
   "cell_type": "code",
   "execution_count": 76,
   "id": "291dcb1a",
   "metadata": {
    "execution": {
     "iopub.execute_input": "2023-03-04T17:08:09.322291Z",
     "iopub.status.busy": "2023-03-04T17:08:09.321872Z",
     "iopub.status.idle": "2023-03-04T17:08:09.344488Z",
     "shell.execute_reply": "2023-03-04T17:08:09.343099Z"
    },
    "papermill": {
     "duration": 0.059412,
     "end_time": "2023-03-04T17:08:09.346835",
     "exception": false,
     "start_time": "2023-03-04T17:08:09.287423",
     "status": "completed"
    },
    "tags": []
   },
   "outputs": [
    {
     "data": {
      "text/html": [
       "<div>\n",
       "<style scoped>\n",
       "    .dataframe tbody tr th:only-of-type {\n",
       "        vertical-align: middle;\n",
       "    }\n",
       "\n",
       "    .dataframe tbody tr th {\n",
       "        vertical-align: top;\n",
       "    }\n",
       "\n",
       "    .dataframe thead th {\n",
       "        text-align: right;\n",
       "    }\n",
       "</style>\n",
       "<table border=\"1\" class=\"dataframe\">\n",
       "  <thead>\n",
       "    <tr style=\"text-align: right;\">\n",
       "      <th></th>\n",
       "      <th>Model</th>\n",
       "      <th>MAE_Train</th>\n",
       "      <th>MSE_Train</th>\n",
       "      <th>RMSE_Train</th>\n",
       "      <th>MAPE_Train</th>\n",
       "      <th>MAE_Test</th>\n",
       "      <th>MSE_Test</th>\n",
       "      <th>RMSE_Test</th>\n",
       "      <th>MAPE_Test</th>\n",
       "      <th>R^2</th>\n",
       "    </tr>\n",
       "  </thead>\n",
       "  <tbody>\n",
       "    <tr>\n",
       "      <th>0</th>\n",
       "      <td>linear_model</td>\n",
       "      <td>62.536974</td>\n",
       "      <td>8089.990313</td>\n",
       "      <td>89.944373</td>\n",
       "      <td>2.837417e+15</td>\n",
       "      <td>84.650812</td>\n",
       "      <td>10746.384661</td>\n",
       "      <td>103.664771</td>\n",
       "      <td>0.728929</td>\n",
       "      <td>0.930376</td>\n",
       "    </tr>\n",
       "    <tr>\n",
       "      <th>1</th>\n",
       "      <td>DecisionTree</td>\n",
       "      <td>0.450450</td>\n",
       "      <td>11.261261</td>\n",
       "      <td>3.355780</td>\n",
       "      <td>2.860724e-04</td>\n",
       "      <td>54.489583</td>\n",
       "      <td>7323.365208</td>\n",
       "      <td>85.576663</td>\n",
       "      <td>0.163583</td>\n",
       "      <td>0.999903</td>\n",
       "    </tr>\n",
       "    <tr>\n",
       "      <th>2</th>\n",
       "      <td>DecisionTree 2</td>\n",
       "      <td>17.953729</td>\n",
       "      <td>743.120287</td>\n",
       "      <td>27.260233</td>\n",
       "      <td>9.381883e-02</td>\n",
       "      <td>53.976736</td>\n",
       "      <td>5652.632562</td>\n",
       "      <td>75.183991</td>\n",
       "      <td>0.174818</td>\n",
       "      <td>0.993605</td>\n",
       "    </tr>\n",
       "    <tr>\n",
       "      <th>3</th>\n",
       "      <td>RandomForest</td>\n",
       "      <td>15.079592</td>\n",
       "      <td>618.812389</td>\n",
       "      <td>24.875940</td>\n",
       "      <td>2.008362e+15</td>\n",
       "      <td>40.350444</td>\n",
       "      <td>4691.986945</td>\n",
       "      <td>68.498080</td>\n",
       "      <td>0.103189</td>\n",
       "      <td>0.994674</td>\n",
       "    </tr>\n",
       "    <tr>\n",
       "      <th>4</th>\n",
       "      <td>RandomForestRegressor</td>\n",
       "      <td>23.217252</td>\n",
       "      <td>1821.192372</td>\n",
       "      <td>42.675431</td>\n",
       "      <td>3.546465e+15</td>\n",
       "      <td>43.191926</td>\n",
       "      <td>5856.285490</td>\n",
       "      <td>76.526371</td>\n",
       "      <td>0.114139</td>\n",
       "      <td>0.984326</td>\n",
       "    </tr>\n",
       "    <tr>\n",
       "      <th>5</th>\n",
       "      <td>Bagging</td>\n",
       "      <td>13.225736</td>\n",
       "      <td>538.669389</td>\n",
       "      <td>23.209252</td>\n",
       "      <td>1.460627e+15</td>\n",
       "      <td>40.767500</td>\n",
       "      <td>4177.160023</td>\n",
       "      <td>64.630953</td>\n",
       "      <td>0.100551</td>\n",
       "      <td>0.995364</td>\n",
       "    </tr>\n",
       "  </tbody>\n",
       "</table>\n",
       "</div>"
      ],
      "text/plain": [
       "                   Model  MAE_Train    MSE_Train  RMSE_Train    MAPE_Train  \\\n",
       "0           linear_model  62.536974  8089.990313   89.944373  2.837417e+15   \n",
       "1           DecisionTree   0.450450    11.261261    3.355780  2.860724e-04   \n",
       "2         DecisionTree 2  17.953729   743.120287   27.260233  9.381883e-02   \n",
       "3           RandomForest  15.079592   618.812389   24.875940  2.008362e+15   \n",
       "4  RandomForestRegressor  23.217252  1821.192372   42.675431  3.546465e+15   \n",
       "5                Bagging  13.225736   538.669389   23.209252  1.460627e+15   \n",
       "\n",
       "    MAE_Test      MSE_Test   RMSE_Test  MAPE_Test       R^2  \n",
       "0  84.650812  10746.384661  103.664771   0.728929  0.930376  \n",
       "1  54.489583   7323.365208   85.576663   0.163583  0.999903  \n",
       "2  53.976736   5652.632562   75.183991   0.174818  0.993605  \n",
       "3  40.350444   4691.986945   68.498080   0.103189  0.994674  \n",
       "4  43.191926   5856.285490   76.526371   0.114139  0.984326  \n",
       "5  40.767500   4177.160023   64.630953   0.100551  0.995364  "
      ]
     },
     "execution_count": 76,
     "metadata": {},
     "output_type": "execute_result"
    }
   ],
   "source": [
    "scores = get_metrics(y_train,X_train6, y_test,X_test6,\"Bagging\", scores)\n",
    "scores"
   ]
  },
  {
   "cell_type": "markdown",
   "id": "70550552",
   "metadata": {
    "papermill": {
     "duration": 0.032975,
     "end_time": "2023-03-04T17:08:09.412887",
     "exception": false,
     "start_time": "2023-03-04T17:08:09.379912",
     "status": "completed"
    },
    "tags": []
   },
   "source": [
    "Hyper-parameter tuning using Grid Search and Cross Validation"
   ]
  },
  {
   "cell_type": "code",
   "execution_count": 77,
   "id": "29685e7e",
   "metadata": {
    "execution": {
     "iopub.execute_input": "2023-03-04T17:08:09.482245Z",
     "iopub.status.busy": "2023-03-04T17:08:09.481359Z",
     "iopub.status.idle": "2023-03-04T17:08:09.487209Z",
     "shell.execute_reply": "2023-03-04T17:08:09.485967Z"
    },
    "papermill": {
     "duration": 0.043228,
     "end_time": "2023-03-04T17:08:09.489887",
     "exception": false,
     "start_time": "2023-03-04T17:08:09.446659",
     "status": "completed"
    },
    "tags": []
   },
   "outputs": [],
   "source": [
    "# set of parameters to test\n",
    "param_grid = {\"n_estimators\": [10, 15, 20, 25],\n",
    "              \"bootstrap\": [False, True]\n",
    "              }"
   ]
  },
  {
   "cell_type": "code",
   "execution_count": 78,
   "id": "60010925",
   "metadata": {
    "execution": {
     "iopub.execute_input": "2023-03-04T17:08:09.559499Z",
     "iopub.status.busy": "2023-03-04T17:08:09.559071Z",
     "iopub.status.idle": "2023-03-04T17:08:11.937225Z",
     "shell.execute_reply": "2023-03-04T17:08:11.936070Z"
    },
    "papermill": {
     "duration": 2.415335,
     "end_time": "2023-03-04T17:08:11.939672",
     "exception": false,
     "start_time": "2023-03-04T17:08:09.524337",
     "status": "completed"
    },
    "tags": []
   },
   "outputs": [
    {
     "data": {
      "text/plain": [
       "GridSearchCV(cv=5, estimator=BaggingRegressor(random_state=0), n_jobs=-1,\n",
       "             param_grid={'bootstrap': [False, True],\n",
       "                         'n_estimators': [10, 15, 20, 25]})"
      ]
     },
     "execution_count": 78,
     "metadata": {},
     "output_type": "execute_result"
    }
   ],
   "source": [
    "bt = BaggingRegressor(random_state=0)\n",
    "clf2 = GridSearchCV(bt, param_grid, cv=5,n_jobs=-1)\n",
    "clf2.fit(X_train_concat, y_train)"
   ]
  },
  {
   "cell_type": "code",
   "execution_count": 79,
   "id": "8602a57d",
   "metadata": {
    "execution": {
     "iopub.execute_input": "2023-03-04T17:08:12.009916Z",
     "iopub.status.busy": "2023-03-04T17:08:12.008846Z",
     "iopub.status.idle": "2023-03-04T17:08:12.022225Z",
     "shell.execute_reply": "2023-03-04T17:08:12.021221Z"
    },
    "papermill": {
     "duration": 0.051443,
     "end_time": "2023-03-04T17:08:12.025024",
     "exception": false,
     "start_time": "2023-03-04T17:08:11.973581",
     "status": "completed"
    },
    "tags": []
   },
   "outputs": [],
   "source": [
    "X_train7=clf2.predict(X_train_concat)\n",
    "X_test7=clf2.predict(X_test_cancat)"
   ]
  },
  {
   "cell_type": "code",
   "execution_count": 80,
   "id": "3c8068aa",
   "metadata": {
    "execution": {
     "iopub.execute_input": "2023-03-04T17:08:12.096593Z",
     "iopub.status.busy": "2023-03-04T17:08:12.095731Z",
     "iopub.status.idle": "2023-03-04T17:08:12.121805Z",
     "shell.execute_reply": "2023-03-04T17:08:12.120835Z"
    },
    "papermill": {
     "duration": 0.064305,
     "end_time": "2023-03-04T17:08:12.124550",
     "exception": false,
     "start_time": "2023-03-04T17:08:12.060245",
     "status": "completed"
    },
    "tags": []
   },
   "outputs": [
    {
     "data": {
      "text/html": [
       "<div>\n",
       "<style scoped>\n",
       "    .dataframe tbody tr th:only-of-type {\n",
       "        vertical-align: middle;\n",
       "    }\n",
       "\n",
       "    .dataframe tbody tr th {\n",
       "        vertical-align: top;\n",
       "    }\n",
       "\n",
       "    .dataframe thead th {\n",
       "        text-align: right;\n",
       "    }\n",
       "</style>\n",
       "<table border=\"1\" class=\"dataframe\">\n",
       "  <thead>\n",
       "    <tr style=\"text-align: right;\">\n",
       "      <th></th>\n",
       "      <th>Model</th>\n",
       "      <th>MAE_Train</th>\n",
       "      <th>MSE_Train</th>\n",
       "      <th>RMSE_Train</th>\n",
       "      <th>MAPE_Train</th>\n",
       "      <th>MAE_Test</th>\n",
       "      <th>MSE_Test</th>\n",
       "      <th>RMSE_Test</th>\n",
       "      <th>MAPE_Test</th>\n",
       "      <th>R^2</th>\n",
       "    </tr>\n",
       "  </thead>\n",
       "  <tbody>\n",
       "    <tr>\n",
       "      <th>0</th>\n",
       "      <td>linear_model</td>\n",
       "      <td>62.536974</td>\n",
       "      <td>8089.990313</td>\n",
       "      <td>89.944373</td>\n",
       "      <td>2.837417e+15</td>\n",
       "      <td>84.650812</td>\n",
       "      <td>10746.384661</td>\n",
       "      <td>103.664771</td>\n",
       "      <td>0.728929</td>\n",
       "      <td>0.930376</td>\n",
       "    </tr>\n",
       "    <tr>\n",
       "      <th>1</th>\n",
       "      <td>DecisionTree</td>\n",
       "      <td>0.450450</td>\n",
       "      <td>11.261261</td>\n",
       "      <td>3.355780</td>\n",
       "      <td>2.860724e-04</td>\n",
       "      <td>54.489583</td>\n",
       "      <td>7323.365208</td>\n",
       "      <td>85.576663</td>\n",
       "      <td>0.163583</td>\n",
       "      <td>0.999903</td>\n",
       "    </tr>\n",
       "    <tr>\n",
       "      <th>2</th>\n",
       "      <td>DecisionTree 2</td>\n",
       "      <td>17.953729</td>\n",
       "      <td>743.120287</td>\n",
       "      <td>27.260233</td>\n",
       "      <td>9.381883e-02</td>\n",
       "      <td>53.976736</td>\n",
       "      <td>5652.632562</td>\n",
       "      <td>75.183991</td>\n",
       "      <td>0.174818</td>\n",
       "      <td>0.993605</td>\n",
       "    </tr>\n",
       "    <tr>\n",
       "      <th>3</th>\n",
       "      <td>RandomForest</td>\n",
       "      <td>15.079592</td>\n",
       "      <td>618.812389</td>\n",
       "      <td>24.875940</td>\n",
       "      <td>2.008362e+15</td>\n",
       "      <td>40.350444</td>\n",
       "      <td>4691.986945</td>\n",
       "      <td>68.498080</td>\n",
       "      <td>0.103189</td>\n",
       "      <td>0.994674</td>\n",
       "    </tr>\n",
       "    <tr>\n",
       "      <th>4</th>\n",
       "      <td>RandomForestRegressor</td>\n",
       "      <td>23.217252</td>\n",
       "      <td>1821.192372</td>\n",
       "      <td>42.675431</td>\n",
       "      <td>3.546465e+15</td>\n",
       "      <td>43.191926</td>\n",
       "      <td>5856.285490</td>\n",
       "      <td>76.526371</td>\n",
       "      <td>0.114139</td>\n",
       "      <td>0.984326</td>\n",
       "    </tr>\n",
       "    <tr>\n",
       "      <th>5</th>\n",
       "      <td>Bagging</td>\n",
       "      <td>13.225736</td>\n",
       "      <td>538.669389</td>\n",
       "      <td>23.209252</td>\n",
       "      <td>1.460627e+15</td>\n",
       "      <td>40.767500</td>\n",
       "      <td>4177.160023</td>\n",
       "      <td>64.630953</td>\n",
       "      <td>0.100551</td>\n",
       "      <td>0.995364</td>\n",
       "    </tr>\n",
       "    <tr>\n",
       "      <th>6</th>\n",
       "      <td>BaggingRegressor</td>\n",
       "      <td>0.450450</td>\n",
       "      <td>11.261261</td>\n",
       "      <td>3.355780</td>\n",
       "      <td>2.860724e-04</td>\n",
       "      <td>65.848750</td>\n",
       "      <td>13986.002804</td>\n",
       "      <td>118.262432</td>\n",
       "      <td>0.169568</td>\n",
       "      <td>0.999903</td>\n",
       "    </tr>\n",
       "  </tbody>\n",
       "</table>\n",
       "</div>"
      ],
      "text/plain": [
       "                   Model  MAE_Train    MSE_Train  RMSE_Train    MAPE_Train  \\\n",
       "0           linear_model  62.536974  8089.990313   89.944373  2.837417e+15   \n",
       "1           DecisionTree   0.450450    11.261261    3.355780  2.860724e-04   \n",
       "2         DecisionTree 2  17.953729   743.120287   27.260233  9.381883e-02   \n",
       "3           RandomForest  15.079592   618.812389   24.875940  2.008362e+15   \n",
       "4  RandomForestRegressor  23.217252  1821.192372   42.675431  3.546465e+15   \n",
       "5                Bagging  13.225736   538.669389   23.209252  1.460627e+15   \n",
       "6       BaggingRegressor   0.450450    11.261261    3.355780  2.860724e-04   \n",
       "\n",
       "    MAE_Test      MSE_Test   RMSE_Test  MAPE_Test       R^2  \n",
       "0  84.650812  10746.384661  103.664771   0.728929  0.930376  \n",
       "1  54.489583   7323.365208   85.576663   0.163583  0.999903  \n",
       "2  53.976736   5652.632562   75.183991   0.174818  0.993605  \n",
       "3  40.350444   4691.986945   68.498080   0.103189  0.994674  \n",
       "4  43.191926   5856.285490   76.526371   0.114139  0.984326  \n",
       "5  40.767500   4177.160023   64.630953   0.100551  0.995364  \n",
       "6  65.848750  13986.002804  118.262432   0.169568  0.999903  "
      ]
     },
     "execution_count": 80,
     "metadata": {},
     "output_type": "execute_result"
    }
   ],
   "source": [
    "scores = get_metrics(y_train,X_train7, y_test,X_test7,\"BaggingRegressor\", scores)\n",
    "scores"
   ]
  },
  {
   "cell_type": "markdown",
   "id": "0eb93ebc",
   "metadata": {
    "papermill": {
     "duration": 0.03469,
     "end_time": "2023-03-04T17:08:12.194451",
     "exception": false,
     "start_time": "2023-03-04T17:08:12.159761",
     "status": "completed"
    },
    "tags": []
   },
   "source": [
    "ADA Boost"
   ]
  },
  {
   "cell_type": "code",
   "execution_count": 81,
   "id": "8a3120cf",
   "metadata": {
    "execution": {
     "iopub.execute_input": "2023-03-04T17:08:12.264605Z",
     "iopub.status.busy": "2023-03-04T17:08:12.264176Z",
     "iopub.status.idle": "2023-03-04T17:08:12.381038Z",
     "shell.execute_reply": "2023-03-04T17:08:12.379873Z"
    },
    "papermill": {
     "duration": 0.155128,
     "end_time": "2023-03-04T17:08:12.383922",
     "exception": false,
     "start_time": "2023-03-04T17:08:12.228794",
     "status": "completed"
    },
    "tags": []
   },
   "outputs": [],
   "source": [
    "from sklearn.ensemble import AdaBoostRegressor \n",
    "from xgboost import XGBRegressor\n",
    "from sklearn.model_selection import GridSearchCV"
   ]
  },
  {
   "cell_type": "code",
   "execution_count": 82,
   "id": "232e5659",
   "metadata": {
    "execution": {
     "iopub.execute_input": "2023-03-04T17:08:12.453708Z",
     "iopub.status.busy": "2023-03-04T17:08:12.452499Z",
     "iopub.status.idle": "2023-03-04T17:08:12.535085Z",
     "shell.execute_reply": "2023-03-04T17:08:12.533807Z"
    },
    "papermill": {
     "duration": 0.12011,
     "end_time": "2023-03-04T17:08:12.537545",
     "exception": false,
     "start_time": "2023-03-04T17:08:12.417435",
     "status": "completed"
    },
    "tags": []
   },
   "outputs": [
    {
     "data": {
      "text/plain": [
       "AdaBoostRegressor()"
      ]
     },
     "execution_count": 82,
     "metadata": {},
     "output_type": "execute_result"
    }
   ],
   "source": [
    "Ada=AdaBoostRegressor()\n",
    "Ada.fit(X_train_concat,y_train)"
   ]
  },
  {
   "cell_type": "code",
   "execution_count": 83,
   "id": "a10851f0",
   "metadata": {
    "execution": {
     "iopub.execute_input": "2023-03-04T17:08:12.607329Z",
     "iopub.status.busy": "2023-03-04T17:08:12.606892Z",
     "iopub.status.idle": "2023-03-04T17:08:12.626292Z",
     "shell.execute_reply": "2023-03-04T17:08:12.625128Z"
    },
    "papermill": {
     "duration": 0.057917,
     "end_time": "2023-03-04T17:08:12.629692",
     "exception": false,
     "start_time": "2023-03-04T17:08:12.571775",
     "status": "completed"
    },
    "tags": []
   },
   "outputs": [],
   "source": [
    "X_train8=Ada.predict(X_train_concat)\n",
    "X_test8=Ada.predict(X_test_cancat)"
   ]
  },
  {
   "cell_type": "code",
   "execution_count": 84,
   "id": "70556046",
   "metadata": {
    "execution": {
     "iopub.execute_input": "2023-03-04T17:08:12.700391Z",
     "iopub.status.busy": "2023-03-04T17:08:12.699951Z",
     "iopub.status.idle": "2023-03-04T17:08:12.724241Z",
     "shell.execute_reply": "2023-03-04T17:08:12.722892Z"
    },
    "papermill": {
     "duration": 0.062834,
     "end_time": "2023-03-04T17:08:12.727066",
     "exception": false,
     "start_time": "2023-03-04T17:08:12.664232",
     "status": "completed"
    },
    "tags": []
   },
   "outputs": [
    {
     "data": {
      "text/html": [
       "<div>\n",
       "<style scoped>\n",
       "    .dataframe tbody tr th:only-of-type {\n",
       "        vertical-align: middle;\n",
       "    }\n",
       "\n",
       "    .dataframe tbody tr th {\n",
       "        vertical-align: top;\n",
       "    }\n",
       "\n",
       "    .dataframe thead th {\n",
       "        text-align: right;\n",
       "    }\n",
       "</style>\n",
       "<table border=\"1\" class=\"dataframe\">\n",
       "  <thead>\n",
       "    <tr style=\"text-align: right;\">\n",
       "      <th></th>\n",
       "      <th>Model</th>\n",
       "      <th>MAE_Train</th>\n",
       "      <th>MSE_Train</th>\n",
       "      <th>RMSE_Train</th>\n",
       "      <th>MAPE_Train</th>\n",
       "      <th>MAE_Test</th>\n",
       "      <th>MSE_Test</th>\n",
       "      <th>RMSE_Test</th>\n",
       "      <th>MAPE_Test</th>\n",
       "      <th>R^2</th>\n",
       "    </tr>\n",
       "  </thead>\n",
       "  <tbody>\n",
       "    <tr>\n",
       "      <th>0</th>\n",
       "      <td>linear_model</td>\n",
       "      <td>62.536974</td>\n",
       "      <td>8089.990313</td>\n",
       "      <td>89.944373</td>\n",
       "      <td>2.837417e+15</td>\n",
       "      <td>84.650812</td>\n",
       "      <td>10746.384661</td>\n",
       "      <td>103.664771</td>\n",
       "      <td>0.728929</td>\n",
       "      <td>0.930376</td>\n",
       "    </tr>\n",
       "    <tr>\n",
       "      <th>1</th>\n",
       "      <td>DecisionTree</td>\n",
       "      <td>0.450450</td>\n",
       "      <td>11.261261</td>\n",
       "      <td>3.355780</td>\n",
       "      <td>2.860724e-04</td>\n",
       "      <td>54.489583</td>\n",
       "      <td>7323.365208</td>\n",
       "      <td>85.576663</td>\n",
       "      <td>0.163583</td>\n",
       "      <td>0.999903</td>\n",
       "    </tr>\n",
       "    <tr>\n",
       "      <th>2</th>\n",
       "      <td>DecisionTree 2</td>\n",
       "      <td>17.953729</td>\n",
       "      <td>743.120287</td>\n",
       "      <td>27.260233</td>\n",
       "      <td>9.381883e-02</td>\n",
       "      <td>53.976736</td>\n",
       "      <td>5652.632562</td>\n",
       "      <td>75.183991</td>\n",
       "      <td>0.174818</td>\n",
       "      <td>0.993605</td>\n",
       "    </tr>\n",
       "    <tr>\n",
       "      <th>3</th>\n",
       "      <td>RandomForest</td>\n",
       "      <td>15.079592</td>\n",
       "      <td>618.812389</td>\n",
       "      <td>24.875940</td>\n",
       "      <td>2.008362e+15</td>\n",
       "      <td>40.350444</td>\n",
       "      <td>4691.986945</td>\n",
       "      <td>68.498080</td>\n",
       "      <td>0.103189</td>\n",
       "      <td>0.994674</td>\n",
       "    </tr>\n",
       "    <tr>\n",
       "      <th>4</th>\n",
       "      <td>RandomForestRegressor</td>\n",
       "      <td>23.217252</td>\n",
       "      <td>1821.192372</td>\n",
       "      <td>42.675431</td>\n",
       "      <td>3.546465e+15</td>\n",
       "      <td>43.191926</td>\n",
       "      <td>5856.285490</td>\n",
       "      <td>76.526371</td>\n",
       "      <td>0.114139</td>\n",
       "      <td>0.984326</td>\n",
       "    </tr>\n",
       "    <tr>\n",
       "      <th>5</th>\n",
       "      <td>Bagging</td>\n",
       "      <td>13.225736</td>\n",
       "      <td>538.669389</td>\n",
       "      <td>23.209252</td>\n",
       "      <td>1.460627e+15</td>\n",
       "      <td>40.767500</td>\n",
       "      <td>4177.160023</td>\n",
       "      <td>64.630953</td>\n",
       "      <td>0.100551</td>\n",
       "      <td>0.995364</td>\n",
       "    </tr>\n",
       "    <tr>\n",
       "      <th>6</th>\n",
       "      <td>BaggingRegressor</td>\n",
       "      <td>0.450450</td>\n",
       "      <td>11.261261</td>\n",
       "      <td>3.355780</td>\n",
       "      <td>2.860724e-04</td>\n",
       "      <td>65.848750</td>\n",
       "      <td>13986.002804</td>\n",
       "      <td>118.262432</td>\n",
       "      <td>0.169568</td>\n",
       "      <td>0.999903</td>\n",
       "    </tr>\n",
       "    <tr>\n",
       "      <th>7</th>\n",
       "      <td>Ada Boost</td>\n",
       "      <td>28.568249</td>\n",
       "      <td>1310.986511</td>\n",
       "      <td>36.207548</td>\n",
       "      <td>3.268829e+15</td>\n",
       "      <td>48.531080</td>\n",
       "      <td>5528.063063</td>\n",
       "      <td>74.350945</td>\n",
       "      <td>0.491361</td>\n",
       "      <td>0.988717</td>\n",
       "    </tr>\n",
       "  </tbody>\n",
       "</table>\n",
       "</div>"
      ],
      "text/plain": [
       "                   Model  MAE_Train    MSE_Train  RMSE_Train    MAPE_Train  \\\n",
       "0           linear_model  62.536974  8089.990313   89.944373  2.837417e+15   \n",
       "1           DecisionTree   0.450450    11.261261    3.355780  2.860724e-04   \n",
       "2         DecisionTree 2  17.953729   743.120287   27.260233  9.381883e-02   \n",
       "3           RandomForest  15.079592   618.812389   24.875940  2.008362e+15   \n",
       "4  RandomForestRegressor  23.217252  1821.192372   42.675431  3.546465e+15   \n",
       "5                Bagging  13.225736   538.669389   23.209252  1.460627e+15   \n",
       "6       BaggingRegressor   0.450450    11.261261    3.355780  2.860724e-04   \n",
       "7              Ada Boost  28.568249  1310.986511   36.207548  3.268829e+15   \n",
       "\n",
       "    MAE_Test      MSE_Test   RMSE_Test  MAPE_Test       R^2  \n",
       "0  84.650812  10746.384661  103.664771   0.728929  0.930376  \n",
       "1  54.489583   7323.365208   85.576663   0.163583  0.999903  \n",
       "2  53.976736   5652.632562   75.183991   0.174818  0.993605  \n",
       "3  40.350444   4691.986945   68.498080   0.103189  0.994674  \n",
       "4  43.191926   5856.285490   76.526371   0.114139  0.984326  \n",
       "5  40.767500   4177.160023   64.630953   0.100551  0.995364  \n",
       "6  65.848750  13986.002804  118.262432   0.169568  0.999903  \n",
       "7  48.531080   5528.063063   74.350945   0.491361  0.988717  "
      ]
     },
     "execution_count": 84,
     "metadata": {},
     "output_type": "execute_result"
    }
   ],
   "source": [
    "scores = get_metrics(y_train,X_train8, y_test,X_test8,\"Ada Boost\", scores)\n",
    "scores"
   ]
  },
  {
   "cell_type": "code",
   "execution_count": 85,
   "id": "5bd818a0",
   "metadata": {
    "execution": {
     "iopub.execute_input": "2023-03-04T17:08:12.800849Z",
     "iopub.status.busy": "2023-03-04T17:08:12.799884Z",
     "iopub.status.idle": "2023-03-04T17:08:12.805644Z",
     "shell.execute_reply": "2023-03-04T17:08:12.804421Z"
    },
    "papermill": {
     "duration": 0.045738,
     "end_time": "2023-03-04T17:08:12.808261",
     "exception": false,
     "start_time": "2023-03-04T17:08:12.762523",
     "status": "completed"
    },
    "tags": []
   },
   "outputs": [],
   "source": [
    "#XGB boosting"
   ]
  },
  {
   "cell_type": "code",
   "execution_count": 86,
   "id": "3fb95bb4",
   "metadata": {
    "execution": {
     "iopub.execute_input": "2023-03-04T17:08:12.879452Z",
     "iopub.status.busy": "2023-03-04T17:08:12.878698Z",
     "iopub.status.idle": "2023-03-04T17:08:12.883735Z",
     "shell.execute_reply": "2023-03-04T17:08:12.882563Z"
    },
    "papermill": {
     "duration": 0.043656,
     "end_time": "2023-03-04T17:08:12.886461",
     "exception": false,
     "start_time": "2023-03-04T17:08:12.842805",
     "status": "completed"
    },
    "tags": []
   },
   "outputs": [],
   "source": [
    "XGB= XGBRegressor()"
   ]
  },
  {
   "cell_type": "code",
   "execution_count": 87,
   "id": "97543b7e",
   "metadata": {
    "execution": {
     "iopub.execute_input": "2023-03-04T17:08:12.963798Z",
     "iopub.status.busy": "2023-03-04T17:08:12.962888Z",
     "iopub.status.idle": "2023-03-04T17:08:14.266444Z",
     "shell.execute_reply": "2023-03-04T17:08:14.265303Z"
    },
    "papermill": {
     "duration": 1.348393,
     "end_time": "2023-03-04T17:08:14.269068",
     "exception": false,
     "start_time": "2023-03-04T17:08:12.920675",
     "status": "completed"
    },
    "tags": []
   },
   "outputs": [
    {
     "data": {
      "text/plain": [
       "XGBRegressor(base_score=0.5, booster='gbtree', callbacks=None,\n",
       "             colsample_bylevel=1, colsample_bynode=1, colsample_bytree=1,\n",
       "             early_stopping_rounds=None, enable_categorical=False,\n",
       "             eval_metric=None, gamma=0, gpu_id=-1, grow_policy='depthwise',\n",
       "             importance_type=None, interaction_constraints='',\n",
       "             learning_rate=0.300000012, max_bin=256, max_cat_to_onehot=4,\n",
       "             max_delta_step=0, max_depth=6, max_leaves=0, min_child_weight=1,\n",
       "             missing=nan, monotone_constraints='()', n_estimators=100, n_jobs=0,\n",
       "             num_parallel_tree=1, predictor='auto', random_state=0, reg_alpha=0,\n",
       "             reg_lambda=1, ...)"
      ]
     },
     "execution_count": 87,
     "metadata": {},
     "output_type": "execute_result"
    }
   ],
   "source": [
    "XGB.fit(X_train_concat,y_train)"
   ]
  },
  {
   "cell_type": "code",
   "execution_count": 88,
   "id": "1e25c6e2",
   "metadata": {
    "execution": {
     "iopub.execute_input": "2023-03-04T17:08:14.340313Z",
     "iopub.status.busy": "2023-03-04T17:08:14.339896Z",
     "iopub.status.idle": "2023-03-04T17:08:14.358748Z",
     "shell.execute_reply": "2023-03-04T17:08:14.357579Z"
    },
    "papermill": {
     "duration": 0.057989,
     "end_time": "2023-03-04T17:08:14.362302",
     "exception": false,
     "start_time": "2023-03-04T17:08:14.304313",
     "status": "completed"
    },
    "tags": []
   },
   "outputs": [],
   "source": [
    "X_train9=XGB.predict(X_train_concat)\n",
    "X_test9=XGB.predict(X_test_cancat)"
   ]
  },
  {
   "cell_type": "code",
   "execution_count": 89,
   "id": "ecb5cb30",
   "metadata": {
    "execution": {
     "iopub.execute_input": "2023-03-04T17:08:14.435536Z",
     "iopub.status.busy": "2023-03-04T17:08:14.435113Z",
     "iopub.status.idle": "2023-03-04T17:08:14.461420Z",
     "shell.execute_reply": "2023-03-04T17:08:14.460084Z"
    },
    "papermill": {
     "duration": 0.065015,
     "end_time": "2023-03-04T17:08:14.464090",
     "exception": false,
     "start_time": "2023-03-04T17:08:14.399075",
     "status": "completed"
    },
    "tags": []
   },
   "outputs": [
    {
     "data": {
      "text/html": [
       "<div>\n",
       "<style scoped>\n",
       "    .dataframe tbody tr th:only-of-type {\n",
       "        vertical-align: middle;\n",
       "    }\n",
       "\n",
       "    .dataframe tbody tr th {\n",
       "        vertical-align: top;\n",
       "    }\n",
       "\n",
       "    .dataframe thead th {\n",
       "        text-align: right;\n",
       "    }\n",
       "</style>\n",
       "<table border=\"1\" class=\"dataframe\">\n",
       "  <thead>\n",
       "    <tr style=\"text-align: right;\">\n",
       "      <th></th>\n",
       "      <th>Model</th>\n",
       "      <th>MAE_Train</th>\n",
       "      <th>MSE_Train</th>\n",
       "      <th>RMSE_Train</th>\n",
       "      <th>MAPE_Train</th>\n",
       "      <th>MAE_Test</th>\n",
       "      <th>MSE_Test</th>\n",
       "      <th>RMSE_Test</th>\n",
       "      <th>MAPE_Test</th>\n",
       "      <th>R^2</th>\n",
       "    </tr>\n",
       "  </thead>\n",
       "  <tbody>\n",
       "    <tr>\n",
       "      <th>0</th>\n",
       "      <td>linear_model</td>\n",
       "      <td>62.536974</td>\n",
       "      <td>8089.990313</td>\n",
       "      <td>89.944373</td>\n",
       "      <td>2.837417e+15</td>\n",
       "      <td>84.650812</td>\n",
       "      <td>10746.384661</td>\n",
       "      <td>103.664771</td>\n",
       "      <td>0.728929</td>\n",
       "      <td>0.930376</td>\n",
       "    </tr>\n",
       "    <tr>\n",
       "      <th>1</th>\n",
       "      <td>DecisionTree</td>\n",
       "      <td>0.450450</td>\n",
       "      <td>11.261261</td>\n",
       "      <td>3.355780</td>\n",
       "      <td>2.860724e-04</td>\n",
       "      <td>54.489583</td>\n",
       "      <td>7323.365208</td>\n",
       "      <td>85.576663</td>\n",
       "      <td>0.163583</td>\n",
       "      <td>0.999903</td>\n",
       "    </tr>\n",
       "    <tr>\n",
       "      <th>2</th>\n",
       "      <td>DecisionTree 2</td>\n",
       "      <td>17.953729</td>\n",
       "      <td>743.120287</td>\n",
       "      <td>27.260233</td>\n",
       "      <td>9.381883e-02</td>\n",
       "      <td>53.976736</td>\n",
       "      <td>5652.632562</td>\n",
       "      <td>75.183991</td>\n",
       "      <td>0.174818</td>\n",
       "      <td>0.993605</td>\n",
       "    </tr>\n",
       "    <tr>\n",
       "      <th>3</th>\n",
       "      <td>RandomForest</td>\n",
       "      <td>15.079592</td>\n",
       "      <td>618.812389</td>\n",
       "      <td>24.875940</td>\n",
       "      <td>2.008362e+15</td>\n",
       "      <td>40.350444</td>\n",
       "      <td>4691.986945</td>\n",
       "      <td>68.498080</td>\n",
       "      <td>0.103189</td>\n",
       "      <td>0.994674</td>\n",
       "    </tr>\n",
       "    <tr>\n",
       "      <th>4</th>\n",
       "      <td>RandomForestRegressor</td>\n",
       "      <td>23.217252</td>\n",
       "      <td>1821.192372</td>\n",
       "      <td>42.675431</td>\n",
       "      <td>3.546465e+15</td>\n",
       "      <td>43.191926</td>\n",
       "      <td>5856.285490</td>\n",
       "      <td>76.526371</td>\n",
       "      <td>0.114139</td>\n",
       "      <td>0.984326</td>\n",
       "    </tr>\n",
       "    <tr>\n",
       "      <th>5</th>\n",
       "      <td>Bagging</td>\n",
       "      <td>13.225736</td>\n",
       "      <td>538.669389</td>\n",
       "      <td>23.209252</td>\n",
       "      <td>1.460627e+15</td>\n",
       "      <td>40.767500</td>\n",
       "      <td>4177.160023</td>\n",
       "      <td>64.630953</td>\n",
       "      <td>0.100551</td>\n",
       "      <td>0.995364</td>\n",
       "    </tr>\n",
       "    <tr>\n",
       "      <th>6</th>\n",
       "      <td>BaggingRegressor</td>\n",
       "      <td>0.450450</td>\n",
       "      <td>11.261261</td>\n",
       "      <td>3.355780</td>\n",
       "      <td>2.860724e-04</td>\n",
       "      <td>65.848750</td>\n",
       "      <td>13986.002804</td>\n",
       "      <td>118.262432</td>\n",
       "      <td>0.169568</td>\n",
       "      <td>0.999903</td>\n",
       "    </tr>\n",
       "    <tr>\n",
       "      <th>7</th>\n",
       "      <td>Ada Boost</td>\n",
       "      <td>28.568249</td>\n",
       "      <td>1310.986511</td>\n",
       "      <td>36.207548</td>\n",
       "      <td>3.268829e+15</td>\n",
       "      <td>48.531080</td>\n",
       "      <td>5528.063063</td>\n",
       "      <td>74.350945</td>\n",
       "      <td>0.491361</td>\n",
       "      <td>0.988717</td>\n",
       "    </tr>\n",
       "    <tr>\n",
       "      <th>8</th>\n",
       "      <td>XGB</td>\n",
       "      <td>0.473444</td>\n",
       "      <td>11.262376</td>\n",
       "      <td>3.355946</td>\n",
       "      <td>2.192302e+12</td>\n",
       "      <td>48.006010</td>\n",
       "      <td>5198.941850</td>\n",
       "      <td>72.103688</td>\n",
       "      <td>0.134013</td>\n",
       "      <td>0.999903</td>\n",
       "    </tr>\n",
       "  </tbody>\n",
       "</table>\n",
       "</div>"
      ],
      "text/plain": [
       "                   Model  MAE_Train    MSE_Train  RMSE_Train    MAPE_Train  \\\n",
       "0           linear_model  62.536974  8089.990313   89.944373  2.837417e+15   \n",
       "1           DecisionTree   0.450450    11.261261    3.355780  2.860724e-04   \n",
       "2         DecisionTree 2  17.953729   743.120287   27.260233  9.381883e-02   \n",
       "3           RandomForest  15.079592   618.812389   24.875940  2.008362e+15   \n",
       "4  RandomForestRegressor  23.217252  1821.192372   42.675431  3.546465e+15   \n",
       "5                Bagging  13.225736   538.669389   23.209252  1.460627e+15   \n",
       "6       BaggingRegressor   0.450450    11.261261    3.355780  2.860724e-04   \n",
       "7              Ada Boost  28.568249  1310.986511   36.207548  3.268829e+15   \n",
       "8                   XGB    0.473444    11.262376    3.355946  2.192302e+12   \n",
       "\n",
       "    MAE_Test      MSE_Test   RMSE_Test  MAPE_Test       R^2  \n",
       "0  84.650812  10746.384661  103.664771   0.728929  0.930376  \n",
       "1  54.489583   7323.365208   85.576663   0.163583  0.999903  \n",
       "2  53.976736   5652.632562   75.183991   0.174818  0.993605  \n",
       "3  40.350444   4691.986945   68.498080   0.103189  0.994674  \n",
       "4  43.191926   5856.285490   76.526371   0.114139  0.984326  \n",
       "5  40.767500   4177.160023   64.630953   0.100551  0.995364  \n",
       "6  65.848750  13986.002804  118.262432   0.169568  0.999903  \n",
       "7  48.531080   5528.063063   74.350945   0.491361  0.988717  \n",
       "8  48.006010   5198.941850   72.103688   0.134013  0.999903  "
      ]
     },
     "execution_count": 89,
     "metadata": {},
     "output_type": "execute_result"
    }
   ],
   "source": [
    "scores = get_metrics(y_train,X_train9, y_test,X_test9,\"XGB \", scores)\n",
    "scores"
   ]
  },
  {
   "cell_type": "code",
   "execution_count": 90,
   "id": "617f63d4",
   "metadata": {
    "execution": {
     "iopub.execute_input": "2023-03-04T17:08:14.536500Z",
     "iopub.status.busy": "2023-03-04T17:08:14.535715Z",
     "iopub.status.idle": "2023-03-04T17:08:14.542579Z",
     "shell.execute_reply": "2023-03-04T17:08:14.541379Z"
    },
    "papermill": {
     "duration": 0.046163,
     "end_time": "2023-03-04T17:08:14.545183",
     "exception": false,
     "start_time": "2023-03-04T17:08:14.499020",
     "status": "completed"
    },
    "tags": []
   },
   "outputs": [],
   "source": [
    "XGB1 = XGBRegressor(n_jobs=-1)\n",
    " \n",
    "# Use a grid over parameters of interest\n",
    "param_grid = {\n",
    "    'colsample_bytree': np.linspace(0.6, 0.8, 2),\n",
    "    'n_estimators': [50, 100],\n",
    "    'max_depth': [5, 6]}\n",
    "\n",
    "CV_XGB = GridSearchCV(estimator=XGB1, param_grid=param_grid, cv=3)"
   ]
  },
  {
   "cell_type": "code",
   "execution_count": 91,
   "id": "05ca94ba",
   "metadata": {
    "execution": {
     "iopub.execute_input": "2023-03-04T17:08:14.626840Z",
     "iopub.status.busy": "2023-03-04T17:08:14.626456Z",
     "iopub.status.idle": "2023-03-04T17:08:20.008865Z",
     "shell.execute_reply": "2023-03-04T17:08:20.007812Z"
    },
    "papermill": {
     "duration": 5.425272,
     "end_time": "2023-03-04T17:08:20.011890",
     "exception": false,
     "start_time": "2023-03-04T17:08:14.586618",
     "status": "completed"
    },
    "tags": []
   },
   "outputs": [
    {
     "data": {
      "text/plain": [
       "GridSearchCV(cv=3,\n",
       "             estimator=XGBRegressor(base_score=None, booster=None,\n",
       "                                    callbacks=None, colsample_bylevel=None,\n",
       "                                    colsample_bynode=None,\n",
       "                                    colsample_bytree=None,\n",
       "                                    early_stopping_rounds=None,\n",
       "                                    enable_categorical=False, eval_metric=None,\n",
       "                                    gamma=None, gpu_id=None, grow_policy=None,\n",
       "                                    importance_type=None,\n",
       "                                    interaction_constraints=None,\n",
       "                                    learning_rate=None, max_bin=None,\n",
       "                                    max_cat_to_onehot=None, max_delta_step=None,\n",
       "                                    max_depth=None, max_leaves=None,\n",
       "                                    min_child_weight=None, missing=nan,\n",
       "                                    monotone_constraints=None, n_estimators=100,\n",
       "                                    n_jobs=-1, num_parallel_tree=None,\n",
       "                                    predictor=None, random_state=None,\n",
       "                                    reg_alpha=None, reg_lambda=None, ...),\n",
       "             param_grid={'colsample_bytree': array([0.6, 0.8]),\n",
       "                         'max_depth': [5, 6], 'n_estimators': [50, 100]})"
      ]
     },
     "execution_count": 91,
     "metadata": {},
     "output_type": "execute_result"
    }
   ],
   "source": [
    "CV_XGB.fit(X_train_concat,y_train)"
   ]
  },
  {
   "cell_type": "code",
   "execution_count": 92,
   "id": "0957f20e",
   "metadata": {
    "execution": {
     "iopub.execute_input": "2023-03-04T17:08:20.086112Z",
     "iopub.status.busy": "2023-03-04T17:08:20.085069Z",
     "iopub.status.idle": "2023-03-04T17:08:20.109172Z",
     "shell.execute_reply": "2023-03-04T17:08:20.107924Z"
    },
    "papermill": {
     "duration": 0.064707,
     "end_time": "2023-03-04T17:08:20.112118",
     "exception": false,
     "start_time": "2023-03-04T17:08:20.047411",
     "status": "completed"
    },
    "tags": []
   },
   "outputs": [],
   "source": [
    "X_train10=CV_XGB.predict(X_train_concat)\n",
    "X_test10=CV_XGB.predict(X_test_cancat)"
   ]
  },
  {
   "cell_type": "code",
   "execution_count": 93,
   "id": "56564242",
   "metadata": {
    "execution": {
     "iopub.execute_input": "2023-03-04T17:08:20.185930Z",
     "iopub.status.busy": "2023-03-04T17:08:20.185482Z",
     "iopub.status.idle": "2023-03-04T17:08:20.212105Z",
     "shell.execute_reply": "2023-03-04T17:08:20.210559Z"
    },
    "papermill": {
     "duration": 0.065513,
     "end_time": "2023-03-04T17:08:20.214715",
     "exception": false,
     "start_time": "2023-03-04T17:08:20.149202",
     "status": "completed"
    },
    "tags": []
   },
   "outputs": [
    {
     "data": {
      "text/html": [
       "<div>\n",
       "<style scoped>\n",
       "    .dataframe tbody tr th:only-of-type {\n",
       "        vertical-align: middle;\n",
       "    }\n",
       "\n",
       "    .dataframe tbody tr th {\n",
       "        vertical-align: top;\n",
       "    }\n",
       "\n",
       "    .dataframe thead th {\n",
       "        text-align: right;\n",
       "    }\n",
       "</style>\n",
       "<table border=\"1\" class=\"dataframe\">\n",
       "  <thead>\n",
       "    <tr style=\"text-align: right;\">\n",
       "      <th></th>\n",
       "      <th>Model</th>\n",
       "      <th>MAE_Train</th>\n",
       "      <th>MSE_Train</th>\n",
       "      <th>RMSE_Train</th>\n",
       "      <th>MAPE_Train</th>\n",
       "      <th>MAE_Test</th>\n",
       "      <th>MSE_Test</th>\n",
       "      <th>RMSE_Test</th>\n",
       "      <th>MAPE_Test</th>\n",
       "      <th>R^2</th>\n",
       "    </tr>\n",
       "  </thead>\n",
       "  <tbody>\n",
       "    <tr>\n",
       "      <th>0</th>\n",
       "      <td>linear_model</td>\n",
       "      <td>62.536974</td>\n",
       "      <td>8089.990313</td>\n",
       "      <td>89.944373</td>\n",
       "      <td>2.837417e+15</td>\n",
       "      <td>84.650812</td>\n",
       "      <td>10746.384661</td>\n",
       "      <td>103.664771</td>\n",
       "      <td>0.728929</td>\n",
       "      <td>0.930376</td>\n",
       "    </tr>\n",
       "    <tr>\n",
       "      <th>1</th>\n",
       "      <td>DecisionTree</td>\n",
       "      <td>0.450450</td>\n",
       "      <td>11.261261</td>\n",
       "      <td>3.355780</td>\n",
       "      <td>2.860724e-04</td>\n",
       "      <td>54.489583</td>\n",
       "      <td>7323.365208</td>\n",
       "      <td>85.576663</td>\n",
       "      <td>0.163583</td>\n",
       "      <td>0.999903</td>\n",
       "    </tr>\n",
       "    <tr>\n",
       "      <th>2</th>\n",
       "      <td>DecisionTree 2</td>\n",
       "      <td>17.953729</td>\n",
       "      <td>743.120287</td>\n",
       "      <td>27.260233</td>\n",
       "      <td>9.381883e-02</td>\n",
       "      <td>53.976736</td>\n",
       "      <td>5652.632562</td>\n",
       "      <td>75.183991</td>\n",
       "      <td>0.174818</td>\n",
       "      <td>0.993605</td>\n",
       "    </tr>\n",
       "    <tr>\n",
       "      <th>3</th>\n",
       "      <td>RandomForest</td>\n",
       "      <td>15.079592</td>\n",
       "      <td>618.812389</td>\n",
       "      <td>24.875940</td>\n",
       "      <td>2.008362e+15</td>\n",
       "      <td>40.350444</td>\n",
       "      <td>4691.986945</td>\n",
       "      <td>68.498080</td>\n",
       "      <td>0.103189</td>\n",
       "      <td>0.994674</td>\n",
       "    </tr>\n",
       "    <tr>\n",
       "      <th>4</th>\n",
       "      <td>RandomForestRegressor</td>\n",
       "      <td>23.217252</td>\n",
       "      <td>1821.192372</td>\n",
       "      <td>42.675431</td>\n",
       "      <td>3.546465e+15</td>\n",
       "      <td>43.191926</td>\n",
       "      <td>5856.285490</td>\n",
       "      <td>76.526371</td>\n",
       "      <td>0.114139</td>\n",
       "      <td>0.984326</td>\n",
       "    </tr>\n",
       "    <tr>\n",
       "      <th>5</th>\n",
       "      <td>Bagging</td>\n",
       "      <td>13.225736</td>\n",
       "      <td>538.669389</td>\n",
       "      <td>23.209252</td>\n",
       "      <td>1.460627e+15</td>\n",
       "      <td>40.767500</td>\n",
       "      <td>4177.160023</td>\n",
       "      <td>64.630953</td>\n",
       "      <td>0.100551</td>\n",
       "      <td>0.995364</td>\n",
       "    </tr>\n",
       "    <tr>\n",
       "      <th>6</th>\n",
       "      <td>BaggingRegressor</td>\n",
       "      <td>0.450450</td>\n",
       "      <td>11.261261</td>\n",
       "      <td>3.355780</td>\n",
       "      <td>2.860724e-04</td>\n",
       "      <td>65.848750</td>\n",
       "      <td>13986.002804</td>\n",
       "      <td>118.262432</td>\n",
       "      <td>0.169568</td>\n",
       "      <td>0.999903</td>\n",
       "    </tr>\n",
       "    <tr>\n",
       "      <th>7</th>\n",
       "      <td>Ada Boost</td>\n",
       "      <td>28.568249</td>\n",
       "      <td>1310.986511</td>\n",
       "      <td>36.207548</td>\n",
       "      <td>3.268829e+15</td>\n",
       "      <td>48.531080</td>\n",
       "      <td>5528.063063</td>\n",
       "      <td>74.350945</td>\n",
       "      <td>0.491361</td>\n",
       "      <td>0.988717</td>\n",
       "    </tr>\n",
       "    <tr>\n",
       "      <th>8</th>\n",
       "      <td>XGB</td>\n",
       "      <td>0.473444</td>\n",
       "      <td>11.262376</td>\n",
       "      <td>3.355946</td>\n",
       "      <td>2.192302e+12</td>\n",
       "      <td>48.006010</td>\n",
       "      <td>5198.941850</td>\n",
       "      <td>72.103688</td>\n",
       "      <td>0.134013</td>\n",
       "      <td>0.999903</td>\n",
       "    </tr>\n",
       "    <tr>\n",
       "      <th>9</th>\n",
       "      <td>XGB Regressor</td>\n",
       "      <td>1.642588</td>\n",
       "      <td>14.022014</td>\n",
       "      <td>3.744598</td>\n",
       "      <td>1.620512e+14</td>\n",
       "      <td>44.156542</td>\n",
       "      <td>4721.708888</td>\n",
       "      <td>68.714692</td>\n",
       "      <td>0.132219</td>\n",
       "      <td>0.999879</td>\n",
       "    </tr>\n",
       "  </tbody>\n",
       "</table>\n",
       "</div>"
      ],
      "text/plain": [
       "                   Model  MAE_Train    MSE_Train  RMSE_Train    MAPE_Train  \\\n",
       "0           linear_model  62.536974  8089.990313   89.944373  2.837417e+15   \n",
       "1           DecisionTree   0.450450    11.261261    3.355780  2.860724e-04   \n",
       "2         DecisionTree 2  17.953729   743.120287   27.260233  9.381883e-02   \n",
       "3           RandomForest  15.079592   618.812389   24.875940  2.008362e+15   \n",
       "4  RandomForestRegressor  23.217252  1821.192372   42.675431  3.546465e+15   \n",
       "5                Bagging  13.225736   538.669389   23.209252  1.460627e+15   \n",
       "6       BaggingRegressor   0.450450    11.261261    3.355780  2.860724e-04   \n",
       "7              Ada Boost  28.568249  1310.986511   36.207548  3.268829e+15   \n",
       "8                   XGB    0.473444    11.262376    3.355946  2.192302e+12   \n",
       "9          XGB Regressor   1.642588    14.022014    3.744598  1.620512e+14   \n",
       "\n",
       "    MAE_Test      MSE_Test   RMSE_Test  MAPE_Test       R^2  \n",
       "0  84.650812  10746.384661  103.664771   0.728929  0.930376  \n",
       "1  54.489583   7323.365208   85.576663   0.163583  0.999903  \n",
       "2  53.976736   5652.632562   75.183991   0.174818  0.993605  \n",
       "3  40.350444   4691.986945   68.498080   0.103189  0.994674  \n",
       "4  43.191926   5856.285490   76.526371   0.114139  0.984326  \n",
       "5  40.767500   4177.160023   64.630953   0.100551  0.995364  \n",
       "6  65.848750  13986.002804  118.262432   0.169568  0.999903  \n",
       "7  48.531080   5528.063063   74.350945   0.491361  0.988717  \n",
       "8  48.006010   5198.941850   72.103688   0.134013  0.999903  \n",
       "9  44.156542   4721.708888   68.714692   0.132219  0.999879  "
      ]
     },
     "execution_count": 93,
     "metadata": {},
     "output_type": "execute_result"
    }
   ],
   "source": [
    "scores = get_metrics(y_train,X_train10, y_test,X_test10,\"XGB Regressor\", scores)\n",
    "scores"
   ]
  },
  {
   "cell_type": "markdown",
   "id": "ee65fdfa",
   "metadata": {
    "papermill": {
     "duration": 0.035637,
     "end_time": "2023-03-04T17:08:20.286126",
     "exception": false,
     "start_time": "2023-03-04T17:08:20.250489",
     "status": "completed"
    },
    "tags": []
   },
   "source": [
    "SUPPORT VECTOR MACHINE"
   ]
  },
  {
   "cell_type": "code",
   "execution_count": 94,
   "id": "ae49f76a",
   "metadata": {
    "execution": {
     "iopub.execute_input": "2023-03-04T17:08:20.359574Z",
     "iopub.status.busy": "2023-03-04T17:08:20.359092Z",
     "iopub.status.idle": "2023-03-04T17:08:20.364103Z",
     "shell.execute_reply": "2023-03-04T17:08:20.363130Z"
    },
    "papermill": {
     "duration": 0.044474,
     "end_time": "2023-03-04T17:08:20.366647",
     "exception": false,
     "start_time": "2023-03-04T17:08:20.322173",
     "status": "completed"
    },
    "tags": []
   },
   "outputs": [],
   "source": [
    "from sklearn.svm import SVR"
   ]
  },
  {
   "cell_type": "code",
   "execution_count": null,
   "id": "f5b47739",
   "metadata": {
    "papermill": {
     "duration": 0.034942,
     "end_time": "2023-03-04T17:08:20.436728",
     "exception": false,
     "start_time": "2023-03-04T17:08:20.401786",
     "status": "completed"
    },
    "tags": []
   },
   "outputs": [],
   "source": []
  },
  {
   "cell_type": "code",
   "execution_count": 95,
   "id": "93611fe4",
   "metadata": {
    "execution": {
     "iopub.execute_input": "2023-03-04T17:08:20.509243Z",
     "iopub.status.busy": "2023-03-04T17:08:20.507928Z",
     "iopub.status.idle": "2023-03-04T17:08:20.514694Z",
     "shell.execute_reply": "2023-03-04T17:08:20.513498Z"
    },
    "papermill": {
     "duration": 0.045684,
     "end_time": "2023-03-04T17:08:20.517239",
     "exception": false,
     "start_time": "2023-03-04T17:08:20.471555",
     "status": "completed"
    },
    "tags": []
   },
   "outputs": [],
   "source": [
    "svc_grid = SVR()\n",
    " \n",
    "param_grid = { \n",
    "                'C': [0.001, 0.01, 0.1, 1, 10, 100 ],\n",
    "                'gamma': [0, 0.0001, 0.001, 0.01, 0.1, 1, 10, 100], \n",
    "                'kernel':['linear','rbf','poly']\n",
    "             }\n",
    "             \n",
    "\n",
    "svc_cv_grid = GridSearchCV(estimator =svc_grid, param_grid=param_grid, cv = 3)"
   ]
  },
  {
   "cell_type": "code",
   "execution_count": 96,
   "id": "112631b3",
   "metadata": {
    "execution": {
     "iopub.execute_input": "2023-03-04T17:08:20.589672Z",
     "iopub.status.busy": "2023-03-04T17:08:20.589248Z",
     "iopub.status.idle": "2023-03-04T18:27:01.184861Z",
     "shell.execute_reply": "2023-03-04T18:27:01.183736Z"
    },
    "papermill": {
     "duration": 4720.669718,
     "end_time": "2023-03-04T18:27:01.222725",
     "exception": false,
     "start_time": "2023-03-04T17:08:20.553007",
     "status": "completed"
    },
    "tags": []
   },
   "outputs": [
    {
     "data": {
      "text/plain": [
       "GridSearchCV(cv=3, estimator=SVR(),\n",
       "             param_grid={'C': [0.001, 0.01, 0.1, 1, 10, 100],\n",
       "                         'gamma': [0, 0.0001, 0.001, 0.01, 0.1, 1, 10, 100],\n",
       "                         'kernel': ['linear', 'rbf', 'poly']})"
      ]
     },
     "execution_count": 96,
     "metadata": {},
     "output_type": "execute_result"
    }
   ],
   "source": [
    "svc_cv_grid.fit(X_train_concat,y_train)"
   ]
  },
  {
   "cell_type": "code",
   "execution_count": null,
   "id": "3ae58ade",
   "metadata": {
    "papermill": {
     "duration": 0.034442,
     "end_time": "2023-03-04T18:27:01.291705",
     "exception": false,
     "start_time": "2023-03-04T18:27:01.257263",
     "status": "completed"
    },
    "tags": []
   },
   "outputs": [],
   "source": []
  }
 ],
 "metadata": {
  "kernelspec": {
   "display_name": "Python 3",
   "language": "python",
   "name": "python3"
  },
  "language_info": {
   "codemirror_mode": {
    "name": "ipython",
    "version": 3
   },
   "file_extension": ".py",
   "mimetype": "text/x-python",
   "name": "python",
   "nbconvert_exporter": "python",
   "pygments_lexer": "ipython3",
   "version": "3.7.12"
  },
  "papermill": {
   "default_parameters": {},
   "duration": 4769.159384,
   "end_time": "2023-03-04T18:27:03.958813",
   "environment_variables": {},
   "exception": null,
   "input_path": "__notebook__.ipynb",
   "output_path": "__notebook__.ipynb",
   "parameters": {},
   "start_time": "2023-03-04T17:07:34.799429",
   "version": "2.4.0"
  }
 },
 "nbformat": 4,
 "nbformat_minor": 5
}
